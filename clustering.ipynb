{
 "cells": [
  {
   "cell_type": "code",
   "execution_count": 1,
   "metadata": {},
   "outputs": [
    {
     "name": "stderr",
     "output_type": "stream",
     "text": [
      "/home1/efeghhi/.conda/envs/env3/lib/python3.7/site-packages/ptsa/data/timeseries.py:526: FutureWarning: xarray subclass TimeSeriesX should explicitly define __slots__\n",
      "  class TimeSeriesX(TimeSeries):\n",
      "/home1/efeghhi/.conda/envs/env3/lib/python3.7/site-packages/statsmodels/tools/_testing.py:19: FutureWarning: pandas.util.testing is deprecated. Use the functions in the public API at pandas.testing instead.\n",
      "  import pandas.util.testing as tm\n"
     ]
    }
   ],
   "source": [
    "import pandas as pd \n",
    "pd.set_option('display.max_columns', 30); pd.set_option('display.max_rows', 100)\n",
    "from cmlreaders import get_data_index\n",
    "import xarray as xarray\n",
    "import matplotlib.pyplot as plt\n",
    "from pylab import *\n",
    "plt.rcParams['pdf.fonttype'] = 42; plt.rcParams['ps.fonttype'] = 42 # fix fonts for Illustrator\n",
    "from general import *\n",
    "from SWRmodule import *\n",
    "from HFA_ripples_analysis import HFA_ripples_analysis\n",
    "import pickle"
   ]
  },
  {
   "cell_type": "code",
   "execution_count": null,
   "metadata": {},
   "outputs": [],
   "source": [
    "def convert_elec_2d(array_3d):\n",
    "    \n",
    "    array_3d_swapped = np.swapaxes(array_3d, 0, 1)\n",
    "    return np.reshape(array_3d_swapped, (-1, array_3d_swapped.shape[-1]))\n",
    "\n",
    "def load_data(dir, region_name):\n",
    "    \n",
    "    HFA = []\n",
    "    ripples = []\n",
    "    theta_phase = []\n",
    "    word_correct_array = []\n",
    "    clustered_array = []\n",
    "    recalled_position_array = []\n",
    "    list_num_key = []\n",
    "    elec_names = []\n",
    "    subj_names = []\n",
    "    sess_names = []\n",
    "    \n",
    "    file_list = os.listdir(dir)\n",
    "    for f in file_list:\n",
    "        \n",
    "        if region_name not in f:\n",
    "            continue\n",
    "        \n",
    "        # Open the pickle file for reading\n",
    "        with open(f'{catFR_dir}/{f}', 'rb') as pickle_file:\n",
    "            loaded_data = pickle.load(pickle_file)    \n",
    "            \n",
    "            \n",
    "        num_trials = loaded_data['HFA_pow'].shape[0]\n",
    "        \n",
    "        # For these arrays - HFA, theta phase, and ripples,\n",
    "        # the original shape is num_trials x num_elec x num_timesteps\n",
    "        # we swap the first two axes and then reshape to 2d\n",
    "        # each num trials entries will then correspond the neural data from \n",
    "        # a given electrode\n",
    "        HFA.append(convert_elec_2d(loaded_data['HFA_pow']))\n",
    "        theta_phase.append(convert_elec_2d(loaded_data['theta_phase_array']))\n",
    "        ripples.append(convert_elec_2d(loaded_data['ripple_array']))\n",
    "        \n",
    "        # list where number of elements equals num_elec\n",
    "        # we want to vstack these elements so they align with the values above \n",
    "        # i.e. will be a 1d vector of size num_elec x num_trials \n",
    "        word_correct_array.extend(np.vstack(loaded_data['encoded_word_key_array']).reshape(-1))\n",
    "        \n",
    "        # these are already of the correct shape (1d vector of size num_elec x num_trials)\n",
    "        # so just extend the list to accomadate them\n",
    "        clustered_array.extend(loaded_data['semantic_clustering_key'])\n",
    "        recalled_position_array.extend(loaded_data['recall_position_array'])\n",
    "        list_num_key.extend(loaded_data['list_num_key'])\n",
    "        \n",
    "        # dimension number of electrodes, so need to expand out\n",
    "        # each element num_trias times \n",
    "        elec_names.extend(np.repeat(loaded_data['elec_names'], num_trials))\n",
    "        subj_names.extend(np.repeat(loaded_data['sub_names'], num_trials))\n",
    "        sess_names.extend(np.repeat(loaded_data['sub_sess_names'], num_trials))\n",
    "        \n",
    "    HFA_np = np.vstack(HFA)\n",
    "    theta_phase_np = np.vstack(theta_phase)\n",
    "    ripples_np = np.vstack(ripples)\n",
    "    word_correct_np = np.asarray(word_correct_array)\n",
    "    clustered_np = np.asarray(clustered_array)\n",
    "    recalled_np = np.asarray(recalled_position_array)\n",
    "    elec_names_np = np.asarray(elec_names)\n",
    "    subj_names_np = np.asarray(subj_names)\n",
    "    sess_names_np = np.asarray(sess_names)   \n",
    "            \n",
    "            \n",
    "        "
   ]
  },
  {
   "cell_type": "code",
   "execution_count": null,
   "metadata": {},
   "outputs": [],
   "source": [
    "catFR_dir = '/scratch/efeghhi/catFR1/ENCODING'\n",
    "region_name = 'HPC'\n"
   ]
  },
  {
   "cell_type": "code",
   "execution_count": 2,
   "metadata": {},
   "outputs": [],
   "source": [
    "\n",
    "  "
   ]
  },
  {
   "cell_type": "code",
   "execution_count": 3,
   "metadata": {},
   "outputs": [],
   "source": [
    "ca1 = ['\"ca1\"', 'left ca1', 'right ca1']\n",
    "non_ca1 = ['\"dg\"', '\"sub\"', 'left ca2', 'left ca3', 'left dg', 'right dg', 'right sub', 'left sub']"
   ]
  },
  {
   "cell_type": "code",
   "execution_count": 4,
   "metadata": {},
   "outputs": [],
   "source": []
  },
  {
   "cell_type": "code",
   "execution_count": 5,
   "metadata": {},
   "outputs": [],
   "source": [
    "word_correct_np_0_1 = np.where(word_correct_np>0, 1, 0)"
   ]
  },
  {
   "cell_type": "code",
   "execution_count": 6,
   "metadata": {},
   "outputs": [],
   "source": [
    "def remove_lists_not_ll(list_num_key, list_length=12):\n",
    "        \n",
    "    list_num = 1 \n",
    "    ll = 0 # position in list\n",
    "    num_lists_wrong = 0\n",
    "    mask_idxs_all = []\n",
    "    \n",
    "    # shape num_trials, where each element is the list\n",
    "    # number that this trial corresponds to\n",
    "    list_num_key_np_all = np.array(list_num_key)\n",
    "    \n",
    "    for i in range(list_num_key_np_all.shape[0]):\n",
    "        \n",
    "        # increment ll when on the same list\n",
    "        if list_num_key_np_all[i] == list_num:\n",
    "            ll += 1 \n",
    "            \n",
    "        # moving to another list\n",
    "        else:\n",
    "            # if list was not of list length, add it to the mask\n",
    "            if ll != list_length:\n",
    "                mask_idxs = [x for x in range(i-ll, i)]\n",
    "                mask_idxs_all.append(mask_idxs)\n",
    "                num_lists_wrong += 1\n",
    "                \n",
    "            # update list_num and ll\n",
    "            list_num = list_num_key_np_all[i]\n",
    "            ll = 1  \n",
    "            \n",
    "    return np.hstack(mask_idxs_all)"
   ]
  },
  {
   "cell_type": "code",
   "execution_count": 7,
   "metadata": {},
   "outputs": [],
   "source": [
    "mask_idxs = remove_lists_not_ll(list_num_key)"
   ]
  },
  {
   "cell_type": "code",
   "execution_count": 8,
   "metadata": {},
   "outputs": [],
   "source": [
    "analysis_one = {'HFA': HFA_np, 'theta_phase': theta_phase_np, 'ripples': ripples_np, \n",
    "                'clustered': clustered_np, 'word_correct': word_correct_np, \n",
    "                'recalled': recalled_np, 'elec_names': elec_names_np, 'subj': subj_names_np, \n",
    "                'sess': sess_names_np}\n",
    "analysis_one_masked = {}\n",
    "\n",
    "for key, val in analysis_one.items():\n",
    "    analysis_one_masked[key] = np.delete(val, mask_idxs, axis=0)"
   ]
  },
  {
   "cell_type": "code",
   "execution_count": 9,
   "metadata": {},
   "outputs": [
    {
     "data": {
      "text/plain": [
       "19"
      ]
     },
     "execution_count": 9,
     "metadata": {},
     "output_type": "execute_result"
    }
   ],
   "source": [
    "analysis_one['HFA'].shape[0] - analysis_one_masked['HFA'].shape[0]"
   ]
  },
  {
   "cell_type": "code",
   "execution_count": 10,
   "metadata": {},
   "outputs": [],
   "source": [
    "def create_semantic_clustered_array(recall_position_np, semantic_array_np, \n",
    "                                    clustered=['A','C'], unclustered=['D', 'Z']):\n",
    "            \n",
    "    '''\n",
    "    :param list clustered: indicates what recalls count as clustered. There are four possible recalls:\n",
    "        1) 'A': adjacent semantic\n",
    "        2) 'C': remote semantic\n",
    "        3) 'D': remote unclustered\n",
    "        4) 'Z': dead end \n",
    "    The default is to use A and C as clustered, and D and Z as unclustered. \n",
    "    '''\n",
    "    \n",
    "    list_length = 12\n",
    "    num_selected_trials = recall_position_np.shape[0]\n",
    "    number_of_lists = int(num_selected_trials/list_length)\n",
    "    semantic_clustered_array_np = np.zeros((number_of_lists, list_length))\n",
    "    dead_ends = 0\n",
    "    remote_semantic = 0\n",
    "    adjacent_semantic = 0\n",
    "    remote_nonsemantic = 0\n",
    "    adjacent_nonsemantic = 0\n",
    "    counter = 0\n",
    "    \n",
    "    for list_idx in range(0, num_selected_trials, list_length):\n",
    "        \n",
    "        # recall_position_np and semantic_array_np contain information \n",
    "        # about the word that was recalled and its clustering type, respectively\n",
    "        # this information is repeated list_length times, so our for loop will \n",
    "        # increment by list length \n",
    "        recalled_idx = recall_position_np[list_idx] \n",
    "        cluster = semantic_array_np[list_idx]\n",
    "        \n",
    "        # init values to -1 so that non recalled items are -1 \n",
    "        cluster_trial_np = np.ones(list_length)*-1\n",
    "        \n",
    "        for r, c in zip(recalled_idx, cluster):\n",
    "            if r > 0 and r <= list_length:\n",
    "                if c in clustered:\n",
    "                    cluster_trial_np[r-1] = 1 # change to 1 for clustered recall\n",
    "                elif c in unclustered:\n",
    "                    cluster_trial_np[r-1] = 0 # change to 0 for unclustered but recalled\n",
    "                if c=='A':\n",
    "                    adjacent_semantic += 1\n",
    "                if c=='C':\n",
    "                    remote_semantic += 1\n",
    "                if c=='D':\n",
    "                    remote_nonsemantic += 1\n",
    "                if c=='Z':\n",
    "                    dead_ends += 1\n",
    "                \n",
    "        semantic_clustered_array_np[counter] = cluster_trial_np\n",
    "        \n",
    "        counter += 1\n",
    "        \n",
    "    semantic_clustered_array_np = np.ravel(semantic_clustered_array_np)\n",
    "    \n",
    "    return semantic_clustered_array_np"
   ]
  },
  {
   "cell_type": "code",
   "execution_count": 11,
   "metadata": {},
   "outputs": [],
   "source": [
    "semantic_clustered_np = create_semantic_clustered_array(analysis_one_masked['recalled'], \n",
    "                                                        analysis_one_masked['clustered'])\n",
    "analysis_one_masked['clustered_formatted'] = semantic_clustered_np\n",
    "mask_idxs_2 = np.argwhere(semantic_clustered_np==-1)\n",
    "for key, val in analysis_one_masked.items():\n",
    "    analysis_one_masked[key] = np.delete(val, mask_idxs_2, axis=0)"
   ]
  },
  {
   "cell_type": "code",
   "execution_count": 12,
   "metadata": {},
   "outputs": [
    {
     "name": "stdout",
     "output_type": "stream",
     "text": [
      "35851 ca1 electrodes out of 94869 electrodes\n",
      "26749 non ca1 electrodes out of 94869 electrodes\n"
     ]
    }
   ],
   "source": [
    "ripple_start_time = 400\n",
    "ripple_end_time = 1100\n",
    "start_time = -700\n",
    "sr_factor = 2\n",
    "\n",
    "# ripple exists is a binary array, with a 1 if a ripple occurred in that specific electrode \n",
    "# between 400 and 1100 ms\n",
    "ripple_start_time_sr = int((ripple_start_time - start_time) / sr_factor)\n",
    "ripple_end_time_sr = int((ripple_end_time - start_time) / sr_factor)\n",
    "ripple_exists = np.zeros(analysis_one_masked['ripples'].shape[0])\n",
    "ripple_exists[np.argwhere(np.sum(analysis_one_masked['ripples'][:, ripple_start_time_sr:ripple_end_time_sr],axis=1) > 0)] = 1\n",
    "analysis_one_masked['ripple_exists'] = ripple_exists\n",
    "\n",
    "\n",
    "ca1_trial_idxs = []\n",
    "for j, elec_name in enumerate(analysis_one_masked['elec_names']):\n",
    "    if elec_name in ca1:\n",
    "        ca1_trial_idxs.append(j)\n",
    "ca1_trial_idxs = np.array(ca1_trial_idxs)\n",
    "num_elec = analysis_one_masked['elec_names'].shape[0]\n",
    "print(f'{ca1_trial_idxs.shape[0]} ca1 electrodes out of {num_elec} electrodes')\n",
    "\n",
    "analysis_one_masked_ca1 = {}\n",
    "for key, val in analysis_one_masked.items():\n",
    "    analysis_one_masked_ca1[key] = val[ca1_trial_idxs]\n",
    "    \n",
    "    \n",
    "non_ca1_trial_idxs = []\n",
    "for j, elec_name in enumerate(analysis_one_masked['elec_names']):\n",
    "    if elec_name in non_ca1:\n",
    "        non_ca1_trial_idxs.append(j)\n",
    "non_ca1_trial_idxs = np.array(non_ca1_trial_idxs)\n",
    "num_elec = analysis_one_masked['elec_names'].shape[0]\n",
    "print(f'{non_ca1_trial_idxs.shape[0]} non ca1 electrodes out of {num_elec} electrodes')\n",
    "\n",
    "analysis_one_masked_non_ca1 = {}\n",
    "for key, val in analysis_one_masked.items():\n",
    "    analysis_one_masked_non_ca1[key] = val[non_ca1_trial_idxs]"
   ]
  },
  {
   "cell_type": "code",
   "execution_count": 13,
   "metadata": {},
   "outputs": [],
   "source": [
    "def SEM(vec, axis_num):\n",
    "    return np.std(vec, axis=axis_num)/(vec.shape[0]**.5)\n",
    "\n",
    "def plot_clustered_vs_not_clustered(freq_band, clustered, not_clustered, title_str):\n",
    "    \n",
    "    plt.errorbar(np.arange(150), np.mean(freq_band[clustered], axis=0), yerr=SEM(freq_band[clustered], 0),\n",
    "                 label=f'C ({freq_band[clustered].shape[0]})')\n",
    "    plt.errorbar(np.arange(150), np.mean(freq_band[not_clustered], axis=0), yerr=SEM(freq_band[not_clustered], 0),\n",
    "                 label=f'NC ({freq_band[not_clustered].shape[0]})')\n",
    "    plt.xlabel(\"Time (20 ms bins)\")\n",
    "    plt.ylabel(\"Normalized power\")\n",
    "    plt.title(title_str)\n",
    "    plt.legend()\n",
    "    plt.show()\n",
    " \n",
    "def convert_clustered_to_idxs(clustered_array, ripple_exists, divide_by_ripples):\n",
    " \n",
    "    clustered = []\n",
    "    no_clustered = []\n",
    "    for idx, i in enumerate(clustered_array):\n",
    "        if i == 1:\n",
    "            clustered.append(idx)\n",
    "        if i == 0:\n",
    "            no_clustered.append(idx)\n",
    "\n",
    "                \n",
    "    clustered = np.asarray(clustered)\n",
    "    no_clustered = np.asarray(no_clustered)\n",
    "    \n",
    "    if divide_by_ripples:\n",
    "        ripple_idxs = np.argwhere(ripple_exists==1)\n",
    "        clustered_ripple = np.intersect1d(ripple_idxs, clustered)\n",
    "        clustered_no_ripple = np.setdiff1d(clustered, clustered_ripple)\n",
    "        no_clustered_ripple = np.intersect1d(ripple_idxs, no_clustered)\n",
    "        no_clustered_no_ripple = np.setdiff1d(no_clustered, no_clustered_ripple)\n",
    "        return clustered, no_clustered, clustered_ripple, clustered_no_ripple, no_clustered_ripple, no_clustered_no_ripple\n",
    "        \n",
    "    return clustered, no_clustered  "
   ]
  },
  {
   "cell_type": "code",
   "execution_count": 14,
   "metadata": {},
   "outputs": [],
   "source": [
    "clustered, no_clustered, clustered_ripple, clustered_no_ripple, no_clustered_ripple, no_clustered_no_ripple = convert_clustered_to_idxs(analysis_one_masked['clustered_formatted'], \n",
    "                                                                                                                                        analysis_one_masked['ripple_exists'], True)\n"
   ]
  },
  {
   "cell_type": "code",
   "execution_count": 15,
   "metadata": {},
   "outputs": [],
   "source": [
    "clustered_ca1, no_clustered_ca1, clustered_ripple_ca1, clustered_no_ripple_ca1, no_clustered_ripple_ca1, no_clustered_no_ripple_ca1 = convert_clustered_to_idxs(analysis_one_masked_ca1['clustered_formatted'], \n",
    "                                                                                                                                        analysis_one_masked_ca1['ripple_exists'], True)"
   ]
  },
  {
   "cell_type": "code",
   "execution_count": 16,
   "metadata": {},
   "outputs": [],
   "source": [
    "clustered_non_ca1, no_clustered_non_ca1, clustered_ripple_non_ca1, clustered_no_ripple_non_ca1, no_clustered_ripple_non_ca1, no_clustered_no_ripple_non_ca1 = convert_clustered_to_idxs(analysis_one_masked_non_ca1['clustered_formatted'], \n",
    "                                                                                                                                        analysis_one_masked_non_ca1['ripple_exists'], True)"
   ]
  },
  {
   "cell_type": "code",
   "execution_count": 17,
   "metadata": {},
   "outputs": [
    {
     "data": {
      "image/png": "[encoded data removed]",
      "text/plain": [
       "<Figure size 432x288 with 1 Axes>"
      ]
     },
     "metadata": {
      "needs_background": "light"
     },
     "output_type": "display_data"
    }
   ],
   "source": [
    "plot_clustered_vs_not_clustered(analysis_one_masked_ca1['HFA'], clustered_ca1, no_clustered_ca1, title_str='HFA ca1')"
   ]
  },
  {
   "cell_type": "code",
   "execution_count": 18,
   "metadata": {},
   "outputs": [
    {
     "data": {
      "image/png": "[encoded data removed]",
      "text/plain": [
       "<Figure size 432x288 with 1 Axes>"
      ]
     },
     "metadata": {
      "needs_background": "light"
     },
     "output_type": "display_data"
    }
   ],
   "source": [
    "plot_clustered_vs_not_clustered(analysis_one_masked_ca1['HFA'], clustered_no_ripple_ca1, no_clustered_no_ripple_ca1,\n",
    "                                title_str='HFA ca1 (No ripple only)')"
   ]
  },
  {
   "cell_type": "code",
   "execution_count": 19,
   "metadata": {},
   "outputs": [
    {
     "data": {
      "image/png": "[encoded data removed]",
      "text/plain": [
       "<Figure size 432x288 with 1 Axes>"
      ]
     },
     "metadata": {
      "needs_background": "light"
     },
     "output_type": "display_data"
    }
   ],
   "source": [
    "plot_clustered_vs_not_clustered(analysis_one_masked_non_ca1['HFA'], clustered_non_ca1, no_clustered_non_ca1, title_str='HFA non ca1')"
   ]
  },
  {
   "cell_type": "code",
   "execution_count": 20,
   "metadata": {},
   "outputs": [
    {
     "data": {
      "image/png": "[encoded data removed]",
      "text/plain": [
       "<Figure size 432x288 with 1 Axes>"
      ]
     },
     "metadata": {
      "needs_background": "light"
     },
     "output_type": "display_data"
    }
   ],
   "source": [
    "plot_clustered_vs_not_clustered(analysis_one_masked_non_ca1['HFA'], clustered_no_ripple_non_ca1, no_clustered_no_ripple_non_ca1, title_str='HFA non ca1 (no ripple)')"
   ]
  },
  {
   "cell_type": "code",
   "execution_count": 41,
   "metadata": {},
   "outputs": [],
   "source": [
    "def plot_SCE_all_vs_no_ripple(analysis_dict, HFA_start, HFA_end, clustered, not_clustered, clustered_no_ripple, not_clustered_no_ripple, title_str):\n",
    "    \n",
    "    HFA_meaned = np.mean(analysis_dict['HFA'][:, HFA_start:HFA_end], axis=-1)\n",
    "    print(HFA_meaned.shape)\n",
    "    HFA_meaned_no_ripple_not_clust = HFA_meaned[not_clustered_no_ripple]\n",
    "    HFA_meaned_no_ripple_clust = HFA_meaned[clustered_no_ripple]\n",
    "    HFA_meaned_not_clust = HFA_meaned[not_clustered]\n",
    "    HFA_meaned_clust = HFA_meaned[clustered]\n",
    "    plt.errorbar(['C - NC (No ripple)', 'C - NC (All)'], [np.mean(HFA_meaned_no_ripple_clust)-np.mean(HFA_meaned_no_ripple_not_clust), np.mean(HFA_meaned_clust)- np.mean(HFA_meaned_not_clust)], \n",
    "             yerr=[SEM(HFA_meaned_no_ripple_clust, 0), SEM(HFA_meaned_no_ripple_not_clust,0)])\n",
    "    plt.ylabel(\"Normalized power\")\n",
    "    plt.title(title_str)\n",
    "    plt.show()\n"
   ]
  },
  {
   "cell_type": "code",
   "execution_count": 42,
   "metadata": {},
   "outputs": [
    {
     "name": "stdout",
     "output_type": "stream",
     "text": [
      "(35851,)\n"
     ]
    },
    {
     "data": {
      "image/png": "[encoded data removed]",
      "text/plain": [
       "<Figure size 432x288 with 1 Axes>"
      ]
     },
     "metadata": {
      "needs_background": "light"
     },
     "output_type": "display_data"
    },
    {
     "name": "stdout",
     "output_type": "stream",
     "text": [
      "(26749,)\n"
     ]
    },
    {
     "data": {
      "image/png": "[encoded data removed]",
      "text/plain": [
       "<Figure size 432x288 with 1 Axes>"
      ]
     },
     "metadata": {
      "needs_background": "light"
     },
     "output_type": "display_data"
    }
   ],
   "source": [
    "# only care about activity between 400-1100 ms post word onset for now\n",
    "# ripple_start_time_sr and ripple_end_time_sr give us this range, but \n",
    "# with sampling rate of 500 Hz, for HFA we have a sampling rate of 50 Hz \n",
    "# so we need to divide by 10\n",
    "HFA_start = int(ripple_start_time_sr / 10)\n",
    "HFA_end = int(ripple_end_time_sr / 10)\n",
    "plot_SCE_all_vs_no_ripple(analysis_one_masked_ca1, HFA_start, HFA_end, clustered_ca1, no_clustered_ca1, clustered_no_ripple_ca1, no_clustered_no_ripple_ca1, 'CA1')\n",
    "plot_SCE_all_vs_no_ripple(analysis_one_masked_non_ca1, HFA_start, HFA_end, clustered_non_ca1, no_clustered_non_ca1, clustered_no_ripple_non_ca1, no_clustered_no_ripple_non_ca1, 'non CA1')"
   ]
  },
  {
   "cell_type": "code",
   "execution_count": 44,
   "metadata": {},
   "outputs": [],
   "source": [
    "def create_lmm_pd(analysis_dict, HFA_meaned):\n",
    "    \n",
    "    lmm_pd = pd.DataFrame({'ripple_exists': analysis_dict['ripple_exists'], \n",
    "                            'HFA': HFA_meaned,\n",
    "                            'clustered': analysis_dict['clustered_formatted'], \n",
    "                            'sess':analysis_dict['sess'], \n",
    "                            'subj':analysis_dict['subj']})\n",
    "    return lmm_pd\n"
   ]
  },
  {
   "cell_type": "code",
   "execution_count": 48,
   "metadata": {},
   "outputs": [],
   "source": [
    "import statsmodels.formula.api as smf\n",
    "vc = {'sess':'0+sess'}\n",
    "ripples_HFA_lmm = pd.DataFrame({'ripple_exists': analysis_one_masked_ca1['ripple_exists'], \n",
    "                            'HFA': HFA_meaned,\n",
    "                            'clustered': analysis_one_masked_ca1['clustered_formatted'], \n",
    "                            'sess':analysis_one_masked_ca1['sess'], \n",
    "                            'subj':analysis_one_masked_ca1['subj']})\n"
   ]
  },
  {
   "cell_type": "code",
   "execution_count": 53,
   "metadata": {},
   "outputs": [
    {
     "data": {
      "text/plain": [
       "(35851,)"
      ]
     },
     "execution_count": 53,
     "metadata": {},
     "output_type": "execute_result"
    }
   ],
   "source": [
    "ripples_HFA_lmm['HFA'].shape"
   ]
  },
  {
   "cell_type": "code",
   "execution_count": 86,
   "metadata": {},
   "outputs": [
    {
     "name": "stderr",
     "output_type": "stream",
     "text": [
      "/home1/efeghhi/.conda/envs/env1/lib/python3.7/site-packages/statsmodels/base/model.py:512: ConvergenceWarning: Maximum Likelihood optimization failed to converge. Check mle_retvals\n",
      "  \"Check mle_retvals\", ConvergenceWarning)\n",
      "/home1/efeghhi/.conda/envs/env1/lib/python3.7/site-packages/statsmodels/regression/mixed_linear_model.py:2059: ConvergenceWarning: Retrying MixedLM optimization with lbfgs\n",
      "  ConvergenceWarning)\n",
      "/home1/efeghhi/.conda/envs/env1/lib/python3.7/site-packages/statsmodels/regression/mixed_linear_model.py:2094: ConvergenceWarning: The MLE may be on the boundary of the parameter space.\n",
      "  warnings.warn(msg, ConvergenceWarning)\n",
      "/home1/efeghhi/.conda/envs/env1/lib/python3.7/site-packages/statsmodels/base/model.py:1286: RuntimeWarning: invalid value encountered in sqrt\n",
      "  bse_ = np.sqrt(np.diag(self.cov_params()))\n"
     ]
    },
    {
     "data": {
      "text/html": [
       "<table class=\"simpletable\">\n",
       "<tr>\n",
       "       <td>Model:</td>       <td>MixedLM</td> <td>Dependent Variable:</td>  <td>clustered</td> \n",
       "</tr>\n",
       "<tr>\n",
       "  <td>No. Observations:</td>  <td>35851</td>        <td>Method:</td>          <td>REML</td>    \n",
       "</tr>\n",
       "<tr>\n",
       "     <td>No. Groups:</td>      <td>101</td>         <td>Scale:</td>          <td>0.2392</td>   \n",
       "</tr>\n",
       "<tr>\n",
       "  <td>Min. group size:</td>     <td>8</td>        <td>Likelihood:</td>     <td>-25396.8245</td>\n",
       "</tr>\n",
       "<tr>\n",
       "  <td>Max. group size:</td>   <td>6613</td>       <td>Converged:</td>          <td>Yes</td>    \n",
       "</tr>\n",
       "<tr>\n",
       "  <td>Mean group size:</td>   <td>355.0</td>           <td></td>                <td></td>      \n",
       "</tr>\n",
       "</table>\n",
       "<table class=\"simpletable\">\n",
       "<tr>\n",
       "              <td></td>             <th>Coef.</th> <th>Std.Err.</th>    <th>z</th>   <th>P>|z|</th> <th>[0.025</th> <th>0.975]</th>\n",
       "</tr>\n",
       "<tr>\n",
       "  <th>Intercept</th>                <td>0.486</td>   <td>0.011</td>  <td>44.140</td> <td>0.000</td>  <td>0.464</td>  <td>0.507</td>\n",
       "</tr>\n",
       "<tr>\n",
       "  <th>ripple_exists</th>            <td>0.025</td>   <td>0.005</td>   <td>5.550</td> <td>0.000</td>  <td>0.016</td>  <td>0.034</td>\n",
       "</tr>\n",
       "<tr>\n",
       "  <th>subj Var</th>                 <td>0.008</td>   <td>0.004</td>     <td></td>      <td></td>       <td></td>       <td></td>   \n",
       "</tr>\n",
       "<tr>\n",
       "  <th>subj x ripple_exists Cov</th> <td>0.000</td>   <td>0.002</td>     <td></td>      <td></td>       <td></td>       <td></td>   \n",
       "</tr>\n",
       "<tr>\n",
       "  <th>ripple_exists Var</th>        <td>0.001</td>     <td></td>        <td></td>      <td></td>       <td></td>       <td></td>   \n",
       "</tr>\n",
       "<tr>\n",
       "  <th>sess Var</th>                 <td>0.003</td>   <td>0.001</td>     <td></td>      <td></td>       <td></td>       <td></td>   \n",
       "</tr>\n",
       "</table>"
      ],
      "text/plain": [
       "<class 'statsmodels.iolib.summary2.Summary'>\n",
       "\"\"\"\n",
       "              Mixed Linear Model Regression Results\n",
       "==================================================================\n",
       "Model:               MixedLM    Dependent Variable:    clustered  \n",
       "No. Observations:    35851      Method:                REML       \n",
       "No. Groups:          101        Scale:                 0.2392     \n",
       "Min. group size:     8          Likelihood:            -25396.8245\n",
       "Max. group size:     6613       Converged:             Yes        \n",
       "Mean group size:     355.0                                        \n",
       "------------------------------------------------------------------\n",
       "                         Coef. Std.Err.   z    P>|z| [0.025 0.975]\n",
       "------------------------------------------------------------------\n",
       "Intercept                0.486    0.011 44.140 0.000  0.464  0.507\n",
       "ripple_exists            0.025    0.005  5.550 0.000  0.016  0.034\n",
       "subj Var                 0.008    0.004                           \n",
       "subj x ripple_exists Cov 0.000    0.002                           \n",
       "ripple_exists Var        0.001                                    \n",
       "sess Var                 0.003    0.001                           \n",
       "==================================================================\n",
       "\n",
       "\"\"\""
      ]
     },
     "execution_count": 86,
     "metadata": {},
     "output_type": "execute_result"
    }
   ],
   "source": [
    "formula = 'clustered ~ ripple_exists'\n",
    "re_formula = 'ripple_exists'\n",
    "model = smf.mixedlm(formula, ripples_HFA_lmm, groups=\"subj\", vc_formula=vc, \n",
    "                                        re_formula=f'{re_formula}')\n",
    "results = model.fit()\n",
    "results.summary()"
   ]
  },
  {
   "cell_type": "code",
   "execution_count": 50,
   "metadata": {},
   "outputs": [
    {
     "name": "stderr",
     "output_type": "stream",
     "text": [
      "/home1/efeghhi/.conda/envs/env3/lib/python3.7/site-packages/statsmodels/base/model.py:512: ConvergenceWarning: Maximum Likelihood optimization failed to converge. Check mle_retvals\n",
      "  \"Check mle_retvals\", ConvergenceWarning)\n",
      "/home1/efeghhi/.conda/envs/env3/lib/python3.7/site-packages/statsmodels/regression/mixed_linear_model.py:2059: ConvergenceWarning: Retrying MixedLM optimization with lbfgs\n",
      "  ConvergenceWarning)\n",
      "/home1/efeghhi/.conda/envs/env3/lib/python3.7/site-packages/statsmodels/base/model.py:512: ConvergenceWarning: Maximum Likelihood optimization failed to converge. Check mle_retvals\n",
      "  \"Check mle_retvals\", ConvergenceWarning)\n",
      "/home1/efeghhi/.conda/envs/env3/lib/python3.7/site-packages/statsmodels/regression/mixed_linear_model.py:2059: ConvergenceWarning: Retrying MixedLM optimization with cg\n",
      "  ConvergenceWarning)\n",
      "/home1/efeghhi/.conda/envs/env3/lib/python3.7/site-packages/statsmodels/base/model.py:512: ConvergenceWarning: Maximum Likelihood optimization failed to converge. Check mle_retvals\n",
      "  \"Check mle_retvals\", ConvergenceWarning)\n",
      "/home1/efeghhi/.conda/envs/env3/lib/python3.7/site-packages/statsmodels/regression/mixed_linear_model.py:2063: ConvergenceWarning: MixedLM optimization failed, trying a different optimizer may help.\n",
      "  warnings.warn(msg, ConvergenceWarning)\n",
      "/home1/efeghhi/.conda/envs/env3/lib/python3.7/site-packages/statsmodels/regression/mixed_linear_model.py:2075: ConvergenceWarning: Gradient optimization failed, |grad| = 368.627845\n",
      "  warnings.warn(msg, ConvergenceWarning)\n",
      "/home1/efeghhi/.conda/envs/env3/lib/python3.7/site-packages/statsmodels/regression/mixed_linear_model.py:2094: ConvergenceWarning: The MLE may be on the boundary of the parameter space.\n",
      "  warnings.warn(msg, ConvergenceWarning)\n",
      "/home1/efeghhi/.conda/envs/env3/lib/python3.7/site-packages/statsmodels/regression/mixed_linear_model.py:2115: ConvergenceWarning: The Hessian matrix at the estimated parameter values is not positive definite.\n",
      "  warnings.warn(msg, ConvergenceWarning)\n",
      "/home1/efeghhi/.conda/envs/env3/lib/python3.7/site-packages/statsmodels/base/model.py:1286: RuntimeWarning: invalid value encountered in sqrt\n",
      "  bse_ = np.sqrt(np.diag(self.cov_params()))\n"
     ]
    },
    {
     "data": {
      "text/html": [
       "<table class=\"simpletable\">\n",
       "<tr>\n",
       "       <td>Model:</td>       <td>MixedLM</td> <td>Dependent Variable:</td>  <td>clustered</td> \n",
       "</tr>\n",
       "<tr>\n",
       "  <td>No. Observations:</td>  <td>35851</td>        <td>Method:</td>          <td>REML</td>    \n",
       "</tr>\n",
       "<tr>\n",
       "     <td>No. Groups:</td>      <td>101</td>         <td>Scale:</td>          <td>0.2376</td>   \n",
       "</tr>\n",
       "<tr>\n",
       "  <td>Min. group size:</td>     <td>8</td>        <td>Likelihood:</td>     <td>-25457.1628</td>\n",
       "</tr>\n",
       "<tr>\n",
       "  <td>Max. group size:</td>   <td>6613</td>       <td>Converged:</td>          <td>No</td>     \n",
       "</tr>\n",
       "<tr>\n",
       "  <td>Mean group size:</td>   <td>355.0</td>           <td></td>                <td></td>      \n",
       "</tr>\n",
       "</table>\n",
       "<table class=\"simpletable\">\n",
       "<tr>\n",
       "         <td></td>        <th>Coef.</th> <th>Std.Err.</th>    <th>z</th>   <th>P>|z|</th> <th>[0.025</th> <th>0.975]</th>\n",
       "</tr>\n",
       "<tr>\n",
       "  <th>Intercept</th>      <td>0.481</td>   <td>0.025</td>  <td>19.593</td> <td>0.000</td>  <td>0.433</td>  <td>0.529</td>\n",
       "</tr>\n",
       "<tr>\n",
       "  <th>HFA</th>            <td>0.009</td>   <td>0.002</td>   <td>4.212</td> <td>0.000</td>  <td>0.005</td>  <td>0.013</td>\n",
       "</tr>\n",
       "<tr>\n",
       "  <th>subj Var</th>       <td>0.037</td>     <td></td>        <td></td>      <td></td>       <td></td>       <td></td>   \n",
       "</tr>\n",
       "<tr>\n",
       "  <th>subj x HFA Cov</th> <td>0.001</td>   <td>0.002</td>     <td></td>      <td></td>       <td></td>       <td></td>   \n",
       "</tr>\n",
       "<tr>\n",
       "  <th>HFA Var</th>        <td>0.000</td>   <td>0.000</td>     <td></td>      <td></td>       <td></td>       <td></td>   \n",
       "</tr>\n",
       "<tr>\n",
       "  <th>sess Var</th>       <td>0.033</td>     <td></td>        <td></td>      <td></td>       <td></td>       <td></td>   \n",
       "</tr>\n",
       "</table>"
      ],
      "text/plain": [
       "<class 'statsmodels.iolib.summary2.Summary'>\n",
       "\"\"\"\n",
       "          Mixed Linear Model Regression Results\n",
       "=========================================================\n",
       "Model:            MixedLM Dependent Variable: clustered  \n",
       "No. Observations: 35851   Method:             REML       \n",
       "No. Groups:       101     Scale:              0.2376     \n",
       "Min. group size:  8       Likelihood:         -25457.1628\n",
       "Max. group size:  6613    Converged:          No         \n",
       "Mean group size:  355.0                                  \n",
       "---------------------------------------------------------\n",
       "                Coef. Std.Err.   z    P>|z| [0.025 0.975]\n",
       "---------------------------------------------------------\n",
       "Intercept       0.481    0.025 19.593 0.000  0.433  0.529\n",
       "HFA             0.009    0.002  4.212 0.000  0.005  0.013\n",
       "subj Var        0.037                                    \n",
       "subj x HFA Cov  0.001    0.002                           \n",
       "HFA Var         0.000    0.000                           \n",
       "sess Var        0.033                                    \n",
       "=========================================================\n",
       "\n",
       "\"\"\""
      ]
     },
     "execution_count": 50,
     "metadata": {},
     "output_type": "execute_result"
    }
   ],
   "source": [
    "formula = 'clustered ~ HFA'\n",
    "re_formula = 'HFA'\n",
    "model = smf.mixedlm(formula, ripples_HFA_lmm, groups=\"subj\", vc_formula=vc, \n",
    "                                        re_formula=f'{re_formula}')\n",
    "results = model.fit()\n",
    "results.summary()"
   ]
  },
  {
   "cell_type": "code",
   "execution_count": 88,
   "metadata": {},
   "outputs": [
    {
     "name": "stderr",
     "output_type": "stream",
     "text": [
      "/home1/efeghhi/.conda/envs/env1/lib/python3.7/site-packages/statsmodels/regression/mixed_linear_model.py:2094: ConvergenceWarning: The MLE may be on the boundary of the parameter space.\n",
      "  warnings.warn(msg, ConvergenceWarning)\n"
     ]
    },
    {
     "data": {
      "text/html": [
       "<table class=\"simpletable\">\n",
       "<tr>\n",
       "       <td>Model:</td>       <td>MixedLM</td> <td>Dependent Variable:</td>  <td>clustered</td> \n",
       "</tr>\n",
       "<tr>\n",
       "  <td>No. Observations:</td>  <td>35851</td>        <td>Method:</td>          <td>REML</td>    \n",
       "</tr>\n",
       "<tr>\n",
       "     <td>No. Groups:</td>      <td>101</td>         <td>Scale:</td>          <td>0.2403</td>   \n",
       "</tr>\n",
       "<tr>\n",
       "  <td>Min. group size:</td>     <td>8</td>        <td>Likelihood:</td>     <td>-25436.8660</td>\n",
       "</tr>\n",
       "<tr>\n",
       "  <td>Max. group size:</td>   <td>6613</td>       <td>Converged:</td>          <td>Yes</td>    \n",
       "</tr>\n",
       "<tr>\n",
       "  <td>Mean group size:</td>   <td>355.0</td>           <td></td>                <td></td>      \n",
       "</tr>\n",
       "</table>\n",
       "<table class=\"simpletable\">\n",
       "<tr>\n",
       "         <td></td>        <th>Coef.</th> <th>Std.Err.</th>    <th>z</th>   <th>P>|z|</th> <th>[0.025</th> <th>0.975]</th>\n",
       "</tr>\n",
       "<tr>\n",
       "  <th>Intercept</th>      <td>0.488</td>   <td>0.011</td>  <td>44.598</td> <td>0.000</td>  <td>0.467</td>  <td>0.509</td>\n",
       "</tr>\n",
       "<tr>\n",
       "  <th>HFA</th>            <td>0.008</td>   <td>0.002</td>   <td>3.141</td> <td>0.002</td>  <td>0.003</td>  <td>0.012</td>\n",
       "</tr>\n",
       "<tr>\n",
       "  <th>subj Var</th>       <td>0.010</td>   <td>0.004</td>     <td></td>      <td></td>       <td></td>       <td></td>   \n",
       "</tr>\n",
       "<tr>\n",
       "  <th>subj x HFA Cov</th> <td>0.000</td>   <td>0.001</td>     <td></td>      <td></td>       <td></td>       <td></td>   \n",
       "</tr>\n",
       "<tr>\n",
       "  <th>HFA Var</th>        <td>0.000</td>   <td>0.000</td>     <td></td>      <td></td>       <td></td>       <td></td>   \n",
       "</tr>\n",
       "</table>"
      ],
      "text/plain": [
       "<class 'statsmodels.iolib.summary2.Summary'>\n",
       "\"\"\"\n",
       "          Mixed Linear Model Regression Results\n",
       "=========================================================\n",
       "Model:            MixedLM Dependent Variable: clustered  \n",
       "No. Observations: 35851   Method:             REML       \n",
       "No. Groups:       101     Scale:              0.2403     \n",
       "Min. group size:  8       Likelihood:         -25436.8660\n",
       "Max. group size:  6613    Converged:          Yes        \n",
       "Mean group size:  355.0                                  \n",
       "---------------------------------------------------------\n",
       "                Coef. Std.Err.   z    P>|z| [0.025 0.975]\n",
       "---------------------------------------------------------\n",
       "Intercept       0.488    0.011 44.598 0.000  0.467  0.509\n",
       "HFA             0.008    0.002  3.141 0.002  0.003  0.012\n",
       "subj Var        0.010    0.004                           \n",
       "subj x HFA Cov  0.000    0.001                           \n",
       "HFA Var         0.000    0.000                           \n",
       "=========================================================\n",
       "\n",
       "\"\"\""
      ]
     },
     "execution_count": 88,
     "metadata": {},
     "output_type": "execute_result"
    }
   ],
   "source": [
    "formula = 'clustered ~ HFA'\n",
    "re_formula = 'HFA'\n",
    "model = smf.mixedlm(formula, ripples_HFA_lmm, groups=\"subj\", \n",
    "                                        re_formula=f'{re_formula}')\n",
    "results = model.fit()\n",
    "results.summary()"
   ]
  },
  {
   "cell_type": "code",
   "execution_count": 49,
   "metadata": {},
   "outputs": [
    {
     "name": "stderr",
     "output_type": "stream",
     "text": [
      "/home1/efeghhi/.conda/envs/env3/lib/python3.7/site-packages/statsmodels/base/model.py:512: ConvergenceWarning: Maximum Likelihood optimization failed to converge. Check mle_retvals\n",
      "  \"Check mle_retvals\", ConvergenceWarning)\n",
      "/home1/efeghhi/.conda/envs/env3/lib/python3.7/site-packages/statsmodels/regression/mixed_linear_model.py:2059: ConvergenceWarning: Retrying MixedLM optimization with lbfgs\n",
      "  ConvergenceWarning)\n",
      "/home1/efeghhi/.conda/envs/env3/lib/python3.7/site-packages/statsmodels/base/model.py:512: ConvergenceWarning: Maximum Likelihood optimization failed to converge. Check mle_retvals\n",
      "  \"Check mle_retvals\", ConvergenceWarning)\n",
      "/home1/efeghhi/.conda/envs/env3/lib/python3.7/site-packages/statsmodels/regression/mixed_linear_model.py:2059: ConvergenceWarning: Retrying MixedLM optimization with cg\n",
      "  ConvergenceWarning)\n",
      "/home1/efeghhi/.conda/envs/env3/lib/python3.7/site-packages/statsmodels/base/model.py:512: ConvergenceWarning: Maximum Likelihood optimization failed to converge. Check mle_retvals\n",
      "  \"Check mle_retvals\", ConvergenceWarning)\n",
      "/home1/efeghhi/.conda/envs/env3/lib/python3.7/site-packages/statsmodels/regression/mixed_linear_model.py:2063: ConvergenceWarning: MixedLM optimization failed, trying a different optimizer may help.\n",
      "  warnings.warn(msg, ConvergenceWarning)\n",
      "/home1/efeghhi/.conda/envs/env3/lib/python3.7/site-packages/statsmodels/regression/mixed_linear_model.py:2075: ConvergenceWarning: Gradient optimization failed, |grad| = 316.917050\n",
      "  warnings.warn(msg, ConvergenceWarning)\n",
      "/home1/efeghhi/.conda/envs/env3/lib/python3.7/site-packages/statsmodels/regression/mixed_linear_model.py:2094: ConvergenceWarning: The MLE may be on the boundary of the parameter space.\n",
      "  warnings.warn(msg, ConvergenceWarning)\n"
     ]
    },
    {
     "data": {
      "text/html": [
       "<table class=\"simpletable\">\n",
       "<tr>\n",
       "       <td>Model:</td>       <td>MixedLM</td> <td>Dependent Variable:</td>  <td>clustered</td> \n",
       "</tr>\n",
       "<tr>\n",
       "  <td>No. Observations:</td>  <td>35851</td>        <td>Method:</td>          <td>REML</td>    \n",
       "</tr>\n",
       "<tr>\n",
       "     <td>No. Groups:</td>      <td>101</td>         <td>Scale:</td>          <td>0.2402</td>   \n",
       "</tr>\n",
       "<tr>\n",
       "  <td>Min. group size:</td>     <td>8</td>        <td>Likelihood:</td>     <td>-25443.7680</td>\n",
       "</tr>\n",
       "<tr>\n",
       "  <td>Max. group size:</td>   <td>6613</td>       <td>Converged:</td>          <td>No</td>     \n",
       "</tr>\n",
       "<tr>\n",
       "  <td>Mean group size:</td>   <td>355.0</td>           <td></td>                <td></td>      \n",
       "</tr>\n",
       "</table>\n",
       "<table class=\"simpletable\">\n",
       "<tr>\n",
       "                <td></td>                <th>Coef.</th> <th>Std.Err.</th>    <th>z</th>   <th>P>|z|</th> <th>[0.025</th> <th>0.975]</th>\n",
       "</tr>\n",
       "<tr>\n",
       "  <th>Intercept</th>                     <td>0.488</td>   <td>0.011</td>  <td>45.045</td> <td>0.000</td>  <td>0.467</td>  <td>0.510</td>\n",
       "</tr>\n",
       "<tr>\n",
       "  <th>HFA</th>                           <td>0.007</td>   <td>0.003</td>   <td>2.466</td> <td>0.014</td>  <td>0.001</td>  <td>0.012</td>\n",
       "</tr>\n",
       "<tr>\n",
       "  <th>HFA:ripple_exists</th>            <td>-0.002</td>   <td>0.004</td>  <td>-0.358</td> <td>0.720</td> <td>-0.010</td>  <td>0.007</td>\n",
       "</tr>\n",
       "<tr>\n",
       "  <th>subj Var</th>                      <td>0.009</td>   <td>0.004</td>     <td></td>      <td></td>       <td></td>       <td></td>   \n",
       "</tr>\n",
       "<tr>\n",
       "  <th>subj x HFA Cov</th>                <td>0.001</td>   <td>0.001</td>     <td></td>      <td></td>       <td></td>       <td></td>   \n",
       "</tr>\n",
       "<tr>\n",
       "  <th>HFA Var</th>                       <td>0.000</td>   <td>0.000</td>     <td></td>      <td></td>       <td></td>       <td></td>   \n",
       "</tr>\n",
       "<tr>\n",
       "  <th>subj x HFA:ripple_exists Cov</th>  <td>0.000</td>   <td>0.001</td>     <td></td>      <td></td>       <td></td>       <td></td>   \n",
       "</tr>\n",
       "<tr>\n",
       "  <th>HFA x HFA:ripple_exists Cov</th>   <td>0.000</td>   <td>0.000</td>     <td></td>      <td></td>       <td></td>       <td></td>   \n",
       "</tr>\n",
       "<tr>\n",
       "  <th>HFA:ripple_exists Var</th>         <td>0.000</td>   <td>0.000</td>     <td></td>      <td></td>       <td></td>       <td></td>   \n",
       "</tr>\n",
       "</table>"
      ],
      "text/plain": [
       "<class 'statsmodels.iolib.summary2.Summary'>\n",
       "\"\"\"\n",
       "                 Mixed Linear Model Regression Results\n",
       "=======================================================================\n",
       "Model:                  MixedLM     Dependent Variable:     clustered  \n",
       "No. Observations:       35851       Method:                 REML       \n",
       "No. Groups:             101         Scale:                  0.2402     \n",
       "Min. group size:        8           Likelihood:             -25443.7680\n",
       "Max. group size:        6613        Converged:              No         \n",
       "Mean group size:        355.0                                          \n",
       "-----------------------------------------------------------------------\n",
       "                             Coef.  Std.Err.   z    P>|z| [0.025 0.975]\n",
       "-----------------------------------------------------------------------\n",
       "Intercept                     0.488    0.011 45.045 0.000  0.467  0.510\n",
       "HFA                           0.007    0.003  2.466 0.014  0.001  0.012\n",
       "HFA:ripple_exists            -0.002    0.004 -0.358 0.720 -0.010  0.007\n",
       "subj Var                      0.009    0.004                           \n",
       "subj x HFA Cov                0.001    0.001                           \n",
       "HFA Var                       0.000    0.000                           \n",
       "subj x HFA:ripple_exists Cov  0.000    0.001                           \n",
       "HFA x HFA:ripple_exists Cov   0.000    0.000                           \n",
       "HFA:ripple_exists Var         0.000    0.000                           \n",
       "=======================================================================\n",
       "\n",
       "\"\"\""
      ]
     },
     "execution_count": 49,
     "metadata": {},
     "output_type": "execute_result"
    }
   ],
   "source": [
    "formula = 'clustered ~ HFA + HFA:ripple_exists'\n",
    "re_formula = 'HFA + HFA:ripple_exists'\n",
    "model = smf.mixedlm(formula, ripples_HFA_lmm, groups=\"subj\", \n",
    "                                        re_formula=f'{re_formula}')\n",
    "results = model.fit()\n",
    "results.summary()"
   ]
  },
  {
   "cell_type": "code",
   "execution_count": 95,
   "metadata": {},
   "outputs": [],
   "source": [
    "# Previous analysis repeated the trials per session based on \n",
    "# the number of electrodes. In this analysis, we won't do this.\n",
    "# Instead, we'll only take trials with ca1 electrodes, and create\n",
    "# a ripple exists array based on if there is a ripple in any of the\n",
    "# ca1 electrodes.\n",
    "ca1_only = {'ripple': [], 'HFA': [], 'clust': [], 'correct': [], 'position': [], \n",
    "            'list_num': [], 'subj': [], 'sess': []}\n",
    "catFR_dir = '/scratch/efeghhi/catFR1/ENCODING'\n",
    "file_list = os.listdir(catFR_dir)\n",
    "\n",
    "\n",
    "ripple_start_time = 400\n",
    "ripple_end_time = 1100\n",
    "start_time = -700\n",
    "sr_factor = 2\n",
    "\n",
    "# ripple exists is a binary array, with a 1 if a ripple occurred in that specific electrode \n",
    "# between 400 and 1100 ms\n",
    "ripple_start_time_sr = int((ripple_start_time - start_time) / sr_factor)\n",
    "ripple_end_time_sr = int((ripple_end_time - start_time) / sr_factor)\n",
    "\n",
    "for f in file_list:\n",
    "    \n",
    "    # Open the pickle file for reading\n",
    "    with open(f'{catFR_dir}/{f}', 'rb') as pickle_file:\n",
    "        loaded_data = pickle.load(pickle_file)    \n",
    "        \n",
    "    ca1_elecs = []\n",
    "    elec_names = loaded_data['elec_names']\n",
    "    for i, elec in enumerate(elec_names):\n",
    "        if elec in ca1:\n",
    "            ca1_elecs.append(i)\n",
    "            \n",
    "    if len(ca1_elecs) == 0:\n",
    "        continue \n",
    "    \n",
    "    ripples_3d = loaded_data['ripple_array']\n",
    "    HFA_3d = loaded_data['HFA_pow']\n",
    "    num_trials = ripples_3d.shape[0]\n",
    "    rippled_3d_channels_first = np.swapaxes(ripples_3d, 0, 1)\n",
    "    HFA_3d_channels_first = np.swapaxes(HFA_3d, 0, 1)\n",
    "    ripples_3d_ca1 = rippled_3d_channels_first[ca1_elecs]\n",
    "    HFA_3d_ca1 = HFA_3d_channels_first[ca1_elecs]\n",
    "    \n",
    "    # shape num trials, zero if there is no ripple in any ca1 electrode,\n",
    "    # 1 if there is a ripple (in the specified time range) for any ca1 \n",
    "    # electrode\n",
    "    ripple_exists = np.zeros(num_trials)\n",
    "    \n",
    "    # sum across channels and relevant timesteps to see if a ripple exists\n",
    "    trials_with_ripples = np.argwhere(np.sum(ripples_3d_ca1[:, :, ripple_start_time_sr:ripple_end_time_sr], axis=(0,2)) > 0)\n",
    "    ripple_exists[trials_with_ripples] = 1\n",
    "    ca1_only['ripple'].extend(ripple_exists)\n",
    "    ca1_only['HFA'].extend(np.mean(HFA_3d_ca1[:, :, HFA_start:HFA_end], axis=(0,2)))\n",
    "    \n",
    "    ca1_only['correct'].extend(loaded_data['encoded_word_key_array'][0])\n",
    "    ca1_only['clust'].extend(loaded_data['semantic_clustering_key'][:num_trials])\n",
    "    ca1_only['position'].extend(loaded_data['recall_position_array'][:num_trials])\n",
    "    ca1_only['list_num'].extend(loaded_data['list_num_key'][:num_trials])\n",
    "    \n",
    "    ca1_only['subj'].extend(np.repeat(loaded_data['sub_names'][0], num_trials))\n",
    "    ca1_only['sess'].extend(np.repeat(loaded_data['sub_sess_names'][0], num_trials))\n"
   ]
  },
  {
   "cell_type": "code",
   "execution_count": 96,
   "metadata": {},
   "outputs": [],
   "source": [
    "for key, val in ca1_only.items():\n",
    "    ca1_only[key] = np.array(val)\n"
   ]
  },
  {
   "cell_type": "code",
   "execution_count": 97,
   "metadata": {},
   "outputs": [
    {
     "name": "stdout",
     "output_type": "stream",
     "text": [
      "[16944 16945 16946]\n"
     ]
    }
   ],
   "source": [
    "mask_idxs = remove_lists_not_ll(ca1_only['list_num'])\n",
    "print(mask_idxs)"
   ]
  },
  {
   "cell_type": "code",
   "execution_count": 98,
   "metadata": {},
   "outputs": [
    {
     "name": "stdout",
     "output_type": "stream",
     "text": [
      "ripple\n",
      "(38439,)\n",
      "HFA\n",
      "(38439,)\n",
      "clust\n",
      "(38439,)\n",
      "correct\n",
      "(38439,)\n",
      "position\n",
      "(38439,)\n",
      "list_num\n",
      "(38439,)\n",
      "subj\n",
      "(38439,)\n",
      "sess\n",
      "(38439,)\n"
     ]
    }
   ],
   "source": [
    "for key, val in ca1_only.items():\n",
    "    print(key)\n",
    "    print(val.shape)\n",
    "    ca1_only[key] = np.delete(val, mask_idxs, axis=0)"
   ]
  },
  {
   "cell_type": "code",
   "execution_count": 99,
   "metadata": {},
   "outputs": [],
   "source": [
    "semantic_clustered_np = create_semantic_clustered_array(ca1_only['position'], \n",
    "                                                        ca1_only['clust'])\n",
    "ca1_only['clustered_formatted'] = semantic_clustered_np\n",
    "mask_idxs_2 = np.argwhere(semantic_clustered_np==-1)\n",
    "for key, val in ca1_only.items():\n",
    "    ca1_only[key] = np.delete(val, mask_idxs_2, axis=0)"
   ]
  },
  {
   "cell_type": "code",
   "execution_count": 100,
   "metadata": {},
   "outputs": [],
   "source": [
    "import statsmodels.formula.api as smf\n",
    "vc = {'sess':'0+sess'}\n",
    "ca1_only_pd = pd.DataFrame(ca1_only)"
   ]
  },
  {
   "cell_type": "code",
   "execution_count": 101,
   "metadata": {},
   "outputs": [
    {
     "data": {
      "text/plain": [
       "array([0., 1.])"
      ]
     },
     "execution_count": 101,
     "metadata": {},
     "output_type": "execute_result"
    }
   ],
   "source": [
    "np.unique(ca1_only_pd['ripple'])"
   ]
  },
  {
   "cell_type": "code",
   "execution_count": 102,
   "metadata": {},
   "outputs": [
    {
     "name": "stderr",
     "output_type": "stream",
     "text": [
      "/home1/efeghhi/.conda/envs/env1/lib/python3.7/site-packages/statsmodels/base/model.py:512: ConvergenceWarning: Maximum Likelihood optimization failed to converge. Check mle_retvals\n",
      "  \"Check mle_retvals\", ConvergenceWarning)\n",
      "/home1/efeghhi/.conda/envs/env1/lib/python3.7/site-packages/statsmodels/regression/mixed_linear_model.py:2059: ConvergenceWarning: Retrying MixedLM optimization with lbfgs\n",
      "  ConvergenceWarning)\n",
      "/home1/efeghhi/.conda/envs/env1/lib/python3.7/site-packages/statsmodels/base/model.py:512: ConvergenceWarning: Maximum Likelihood optimization failed to converge. Check mle_retvals\n",
      "  \"Check mle_retvals\", ConvergenceWarning)\n",
      "/home1/efeghhi/.conda/envs/env1/lib/python3.7/site-packages/statsmodels/regression/mixed_linear_model.py:2059: ConvergenceWarning: Retrying MixedLM optimization with cg\n",
      "  ConvergenceWarning)\n",
      "/home1/efeghhi/.conda/envs/env1/lib/python3.7/site-packages/statsmodels/base/model.py:512: ConvergenceWarning: Maximum Likelihood optimization failed to converge. Check mle_retvals\n",
      "  \"Check mle_retvals\", ConvergenceWarning)\n",
      "/home1/efeghhi/.conda/envs/env1/lib/python3.7/site-packages/statsmodels/regression/mixed_linear_model.py:2063: ConvergenceWarning: MixedLM optimization failed, trying a different optimizer may help.\n",
      "  warnings.warn(msg, ConvergenceWarning)\n",
      "/home1/efeghhi/.conda/envs/env1/lib/python3.7/site-packages/statsmodels/regression/mixed_linear_model.py:2075: ConvergenceWarning: Gradient optimization failed, |grad| = 507.583532\n",
      "  warnings.warn(msg, ConvergenceWarning)\n",
      "/home1/efeghhi/.conda/envs/env1/lib/python3.7/site-packages/statsmodels/regression/mixed_linear_model.py:2094: ConvergenceWarning: The MLE may be on the boundary of the parameter space.\n",
      "  warnings.warn(msg, ConvergenceWarning)\n",
      "/home1/efeghhi/.conda/envs/env1/lib/python3.7/site-packages/statsmodels/regression/mixed_linear_model.py:2115: ConvergenceWarning: The Hessian matrix at the estimated parameter values is not positive definite.\n",
      "  warnings.warn(msg, ConvergenceWarning)\n",
      "/home1/efeghhi/.conda/envs/env1/lib/python3.7/site-packages/statsmodels/base/model.py:1286: RuntimeWarning: invalid value encountered in sqrt\n",
      "  bse_ = np.sqrt(np.diag(self.cov_params()))\n"
     ]
    },
    {
     "data": {
      "text/html": [
       "<table class=\"simpletable\">\n",
       "<tr>\n",
       "       <td>Model:</td>       <td>MixedLM</td> <td>Dependent Variable:</td> <td>clustered_formatted</td>\n",
       "</tr>\n",
       "<tr>\n",
       "  <td>No. Observations:</td>  <td>11022</td>        <td>Method:</td>              <td>REML</td>        \n",
       "</tr>\n",
       "<tr>\n",
       "     <td>No. Groups:</td>      <td>101</td>         <td>Scale:</td>              <td>0.2432</td>       \n",
       "</tr>\n",
       "<tr>\n",
       "  <td>Min. group size:</td>     <td>4</td>        <td>Likelihood:</td>         <td>-7958.7064</td>     \n",
       "</tr>\n",
       "<tr>\n",
       "  <td>Max. group size:</td>    <td>753</td>       <td>Converged:</td>              <td>No</td>         \n",
       "</tr>\n",
       "<tr>\n",
       "  <td>Mean group size:</td>   <td>109.1</td>           <td></td>                    <td></td>          \n",
       "</tr>\n",
       "</table>\n",
       "<table class=\"simpletable\">\n",
       "<tr>\n",
       "          <td></td>           <th>Coef.</th> <th>Std.Err.</th>    <th>z</th>   <th>P>|z|</th> <th>[0.025</th> <th>0.975]</th>\n",
       "</tr>\n",
       "<tr>\n",
       "  <th>Intercept</th>          <td>0.505</td>   <td>0.007</td>  <td>68.408</td> <td>0.000</td>  <td>0.490</td>  <td>0.519</td>\n",
       "</tr>\n",
       "<tr>\n",
       "  <th>ripple</th>             <td>0.005</td>   <td>0.013</td>   <td>0.342</td> <td>0.732</td> <td>-0.021</td>  <td>0.030</td>\n",
       "</tr>\n",
       "<tr>\n",
       "  <th>HFA</th>                <td>0.005</td>   <td>0.008</td>   <td>0.659</td> <td>0.510</td> <td>-0.011</td>  <td>0.022</td>\n",
       "</tr>\n",
       "<tr>\n",
       "  <th>subj Var</th>           <td>0.001</td>   <td>0.001</td>     <td></td>      <td></td>       <td></td>       <td></td>   \n",
       "</tr>\n",
       "<tr>\n",
       "  <th>subj x ripple Cov</th>  <td>0.001</td>   <td>0.001</td>     <td></td>      <td></td>       <td></td>       <td></td>   \n",
       "</tr>\n",
       "<tr>\n",
       "  <th>ripple Var</th>         <td>0.002</td>   <td>0.006</td>     <td></td>      <td></td>       <td></td>       <td></td>   \n",
       "</tr>\n",
       "<tr>\n",
       "  <th>subj x HFA Cov</th>    <td>-0.000</td>   <td>0.001</td>     <td></td>      <td></td>       <td></td>       <td></td>   \n",
       "</tr>\n",
       "<tr>\n",
       "  <th>ripple x HFA Cov</th>  <td>-0.000</td>     <td></td>        <td></td>      <td></td>       <td></td>       <td></td>   \n",
       "</tr>\n",
       "<tr>\n",
       "  <th>HFA Var</th>            <td>0.005</td>     <td></td>        <td></td>      <td></td>       <td></td>       <td></td>   \n",
       "</tr>\n",
       "</table>"
      ],
      "text/plain": [
       "<class 'statsmodels.iolib.summary2.Summary'>\n",
       "\"\"\"\n",
       "              Mixed Linear Model Regression Results\n",
       "=================================================================\n",
       "Model:            MixedLM Dependent Variable: clustered_formatted\n",
       "No. Observations: 11022   Method:             REML               \n",
       "No. Groups:       101     Scale:              0.2432             \n",
       "Min. group size:  4       Likelihood:         -7958.7064         \n",
       "Max. group size:  753     Converged:          No                 \n",
       "Mean group size:  109.1                                          \n",
       "------------------------------------------------------------------\n",
       "                   Coef.   Std.Err.    z     P>|z|  [0.025  0.975]\n",
       "------------------------------------------------------------------\n",
       "Intercept           0.505     0.007  68.408  0.000   0.490   0.519\n",
       "ripple              0.005     0.013   0.342  0.732  -0.021   0.030\n",
       "HFA                 0.005     0.008   0.659  0.510  -0.011   0.022\n",
       "subj Var            0.001     0.001                               \n",
       "subj x ripple Cov   0.001     0.001                               \n",
       "ripple Var          0.002     0.006                               \n",
       "subj x HFA Cov     -0.000     0.001                               \n",
       "ripple x HFA Cov   -0.000                                         \n",
       "HFA Var             0.005                                         \n",
       "=================================================================\n",
       "\n",
       "\"\"\""
      ]
     },
     "execution_count": 102,
     "metadata": {},
     "output_type": "execute_result"
    }
   ],
   "source": [
    "formula = 'clustered_formatted ~ ripple + HFA'\n",
    "re_formula = 'ripple + HFA'\n",
    "model = smf.mixedlm(formula, ca1_only_pd, groups=\"subj\", \n",
    "                                        re_formula=f'{re_formula}')\n",
    "results = model.fit()\n",
    "results.summary()"
   ]
  },
  {
   "cell_type": "code",
   "execution_count": null,
   "metadata": {},
   "outputs": [],
   "source": [
    "pd.read_csv()"
   ]
  }
 ],
 "metadata": {
  "kernelspec": {
   "display_name": "env1",
   "language": "python",
   "name": "python3"
  },
  "language_info": {
   "codemirror_mode": {
    "name": "ipython",
    "version": 3
   },
   "file_extension": ".py",
   "mimetype": "text/x-python",
   "name": "python",
   "nbconvert_exporter": "python",
   "pygments_lexer": "ipython3",
   "version": "3.7.5"
  },
  "orig_nbformat": 4
 },
 "nbformat": 4,
 "nbformat_minor": 2
}
