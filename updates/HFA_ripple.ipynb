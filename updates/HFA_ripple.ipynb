{
 "cells": [
  {
   "cell_type": "markdown",
   "metadata": {},
   "source": [
    "In both of the following figures, I'm plotting the HFA activity from -700 to 2300 ms, where 0 ms is word onset.\n",
    "\n",
    "The first figure is conditioned on a ripple occurring from 100 to 1700 ms. \n",
    "The second figure is conditioned on no ripple occurring from 100 to 1700 ms.\n",
    "\n",
    "<img src=\"figures/ripple_HFA_wr.png\" />\n",
    "\n",
    "<img src=\"figures/noripple_HFA_wr.png\" />\n",
    "\n",
    "\n",
    "The code to generate these figures can be found in ripple_analysis.ipynb. In particular, I used the function  \n",
    "**plot_SME_HFA** in the **ripple_analysis** notebook which is largely based on **SWRanalysis-HFA_Ebrahim.ipynb**  \n",
    "except that it conditions the HFA plots on the occurrence of a ripple.\n",
    "\n",
    "Next, I ran the mixed effects model (MEM). The code to generate these plots is currently at the end of the  \n",
    "**ripple_analysis.ipynb** notebook.\n",
    "\n",
    "I then plotted the coef values separately for each of the three predictors, with asterisks indicating a p-value \n",
    "of less than 0.05.\n",
    "\n",
    "<img src=\"figures/re_mixedeffect_plot.png\" width=\"300\"/> \n",
    "\n",
    "<img src=\"figures/wr_mixedeffect_plot.png\" width=\"300\"/> \n",
    "\n",
    "<img src=\"figures/interaction_mixedeffect_plot.png\" width=\"300\"/> "
   ]
  }
 ],
 "metadata": {
  "kernelspec": {
   "display_name": "Python 3.7.5 ('env1')",
   "language": "python",
   "name": "python3"
  },
  "language_info": {
   "codemirror_mode": {
    "name": "ipython",
    "version": 3
   },
   "file_extension": ".py",
   "mimetype": "text/x-python",
   "name": "python",
   "nbconvert_exporter": "python",
   "pygments_lexer": "ipython3",
   "version": "3.7.5"
  },
  "orig_nbformat": 4,
  "vscode": {
   "interpreter": {
    "hash": "9e8f5d2e57eff70edb3fd5a3e06f404907a0b2260d7037965ce98bfcad4ff40e"
   }
  }
 },
 "nbformat": 4,
 "nbformat_minor": 2
}
