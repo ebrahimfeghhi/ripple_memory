{
 "cells": [
  {
   "cell_type": "code",
   "execution_count": 63,
   "metadata": {},
   "outputs": [],
   "source": [
    "import pandas as pd\n",
    "from IPython.display import display_html \n",
    "\n",
    "def plot_statsmodel_results(region_name):\n",
    "\n",
    "    df1 = pd.read_csv(f'stats_results/mem_model_SME_{region_name}.csv', index_col=0)\n",
    "    df2 = pd.read_csv(f'stats_results/OLS_model_SME_{region_name}.csv', index_col=0)\n",
    "\n",
    "    df1_styler = df1.style.set_precision(3).set_table_attributes(\"style='display:inline'\").set_caption('Mixed effect model')\n",
    "    df2_styler = df2.style.set_precision(3).set_table_attributes(\"style='display:inline'\").set_caption('OLS model')\n",
    "\n",
    "    display_html(df1_styler._repr_html_()+df2_styler._repr_html_(), raw=True)"
   ]
  },
  {
   "cell_type": "markdown",
   "metadata": {},
   "source": [
    "The following figures show the HFA activity from -700 to 2300 ms, where 0 ms is word onset.\n",
    "\n",
    "The first figure is conditioned on a ripple occurring from 100 to 1700 ms. \n",
    "The second figure is conditioned on no ripple occurring from 100 to 1700 ms.\n",
    "\n",
    "The first row is data from the CA1 region of hippocampus.\n",
    "\n",
    "<p float=\"middle\">\n",
    "    <img src=\"figures/ripple_HFA_wr_HPC.png\" />\n",
    "    <img src=\"figures/no_ripple_HFA_wr_HPC.png\" />\n",
    "</p>\n",
    "\n",
    "<p float=\"middle\">\n",
    "    <img src=\"figures/ripple_HFA_wr_AMY.png\" />\n",
    "    <img src=\"figures/no_ripple_HFA_wr_AMY.png\" />\n",
    "</p>\n",
    "\n",
    "\n",
    "\n",
    "The code to generate these figures can be found in ripple_analysis.ipynb. In particular, I used the function  \n",
    "**plot_SME_HFA** in the **ripple_analysis** notebook which is largely based on **SWRanalysis-HFA_Ebrahim.ipynb**  \n",
    "except that it conditions the HFA plots on the occurrence of a ripple.\n",
    "\n",
    "Our dependent variable is the z-scored HFA activity. We want to know whether the SME depends on whether or not there is a ripple. We have four groups of interest: \n",
    "1) Ripple + Word recalled\n",
    "2) Ripple + Word not recalled\n",
    "3) No ripple + Word recalled\n",
    "4) No ripple + No word recalled \n",
    "\n",
    "It may seem correct to divide HFA activity into the four groups outlined above, and then do a t-test on groups 1 and 2, and then separately between groups 3 and 4. However, this is incorrect because what we are really interested in is the difference between groups 1 and 2 compared to the difference between groups 3 and 4. Because we are interested in the impact of a ripple on the SME, we need to assess the signficance of the interaction effect. I ran a mixed effects model to determine the interaction effect, the results are printed in the block below. I additionally determiend the intereaction effect using a standard OLS model, and the results are printed below the mixed effects model."
   ]
  },
  {
   "cell_type": "code",
   "execution_count": 64,
   "metadata": {},
   "outputs": [
    {
     "data": {
      "text/html": [
       "<style  type=\"text/css\" >\n",
       "</style><table id=\"T_c7382_\" style='display:inline'><caption>Mixed effect model</caption><thead>    <tr>        <th class=\"blank level0\" ></th>        <th class=\"col_heading level0 col0\" >coef</th>        <th class=\"col_heading level0 col1\" >stderr</th>        <th class=\"col_heading level0 col2\" >pval</th>        <th class=\"col_heading level0 col3\" >tval</th>    </tr>    <tr>        <th class=\"index_name level0\" >name</th>        <th class=\"blank\" ></th>        <th class=\"blank\" ></th>        <th class=\"blank\" ></th>        <th class=\"blank\" ></th>    </tr></thead><tbody>\n",
       "                <tr>\n",
       "                        <th id=\"T_c7382_level0_row0\" class=\"row_heading level0 row0\" >Intercept</th>\n",
       "                        <td id=\"T_c7382_row0_col0\" class=\"data row0 col0\" >-0.190</td>\n",
       "                        <td id=\"T_c7382_row0_col1\" class=\"data row0 col1\" >0.021</td>\n",
       "                        <td id=\"T_c7382_row0_col2\" class=\"data row0 col2\" >0.000</td>\n",
       "                        <td id=\"T_c7382_row0_col3\" class=\"data row0 col3\" >-9.119</td>\n",
       "            </tr>\n",
       "            <tr>\n",
       "                        <th id=\"T_c7382_level0_row1\" class=\"row_heading level0 row1\" >ripple_exists</th>\n",
       "                        <td id=\"T_c7382_row1_col0\" class=\"data row1 col0\" >0.744</td>\n",
       "                        <td id=\"T_c7382_row1_col1\" class=\"data row1 col1\" >0.049</td>\n",
       "                        <td id=\"T_c7382_row1_col2\" class=\"data row1 col2\" >0.000</td>\n",
       "                        <td id=\"T_c7382_row1_col3\" class=\"data row1 col3\" >15.203</td>\n",
       "            </tr>\n",
       "            <tr>\n",
       "                        <th id=\"T_c7382_level0_row2\" class=\"row_heading level0 row2\" >word_recalled</th>\n",
       "                        <td id=\"T_c7382_row2_col0\" class=\"data row2 col0\" >0.111</td>\n",
       "                        <td id=\"T_c7382_row2_col1\" class=\"data row2 col1\" >0.038</td>\n",
       "                        <td id=\"T_c7382_row2_col2\" class=\"data row2 col2\" >0.003</td>\n",
       "                        <td id=\"T_c7382_row2_col3\" class=\"data row2 col3\" >2.959</td>\n",
       "            </tr>\n",
       "            <tr>\n",
       "                        <th id=\"T_c7382_level0_row3\" class=\"row_heading level0 row3\" >ripple_exists:word_recalled</th>\n",
       "                        <td id=\"T_c7382_row3_col0\" class=\"data row3 col0\" >-0.093</td>\n",
       "                        <td id=\"T_c7382_row3_col1\" class=\"data row3 col1\" >0.049</td>\n",
       "                        <td id=\"T_c7382_row3_col2\" class=\"data row3 col2\" >0.057</td>\n",
       "                        <td id=\"T_c7382_row3_col3\" class=\"data row3 col3\" >-1.901</td>\n",
       "            </tr>\n",
       "    </tbody></table><style  type=\"text/css\" >\n",
       "</style><table id=\"T_6b201_\" style='display:inline'><caption>OLS model</caption><thead>    <tr>        <th class=\"blank level0\" ></th>        <th class=\"col_heading level0 col0\" >coef</th>        <th class=\"col_heading level0 col1\" >stderr</th>        <th class=\"col_heading level0 col2\" >pval</th>        <th class=\"col_heading level0 col3\" >tval</th>    </tr>    <tr>        <th class=\"index_name level0\" >name</th>        <th class=\"blank\" ></th>        <th class=\"blank\" ></th>        <th class=\"blank\" ></th>        <th class=\"blank\" ></th>    </tr></thead><tbody>\n",
       "                <tr>\n",
       "                        <th id=\"T_6b201_level0_row0\" class=\"row_heading level0 row0\" >Intercept</th>\n",
       "                        <td id=\"T_6b201_row0_col0\" class=\"data row0 col0\" >-0.186</td>\n",
       "                        <td id=\"T_6b201_row0_col1\" class=\"data row0 col1\" >0.012</td>\n",
       "                        <td id=\"T_6b201_row0_col2\" class=\"data row0 col2\" >0.000</td>\n",
       "                        <td id=\"T_6b201_row0_col3\" class=\"data row0 col3\" >-15.411</td>\n",
       "            </tr>\n",
       "            <tr>\n",
       "                        <th id=\"T_6b201_level0_row1\" class=\"row_heading level0 row1\" >ripple_exists</th>\n",
       "                        <td id=\"T_6b201_row1_col0\" class=\"data row1 col0\" >0.747</td>\n",
       "                        <td id=\"T_6b201_row1_col1\" class=\"data row1 col1\" >0.021</td>\n",
       "                        <td id=\"T_6b201_row1_col2\" class=\"data row1 col2\" >0.000</td>\n",
       "                        <td id=\"T_6b201_row1_col3\" class=\"data row1 col3\" >35.039</td>\n",
       "            </tr>\n",
       "            <tr>\n",
       "                        <th id=\"T_6b201_level0_row2\" class=\"row_heading level0 row2\" >word_recalled</th>\n",
       "                        <td id=\"T_6b201_row2_col0\" class=\"data row2 col0\" >0.169</td>\n",
       "                        <td id=\"T_6b201_row2_col1\" class=\"data row2 col1\" >0.019</td>\n",
       "                        <td id=\"T_6b201_row2_col2\" class=\"data row2 col2\" >0.000</td>\n",
       "                        <td id=\"T_6b201_row2_col3\" class=\"data row2 col3\" >8.781</td>\n",
       "            </tr>\n",
       "            <tr>\n",
       "                        <th id=\"T_6b201_level0_row3\" class=\"row_heading level0 row3\" >ripple_exists:word_recalled</th>\n",
       "                        <td id=\"T_6b201_row3_col0\" class=\"data row3 col0\" >-0.059</td>\n",
       "                        <td id=\"T_6b201_row3_col1\" class=\"data row3 col1\" >0.032</td>\n",
       "                        <td id=\"T_6b201_row3_col2\" class=\"data row3 col2\" >0.067</td>\n",
       "                        <td id=\"T_6b201_row3_col3\" class=\"data row3 col3\" >-1.835</td>\n",
       "            </tr>\n",
       "    </tbody></table>"
      ]
     },
     "metadata": {},
     "output_type": "display_data"
    }
   ],
   "source": [
    "plot_statsmodel_results('HPC')"
   ]
  },
  {
   "cell_type": "code",
   "execution_count": 65,
   "metadata": {},
   "outputs": [
    {
     "data": {
      "text/html": [
       "<style  type=\"text/css\" >\n",
       "</style><table id=\"T_ac94e_\" style='display:inline'><caption>Mixed effect model</caption><thead>    <tr>        <th class=\"blank level0\" ></th>        <th class=\"col_heading level0 col0\" >coef</th>        <th class=\"col_heading level0 col1\" >stderr</th>        <th class=\"col_heading level0 col2\" >pval</th>        <th class=\"col_heading level0 col3\" >tval</th>    </tr>    <tr>        <th class=\"index_name level0\" >name</th>        <th class=\"blank\" ></th>        <th class=\"blank\" ></th>        <th class=\"blank\" ></th>        <th class=\"blank\" ></th>    </tr></thead><tbody>\n",
       "                <tr>\n",
       "                        <th id=\"T_ac94e_level0_row0\" class=\"row_heading level0 row0\" >Intercept</th>\n",
       "                        <td id=\"T_ac94e_row0_col0\" class=\"data row0 col0\" >-0.174</td>\n",
       "                        <td id=\"T_ac94e_row0_col1\" class=\"data row0 col1\" >0.050</td>\n",
       "                        <td id=\"T_ac94e_row0_col2\" class=\"data row0 col2\" >0.000</td>\n",
       "                        <td id=\"T_ac94e_row0_col3\" class=\"data row0 col3\" >-3.490</td>\n",
       "            </tr>\n",
       "            <tr>\n",
       "                        <th id=\"T_ac94e_level0_row1\" class=\"row_heading level0 row1\" >ripple_exists</th>\n",
       "                        <td id=\"T_ac94e_row1_col0\" class=\"data row1 col0\" >1.083</td>\n",
       "                        <td id=\"T_ac94e_row1_col1\" class=\"data row1 col1\" >0.190</td>\n",
       "                        <td id=\"T_ac94e_row1_col2\" class=\"data row1 col2\" >0.000</td>\n",
       "                        <td id=\"T_ac94e_row1_col3\" class=\"data row1 col3\" >5.709</td>\n",
       "            </tr>\n",
       "            <tr>\n",
       "                        <th id=\"T_ac94e_level0_row2\" class=\"row_heading level0 row2\" >word_recalled</th>\n",
       "                        <td id=\"T_ac94e_row2_col0\" class=\"data row2 col0\" >0.070</td>\n",
       "                        <td id=\"T_ac94e_row2_col1\" class=\"data row2 col1\" >0.045</td>\n",
       "                        <td id=\"T_ac94e_row2_col2\" class=\"data row2 col2\" >0.116</td>\n",
       "                        <td id=\"T_ac94e_row2_col3\" class=\"data row2 col3\" >1.571</td>\n",
       "            </tr>\n",
       "            <tr>\n",
       "                        <th id=\"T_ac94e_level0_row3\" class=\"row_heading level0 row3\" >ripple_exists:word_recalled</th>\n",
       "                        <td id=\"T_ac94e_row3_col0\" class=\"data row3 col0\" >-0.081</td>\n",
       "                        <td id=\"T_ac94e_row3_col1\" class=\"data row3 col1\" >0.080</td>\n",
       "                        <td id=\"T_ac94e_row3_col2\" class=\"data row3 col2\" >0.309</td>\n",
       "                        <td id=\"T_ac94e_row3_col3\" class=\"data row3 col3\" >-1.017</td>\n",
       "            </tr>\n",
       "    </tbody></table><style  type=\"text/css\" >\n",
       "</style><table id=\"T_bedee_\" style='display:inline'><caption>OLS model</caption><thead>    <tr>        <th class=\"blank level0\" ></th>        <th class=\"col_heading level0 col0\" >coef</th>        <th class=\"col_heading level0 col1\" >stderr</th>        <th class=\"col_heading level0 col2\" >pval</th>        <th class=\"col_heading level0 col3\" >tval</th>    </tr>    <tr>        <th class=\"index_name level0\" >name</th>        <th class=\"blank\" ></th>        <th class=\"blank\" ></th>        <th class=\"blank\" ></th>        <th class=\"blank\" ></th>    </tr></thead><tbody>\n",
       "                <tr>\n",
       "                        <th id=\"T_bedee_level0_row0\" class=\"row_heading level0 row0\" >Intercept</th>\n",
       "                        <td id=\"T_bedee_row0_col0\" class=\"data row0 col0\" >-0.128</td>\n",
       "                        <td id=\"T_bedee_row0_col1\" class=\"data row0 col1\" >0.020</td>\n",
       "                        <td id=\"T_bedee_row0_col2\" class=\"data row0 col2\" >0.000</td>\n",
       "                        <td id=\"T_bedee_row0_col3\" class=\"data row0 col3\" >-6.449</td>\n",
       "            </tr>\n",
       "            <tr>\n",
       "                        <th id=\"T_bedee_level0_row1\" class=\"row_heading level0 row1\" >ripple_exists</th>\n",
       "                        <td id=\"T_bedee_row1_col0\" class=\"data row1 col0\" >0.833</td>\n",
       "                        <td id=\"T_bedee_row1_col1\" class=\"data row1 col1\" >0.039</td>\n",
       "                        <td id=\"T_bedee_row1_col2\" class=\"data row1 col2\" >0.000</td>\n",
       "                        <td id=\"T_bedee_row1_col3\" class=\"data row1 col3\" >21.592</td>\n",
       "            </tr>\n",
       "            <tr>\n",
       "                        <th id=\"T_bedee_level0_row2\" class=\"row_heading level0 row2\" >word_recalled</th>\n",
       "                        <td id=\"T_bedee_row2_col0\" class=\"data row2 col0\" >-0.027</td>\n",
       "                        <td id=\"T_bedee_row2_col1\" class=\"data row2 col1\" >0.035</td>\n",
       "                        <td id=\"T_bedee_row2_col2\" class=\"data row2 col2\" >0.437</td>\n",
       "                        <td id=\"T_bedee_row2_col3\" class=\"data row2 col3\" >-0.777</td>\n",
       "            </tr>\n",
       "            <tr>\n",
       "                        <th id=\"T_bedee_level0_row3\" class=\"row_heading level0 row3\" >ripple_exists:word_recalled</th>\n",
       "                        <td id=\"T_bedee_row3_col0\" class=\"data row3 col0\" >0.066</td>\n",
       "                        <td id=\"T_bedee_row3_col1\" class=\"data row3 col1\" >0.068</td>\n",
       "                        <td id=\"T_bedee_row3_col2\" class=\"data row3 col2\" >0.331</td>\n",
       "                        <td id=\"T_bedee_row3_col3\" class=\"data row3 col3\" >0.972</td>\n",
       "            </tr>\n",
       "    </tbody></table>"
      ]
     },
     "metadata": {},
     "output_type": "display_data"
    }
   ],
   "source": [
    "plot_statsmodel_results('AMY')"
   ]
  },
  {
   "cell_type": "code",
   "execution_count": null,
   "metadata": {},
   "outputs": [],
   "source": []
  }
 ],
 "metadata": {
  "kernelspec": {
   "display_name": "Python 3.7.5 ('env1')",
   "language": "python",
   "name": "python3"
  },
  "language_info": {
   "codemirror_mode": {
    "name": "ipython",
    "version": 3
   },
   "file_extension": ".py",
   "mimetype": "text/x-python",
   "name": "python",
   "nbconvert_exporter": "python",
   "pygments_lexer": "ipython3",
   "version": "3.7.5"
  },
  "orig_nbformat": 4,
  "vscode": {
   "interpreter": {
    "hash": "9e8f5d2e57eff70edb3fd5a3e06f404907a0b2260d7037965ce98bfcad4ff40e"
   }
  }
 },
 "nbformat": 4,
 "nbformat_minor": 2
}
