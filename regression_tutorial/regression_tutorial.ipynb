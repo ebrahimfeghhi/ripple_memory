{
 "cells": [
  {
   "cell_type": "code",
   "execution_count": 1,
   "metadata": {},
   "outputs": [
    {
     "name": "stderr",
     "output_type": "stream",
     "text": [
      "/home1/efeghhi/.conda/envs/env1/lib/python3.7/site-packages/statsmodels/tools/_testing.py:19: FutureWarning: pandas.util.testing is deprecated. Use the functions in the public API at pandas.testing instead.\n",
      "  import pandas.util.testing as tm\n"
     ]
    }
   ],
   "source": [
    "import numpy as np\n",
    "import pandas as pd\n",
    "import statsmodels.api as sm\n",
    "from sklearn import datasets\n",
    "import statsmodels.formula.api as smf\n",
    "from sklearn.linear_model import LinearRegression\n",
    "import scipy.stats as stats"
   ]
  },
  {
   "cell_type": "code",
   "execution_count": 2,
   "metadata": {},
   "outputs": [
    {
     "name": "stdout",
     "output_type": "stream",
     "text": [
      "Number of predictors 2\n",
      "Number of trials 150\n"
     ]
    }
   ],
   "source": [
    "# load dataset\n",
    "iris = datasets.load_iris()\n",
    "X = iris.data[:, :2]\n",
    "y = iris.data[:, 3]\n",
    "print(f\"Number of predictors {X.shape[1]}\")\n",
    "print(f\"Number of trials {X.shape[0]}\")"
   ]
  },
  {
   "cell_type": "code",
   "execution_count": 3,
   "metadata": {},
   "outputs": [],
   "source": [
    "bias = np.ones((X.shape[0],1))\n",
    "X_with_bias = np.hstack((X,bias))\n",
    "n = X.shape[0]\n",
    "num_predictors = X.shape[1]"
   ]
  },
  {
   "cell_type": "code",
   "execution_count": 12,
   "metadata": {},
   "outputs": [],
   "source": [
    "X_pd = pd.DataFrame(np.hstack((X_with_bias,np.expand_dims(y,axis=-1))), columns=['pred1', 'pred2', 'bias', 'y'])"
   ]
  },
  {
   "cell_type": "code",
   "execution_count": 15,
   "metadata": {},
   "outputs": [
    {
     "name": "stdout",
     "output_type": "stream",
     "text": [
      "                            OLS Regression Results                            \n",
      "==============================================================================\n",
      "Dep. Variable:                      y   R-squared:                       0.743\n",
      "Model:                            OLS   Adj. R-squared:                  0.739\n",
      "Method:                 Least Squares   F-statistic:                     212.4\n",
      "Date:                Thu, 04 May 2023   Prob (F-statistic):           4.36e-44\n",
      "Time:                        22:35:12   Log-Likelihood:                -69.735\n",
      "No. Observations:                 150   AIC:                             145.5\n",
      "Df Residuals:                     147   BIC:                             154.5\n",
      "Df Model:                           2                                         \n",
      "Covariance Type:            nonrobust                                         \n",
      "==============================================================================\n",
      "                 coef    std err          t      P>|t|      [0.025      0.975]\n",
      "------------------------------------------------------------------------------\n",
      "Intercept     -1.5635      0.339     -4.611      0.000      -2.234      -0.893\n",
      "pred1          0.7233      0.039     18.659      0.000       0.647       0.800\n",
      "pred2         -0.4787      0.074     -6.501      0.000      -0.624      -0.333\n",
      "==============================================================================\n",
      "Omnibus:                       12.229   Durbin-Watson:                   1.461\n",
      "Prob(Omnibus):                  0.002   Jarque-Bera (JB):               13.043\n",
      "Skew:                           0.715   Prob(JB):                      0.00147\n",
      "Kurtosis:                       3.203   Cond. No.                         72.8\n",
      "==============================================================================\n",
      "\n",
      "Warnings:\n",
      "[1] Standard Errors assume that the covariance matrix of the errors is correctly specified.\n"
     ]
    }
   ],
   "source": [
    "model = smf.ols(\"y~pred1+pred2\", data=X_pd)\n",
    "model_fit = model.fit()\n",
    "print(model_fit.summary())"
   ]
  },
  {
   "cell_type": "code",
   "execution_count": 16,
   "metadata": {},
   "outputs": [],
   "source": [
    "# y = XB\n",
    "beta = np.linalg.pinv(X_with_bias)@y\n",
    "y_hat = X_with_bias@beta"
   ]
  },
  {
   "cell_type": "code",
   "execution_count": 17,
   "metadata": {},
   "outputs": [
    {
     "name": "stdout",
     "output_type": "stream",
     "text": [
      "[ 0.723292   -0.47872132] -1.563492266306607\n"
     ]
    }
   ],
   "source": [
    "reg = LinearRegression().fit(X,y)\n",
    "print(reg.coef_, reg.intercept_)"
   ]
  },
  {
   "cell_type": "code",
   "execution_count": 18,
   "metadata": {},
   "outputs": [
    {
     "name": "stdout",
     "output_type": "stream",
     "text": [
      "R2 ebrahim 0.7429280023779845, R2 scikit 0.7429280023779846\n"
     ]
    }
   ],
   "source": [
    "# compute SS of y \n",
    "SS_total = np.sum((y - np.mean(y))**2)\n",
    "SS_model = np.sum((y_hat - np.mean(y))**2)\n",
    "r2 = SS_model / SS_total\n",
    "print(f\"R2 ebrahim {r2}, R2 scikit {reg.score(X,y)}\")"
   ]
  },
  {
   "cell_type": "code",
   "execution_count": 24,
   "metadata": {},
   "outputs": [
    {
     "name": "stdout",
     "output_type": "stream",
     "text": [
      "212.4121206506138\n"
     ]
    }
   ],
   "source": [
    "MS_model = SS_model/num_predictors\n",
    "SS_residual = SS_total - SS_model # unexplained variance\n",
    "MS_residual = SS_residual / ((n-1)-num_predictors)\n",
    "F_stat = MS_model/MS_residual\n",
    "print(F_stat)"
   ]
  },
  {
   "cell_type": "code",
   "execution_count": 92,
   "metadata": {},
   "outputs": [],
   "source": [
    "MS_model = SS_model/num_predictors\n",
    "F_stat = MS_model/MS_residual"
   ]
  },
  {
   "cell_type": "code",
   "execution_count": 86,
   "metadata": {},
   "outputs": [
    {
     "name": "stdout",
     "output_type": "stream",
     "text": [
      "0.7429280023779846\n"
     ]
    }
   ],
   "source": [
    "print(reg.score(X,y))"
   ]
  },
  {
   "cell_type": "code",
   "execution_count": 26,
   "metadata": {},
   "outputs": [
    {
     "name": "stdout",
     "output_type": "stream",
     "text": [
      "Predictors shape: (84, 3)\n"
     ]
    }
   ],
   "source": [
    "# define X and y variables \n",
    "X = data.loc[:, ['gender', 'attitude']]\n",
    "X['bias'] = np.ones(X.shape[0])\n",
    "y = data[['frequency']]\n",
    "print(f\"Predictors shape: {X.shape}\")"
   ]
  },
  {
   "cell_type": "code",
   "execution_count": 36,
   "metadata": {},
   "outputs": [
    {
     "data": {
      "text/plain": [
       "array([['F', 'pol', 1.0],\n",
       "       ['F', 'inf', 1.0],\n",
       "       ['F', 'pol', 1.0],\n",
       "       ['F', 'inf', 1.0],\n",
       "       ['F', 'pol', 1.0],\n",
       "       ['F', 'inf', 1.0],\n",
       "       ['F', 'pol', 1.0],\n",
       "       ['F', 'inf', 1.0],\n",
       "       ['F', 'pol', 1.0],\n",
       "       ['F', 'inf', 1.0],\n",
       "       ['F', 'pol', 1.0],\n",
       "       ['F', 'inf', 1.0],\n",
       "       ['F', 'inf', 1.0],\n",
       "       ['F', 'pol', 1.0],\n",
       "       ['F', 'pol', 1.0],\n",
       "       ['F', 'inf', 1.0],\n",
       "       ['F', 'pol', 1.0],\n",
       "       ['F', 'inf', 1.0],\n",
       "       ['F', 'pol', 1.0],\n",
       "       ['F', 'inf', 1.0],\n",
       "       ['F', 'pol', 1.0],\n",
       "       ['F', 'inf', 1.0],\n",
       "       ['F', 'pol', 1.0],\n",
       "       ['F', 'inf', 1.0],\n",
       "       ['F', 'pol', 1.0],\n",
       "       ['F', 'inf', 1.0],\n",
       "       ['F', 'inf', 1.0],\n",
       "       ['F', 'pol', 1.0],\n",
       "       ['M', 'pol', 1.0],\n",
       "       ['M', 'inf', 1.0],\n",
       "       ['M', 'pol', 1.0],\n",
       "       ['M', 'inf', 1.0],\n",
       "       ['M', 'pol', 1.0],\n",
       "       ['M', 'inf', 1.0],\n",
       "       ['M', 'pol', 1.0],\n",
       "       ['M', 'inf', 1.0],\n",
       "       ['M', 'pol', 1.0],\n",
       "       ['M', 'inf', 1.0],\n",
       "       ['M', 'pol', 1.0],\n",
       "       ['M', 'inf', 1.0],\n",
       "       ['M', 'inf', 1.0],\n",
       "       ['M', 'pol', 1.0],\n",
       "       ['M', 'pol', 1.0],\n",
       "       ['M', 'inf', 1.0],\n",
       "       ['M', 'pol', 1.0],\n",
       "       ['M', 'inf', 1.0],\n",
       "       ['M', 'pol', 1.0],\n",
       "       ['M', 'inf', 1.0],\n",
       "       ['M', 'pol', 1.0],\n",
       "       ['M', 'inf', 1.0],\n",
       "       ['M', 'pol', 1.0],\n",
       "       ['M', 'inf', 1.0],\n",
       "       ['M', 'pol', 1.0],\n",
       "       ['M', 'inf', 1.0],\n",
       "       ['M', 'inf', 1.0],\n",
       "       ['M', 'pol', 1.0],\n",
       "       ['F', 'pol', 1.0],\n",
       "       ['F', 'inf', 1.0],\n",
       "       ['F', 'pol', 1.0],\n",
       "       ['F', 'inf', 1.0],\n",
       "       ['F', 'pol', 1.0],\n",
       "       ['F', 'inf', 1.0],\n",
       "       ['F', 'pol', 1.0],\n",
       "       ['F', 'inf', 1.0],\n",
       "       ['F', 'pol', 1.0],\n",
       "       ['F', 'inf', 1.0],\n",
       "       ['F', 'pol', 1.0],\n",
       "       ['F', 'inf', 1.0],\n",
       "       ['F', 'inf', 1.0],\n",
       "       ['F', 'pol', 1.0],\n",
       "       ['M', 'pol', 1.0],\n",
       "       ['M', 'inf', 1.0],\n",
       "       ['M', 'pol', 1.0],\n",
       "       ['M', 'inf', 1.0],\n",
       "       ['M', 'pol', 1.0],\n",
       "       ['M', 'inf', 1.0],\n",
       "       ['M', 'pol', 1.0],\n",
       "       ['M', 'inf', 1.0],\n",
       "       ['M', 'pol', 1.0],\n",
       "       ['M', 'inf', 1.0],\n",
       "       ['M', 'pol', 1.0],\n",
       "       ['M', 'inf', 1.0],\n",
       "       ['M', 'inf', 1.0],\n",
       "       ['M', 'pol', 1.0]], dtype=object)"
      ]
     },
     "execution_count": 36,
     "metadata": {},
     "output_type": "execute_result"
    }
   ],
   "source": [
    "X.to_numpy()"
   ]
  },
  {
   "cell_type": "code",
   "execution_count": 35,
   "metadata": {},
   "outputs": [
    {
     "ename": "TypeError",
     "evalue": "loop of ufunc does not support argument 0 of type str which has no callable conjugate method",
     "output_type": "error",
     "traceback": [
      "\u001b[0;31m---------------------------------------------------------------------------\u001b[0m",
      "\u001b[0;31mAttributeError\u001b[0m                            Traceback (most recent call last)",
      "\u001b[0;31mAttributeError\u001b[0m: 'str' object has no attribute 'conjugate'",
      "\nThe above exception was the direct cause of the following exception:\n",
      "\u001b[0;31mTypeError\u001b[0m                                 Traceback (most recent call last)",
      "\u001b[0;32m<ipython-input-35-c8c5abdaecb6>\u001b[0m in \u001b[0;36m<module>\u001b[0;34m\u001b[0m\n\u001b[0;32m----> 1\u001b[0;31m \u001b[0mnp\u001b[0m\u001b[0;34m.\u001b[0m\u001b[0mlinalg\u001b[0m\u001b[0;34m.\u001b[0m\u001b[0mpinv\u001b[0m\u001b[0;34m(\u001b[0m\u001b[0mX\u001b[0m\u001b[0;34m.\u001b[0m\u001b[0mto_numpy\u001b[0m\u001b[0;34m(\u001b[0m\u001b[0;34m)\u001b[0m\u001b[0;34m)\u001b[0m\u001b[0;34m.\u001b[0m\u001b[0mshape\u001b[0m\u001b[0;34m\u001b[0m\u001b[0;34m\u001b[0m\u001b[0m\n\u001b[0m",
      "\u001b[0;32m<__array_function__ internals>\u001b[0m in \u001b[0;36mpinv\u001b[0;34m(*args, **kwargs)\u001b[0m\n",
      "\u001b[0;32m~/.conda/envs/env1/lib/python3.7/site-packages/numpy/linalg/linalg.py\u001b[0m in \u001b[0;36mpinv\u001b[0;34m(a, rcond, hermitian)\u001b[0m\n\u001b[1;32m   1967\u001b[0m         \u001b[0mres\u001b[0m \u001b[0;34m=\u001b[0m \u001b[0mempty\u001b[0m\u001b[0;34m(\u001b[0m\u001b[0ma\u001b[0m\u001b[0;34m.\u001b[0m\u001b[0mshape\u001b[0m\u001b[0;34m[\u001b[0m\u001b[0;34m:\u001b[0m\u001b[0;34m-\u001b[0m\u001b[0;36m2\u001b[0m\u001b[0;34m]\u001b[0m \u001b[0;34m+\u001b[0m \u001b[0;34m(\u001b[0m\u001b[0mn\u001b[0m\u001b[0;34m,\u001b[0m \u001b[0mm\u001b[0m\u001b[0;34m)\u001b[0m\u001b[0;34m,\u001b[0m \u001b[0mdtype\u001b[0m\u001b[0;34m=\u001b[0m\u001b[0ma\u001b[0m\u001b[0;34m.\u001b[0m\u001b[0mdtype\u001b[0m\u001b[0;34m)\u001b[0m\u001b[0;34m\u001b[0m\u001b[0;34m\u001b[0m\u001b[0m\n\u001b[1;32m   1968\u001b[0m         \u001b[0;32mreturn\u001b[0m \u001b[0mwrap\u001b[0m\u001b[0;34m(\u001b[0m\u001b[0mres\u001b[0m\u001b[0;34m)\u001b[0m\u001b[0;34m\u001b[0m\u001b[0;34m\u001b[0m\u001b[0m\n\u001b[0;32m-> 1969\u001b[0;31m     \u001b[0ma\u001b[0m \u001b[0;34m=\u001b[0m \u001b[0ma\u001b[0m\u001b[0;34m.\u001b[0m\u001b[0mconjugate\u001b[0m\u001b[0;34m(\u001b[0m\u001b[0;34m)\u001b[0m\u001b[0;34m\u001b[0m\u001b[0;34m\u001b[0m\u001b[0m\n\u001b[0m\u001b[1;32m   1970\u001b[0m     \u001b[0mu\u001b[0m\u001b[0;34m,\u001b[0m \u001b[0ms\u001b[0m\u001b[0;34m,\u001b[0m \u001b[0mvt\u001b[0m \u001b[0;34m=\u001b[0m \u001b[0msvd\u001b[0m\u001b[0;34m(\u001b[0m\u001b[0ma\u001b[0m\u001b[0;34m,\u001b[0m \u001b[0mfull_matrices\u001b[0m\u001b[0;34m=\u001b[0m\u001b[0;32mFalse\u001b[0m\u001b[0;34m,\u001b[0m \u001b[0mhermitian\u001b[0m\u001b[0;34m=\u001b[0m\u001b[0mhermitian\u001b[0m\u001b[0;34m)\u001b[0m\u001b[0;34m\u001b[0m\u001b[0;34m\u001b[0m\u001b[0m\n\u001b[1;32m   1971\u001b[0m \u001b[0;34m\u001b[0m\u001b[0m\n",
      "\u001b[0;31mTypeError\u001b[0m: loop of ufunc does not support argument 0 of type str which has no callable conjugate method"
     ]
    }
   ],
   "source": [
    "np.linalg.pinv(X.to_numpy()).shape"
   ]
  },
  {
   "cell_type": "code",
   "execution_count": 20,
   "metadata": {},
   "outputs": [
    {
     "data": {
      "text/html": [
       "<div>\n",
       "<style scoped>\n",
       "    .dataframe tbody tr th:only-of-type {\n",
       "        vertical-align: middle;\n",
       "    }\n",
       "\n",
       "    .dataframe tbody tr th {\n",
       "        vertical-align: top;\n",
       "    }\n",
       "\n",
       "    .dataframe thead th {\n",
       "        text-align: right;\n",
       "    }\n",
       "</style>\n",
       "<table border=\"1\" class=\"dataframe\">\n",
       "  <thead>\n",
       "    <tr style=\"text-align: right;\">\n",
       "      <th></th>\n",
       "      <th>gender</th>\n",
       "      <th>attitude</th>\n",
       "      <th>bias</th>\n",
       "    </tr>\n",
       "  </thead>\n",
       "  <tbody>\n",
       "    <tr>\n",
       "      <th>0</th>\n",
       "      <td>F</td>\n",
       "      <td>pol</td>\n",
       "      <td>1.0</td>\n",
       "    </tr>\n",
       "    <tr>\n",
       "      <th>1</th>\n",
       "      <td>F</td>\n",
       "      <td>inf</td>\n",
       "      <td>1.0</td>\n",
       "    </tr>\n",
       "    <tr>\n",
       "      <th>2</th>\n",
       "      <td>F</td>\n",
       "      <td>pol</td>\n",
       "      <td>1.0</td>\n",
       "    </tr>\n",
       "    <tr>\n",
       "      <th>3</th>\n",
       "      <td>F</td>\n",
       "      <td>inf</td>\n",
       "      <td>1.0</td>\n",
       "    </tr>\n",
       "    <tr>\n",
       "      <th>4</th>\n",
       "      <td>F</td>\n",
       "      <td>pol</td>\n",
       "      <td>1.0</td>\n",
       "    </tr>\n",
       "  </tbody>\n",
       "</table>\n",
       "</div>"
      ],
      "text/plain": [
       "  gender attitude  bias\n",
       "0      F      pol   1.0\n",
       "1      F      inf   1.0\n",
       "2      F      pol   1.0\n",
       "3      F      inf   1.0\n",
       "4      F      pol   1.0"
      ]
     },
     "execution_count": 20,
     "metadata": {},
     "output_type": "execute_result"
    }
   ],
   "source": [
    "X.head()"
   ]
  },
  {
   "cell_type": "code",
   "execution_count": null,
   "metadata": {},
   "outputs": [],
   "source": [
    "# compute beta values \n",
    "beta = np.inverse()"
   ]
  }
 ],
 "metadata": {
  "kernelspec": {
   "display_name": "env1",
   "language": "python",
   "name": "python3"
  },
  "language_info": {
   "codemirror_mode": {
    "name": "ipython",
    "version": 3
   },
   "file_extension": ".py",
   "mimetype": "text/x-python",
   "name": "python",
   "nbconvert_exporter": "python",
   "pygments_lexer": "ipython3",
   "version": "3.7.5"
  },
  "orig_nbformat": 4
 },
 "nbformat": 4,
 "nbformat_minor": 2
}
