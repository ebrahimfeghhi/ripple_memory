{
 "cells": [
  {
   "cell_type": "code",
   "execution_count": 2,
   "metadata": {},
   "outputs": [],
   "source": [
    "import numpy as np\n",
    "import pandas as pd\n",
    "import statsmodels.api as sm\n",
    "from sklearn import datasets\n",
    "import statsmodels.formula.api as smf\n",
    "from sklearn.linear_model import LinearRegression\n",
    "import scipy.stats as stats\n",
    "from matplotlib import pyplot as plt"
   ]
  },
  {
   "cell_type": "code",
   "execution_count": 9,
   "metadata": {},
   "outputs": [],
   "source": [
    "# let's define some useful functions here\n",
    "def z_score(vec):\n",
    "    \n",
    "    return (vec - np.mean(vec))/np.std(vec)\n",
    "\n",
    "def pearson_correlation(vec1, vec2):\n",
    "    \n",
    "    z1 = z_score(vec1)\n",
    "    z2 = z_score(vec2)\n",
    "    \n",
    "    assert z1.shape[0] == z2.shape[0], print(\"Corr function requires two vectors of the same shape.\")\n",
    "    \n",
    "    n = z1.shape[0]\n",
    "    \n",
    "    return np.dot(z1, z2)/n"
   ]
  },
  {
   "cell_type": "code",
   "execution_count": 16,
   "metadata": {},
   "outputs": [
    {
     "name": "stdout",
     "output_type": "stream",
     "text": [
      "Number of predictors 1\n",
      "Number of trials 150\n"
     ]
    }
   ],
   "source": [
    "# load dataset\n",
    "iris = datasets.load_iris()\n",
    "X = iris.data[:, :1]\n",
    "y = iris.data[:, 3]\n",
    "print(f\"Number of predictors {X.shape[1]}\")\n",
    "print(f\"Number of trials {X.shape[0]}\")"
   ]
  },
  {
   "cell_type": "code",
   "execution_count": 43,
   "metadata": {},
   "outputs": [],
   "source": [
    "bias = np.ones((X.shape[0],1))\n",
    "X_with_bias = np.hstack((X,bias))\n",
    "n = X.shape[0]\n",
    "num_predictors = X.shape[1]\n",
    "residuals_df = (n-1) - num_predictors"
   ]
  },
  {
   "cell_type": "code",
   "execution_count": 19,
   "metadata": {},
   "outputs": [],
   "source": [
    "X_pd = pd.DataFrame(np.hstack((X_with_bias,np.expand_dims(y,axis=-1))), columns=['pred1', 'bias', 'y'])"
   ]
  },
  {
   "cell_type": "code",
   "execution_count": 21,
   "metadata": {},
   "outputs": [
    {
     "name": "stdout",
     "output_type": "stream",
     "text": [
      "                            OLS Regression Results                            \n",
      "==============================================================================\n",
      "Dep. Variable:                      y   R-squared:                       0.669\n",
      "Model:                            OLS   Adj. R-squared:                  0.667\n",
      "Method:                 Least Squares   F-statistic:                     299.2\n",
      "Date:                Sun, 07 May 2023   Prob (F-statistic):           2.33e-37\n",
      "Time:                        02:59:00   Log-Likelihood:                -88.686\n",
      "No. Observations:                 150   AIC:                             181.4\n",
      "Df Residuals:                     148   BIC:                             187.4\n",
      "Df Model:                           1                                         \n",
      "Covariance Type:            nonrobust                                         \n",
      "==============================================================================\n",
      "                 coef    std err          t      P>|t|      [0.025      0.975]\n",
      "------------------------------------------------------------------------------\n",
      "Intercept     -3.2002      0.257    -12.458      0.000      -3.708      -2.693\n",
      "pred1          0.7529      0.044     17.296      0.000       0.667       0.839\n",
      "==============================================================================\n",
      "Omnibus:                        3.538   Durbin-Watson:                   1.279\n",
      "Prob(Omnibus):                  0.171   Jarque-Bera (JB):                3.589\n",
      "Skew:                           0.357   Prob(JB):                        0.166\n",
      "Kurtosis:                       2.744   Cond. No.                         43.4\n",
      "==============================================================================\n",
      "\n",
      "Warnings:\n",
      "[1] Standard Errors assume that the covariance matrix of the errors is correctly specified.\n"
     ]
    }
   ],
   "source": [
    "model = smf.ols(\"y~pred1\", data=X_pd)\n",
    "model_fit = model.fit()\n",
    "print(model_fit.summary())"
   ]
  },
  {
   "cell_type": "code",
   "execution_count": 22,
   "metadata": {},
   "outputs": [],
   "source": [
    "# y = XB\n",
    "beta = np.linalg.pinv(X_with_bias)@y\n",
    "y_hat = X_with_bias@beta"
   ]
  },
  {
   "cell_type": "code",
   "execution_count": 23,
   "metadata": {},
   "outputs": [
    {
     "name": "stdout",
     "output_type": "stream",
     "text": [
      "[0.75291757] -3.2002150046491913\n"
     ]
    }
   ],
   "source": [
    "reg = LinearRegression().fit(X,y)\n",
    "print(reg.coef_, reg.intercept_)"
   ]
  },
  {
   "cell_type": "code",
   "execution_count": 39,
   "metadata": {},
   "outputs": [
    {
     "name": "stdout",
     "output_type": "stream",
     "text": [
      "R2 0.67, R2 scikit 0.67\n"
     ]
    }
   ],
   "source": [
    "# compute SS of y \n",
    "SS_total = np.sum((y - np.mean(y))**2)\n",
    "SS_model = np.sum((y_hat - np.mean(y))**2)\n",
    "r2 = SS_model / SS_total\n",
    "print(f\"R2 {np.round(r2,2)}, R2 scikit {np.round(reg.score(X,y),2)}\")"
   ]
  },
  {
   "cell_type": "code",
   "execution_count": 57,
   "metadata": {},
   "outputs": [
    {
     "name": "stdout",
     "output_type": "stream",
     "text": [
      "57.917682179192326\n"
     ]
    }
   ],
   "source": [
    "print(SS_model)"
   ]
  },
  {
   "cell_type": "code",
   "execution_count": 50,
   "metadata": {},
   "outputs": [
    {
     "name": "stdout",
     "output_type": "stream",
     "text": [
      "Residual standard error: 0.44\n"
     ]
    }
   ],
   "source": [
    "# residual standard error\n",
    "residuals = y - y_hat\n",
    "res_var = np.sum(residuals**2)/residuals_df\n",
    "res_se = res_var**.5\n",
    "print(f\"Residual standard error: {np.round(res_se,3)}\")"
   ]
  },
  {
   "cell_type": "code",
   "execution_count": 56,
   "metadata": {},
   "outputs": [
    {
     "name": "stdout",
     "output_type": "stream",
     "text": [
      "0.8179411262715757\n"
     ]
    }
   ],
   "source": [
    "# predictor standard error \n",
    "r = pearson_correlation(y, X.squeeze())\n",
    "print(r)"
   ]
  },
  {
   "cell_type": "code",
   "execution_count": 24,
   "metadata": {},
   "outputs": [
    {
     "name": "stdout",
     "output_type": "stream",
     "text": [
      "212.4121206506138\n"
     ]
    }
   ],
   "source": [
    "MS_model = SS_model/num_predictors\n",
    "SS_residual = SS_total - SS_model # unexplained variance\n",
    "MS_residual = SS_residual / ((n-1)-num_predictors)\n",
    "F_stat = MS_model/MS_residual\n",
    "print(F_stat)"
   ]
  }
 ],
 "metadata": {
  "kernelspec": {
   "display_name": "env1",
   "language": "python",
   "name": "python3"
  },
  "language_info": {
   "codemirror_mode": {
    "name": "ipython",
    "version": 3
   },
   "file_extension": ".py",
   "mimetype": "text/x-python",
   "name": "python",
   "nbconvert_exporter": "python",
   "pygments_lexer": "ipython3",
   "version": "3.7.5"
  },
  "orig_nbformat": 4
 },
 "nbformat": 4,
 "nbformat_minor": 2
}
