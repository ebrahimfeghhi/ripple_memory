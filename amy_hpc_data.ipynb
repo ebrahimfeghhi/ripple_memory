{
 "cells": [
  {
   "cell_type": "code",
   "execution_count": 1,
   "metadata": {},
   "outputs": [
    {
     "name": "stderr",
     "output_type": "stream",
     "text": [
      "/home1/efeghhi/.conda/envs/env1/lib/python3.7/site-packages/ptsa/data/timeseries.py:526: FutureWarning: xarray subclass TimeSeriesX should explicitly define __slots__\n",
      "  class TimeSeriesX(TimeSeries):\n"
     ]
    }
   ],
   "source": [
    "# examining data files in source\n",
    "import numpy as np\n",
    "import pandas as pd\n",
    "import pickle \n",
    "%load_ext autoreload\n",
    "%autoreload\n",
    "from general import *\n",
    "from SWRmodule import *"
   ]
  },
  {
   "cell_type": "code",
   "execution_count": 2,
   "metadata": {},
   "outputs": [],
   "source": [
    "session_events_amy = pd.DataFrame()\n",
    "session_events_hpc = pd.DataFrame()\n",
    "ripple_array_amy = []\n",
    "ripple_array_hpc = []\n",
    "sub_sess_names_amy = []\n",
    "sub_sess_names_hpc = []\n",
    "sub_names_amy = []\n",
    "sub_names_hpc = []\n",
    "trial_nums_amy = []\n",
    "trial_nums_hpc = []\n",
    "elec_ripple_rate_array_amy = []\n",
    "elec_ripple_rate_array_hpc = []"
   ]
  },
  {
   "cell_type": "code",
   "execution_count": 3,
   "metadata": {},
   "outputs": [
    {
     "name": "stdout",
     "output_type": "stream",
     "text": [
      "(840, 1500)\n"
     ]
    }
   ],
   "source": [
    "fn_amy = '/scratch/john/SWR_scratch/ENCODING/SWR_catFR1_R1015J_0_AMY_encoding_soz_in_hamming.p'\n",
    "with open(fn_amy,'rb') as f:\n",
    "    dat = pickle.load(f)\n",
    "    session_events_amy = session_events_amy.append(dat['session_events'])\n",
    "    ripple_array_amy = superVstack(ripple_array_amy,dat['ripple_array'])\n",
    "    sub_sess_names_amy.extend(dat['sub_sess_names'])\n",
    "    sub_names_amy.extend(dat['sub_names'])\n",
    "    trial_nums_amy = np.append(trial_nums_amy,dat['trial_nums'])\n",
    "    elec_ripple_rate_array_amy.extend(dat['elec_ripple_rate_array']) \n",
    "    regions_amy = dat['HPC_names']\n",
    "\n",
    "    fn_hpc = '/scratch/john/SWR_scratch/ENCODING/SWR_catFR1_R1015J_0_HPC_encoding_soz_in_hamming.p'\n",
    "    with open(fn_hpc,'rb') as f:\n",
    "        dat = pickle.load(f)\n",
    "        session_events_hpc = session_events_hpc.append(dat['session_events'])\n",
    "        ripple_array_hpc = superVstack(ripple_array_hpc,dat['ripple_array'])\n",
    "        print(dat['ripple_array'].shape)\n",
    "        sub_sess_names_hpc.extend(dat['sub_sess_names'])\n",
    "        sub_names_hpc.extend(dat['sub_names'])\n",
    "        trial_nums_hpc = np.append(trial_nums_hpc,dat['trial_nums'])\n",
    "        elec_ripple_rate_array_hpc.extend(dat['elec_ripple_rate_array'])\n",
    "        regions_hpc = dat['HPC_names']"
   ]
  },
  {
   "cell_type": "code",
   "execution_count": 15,
   "metadata": {},
   "outputs": [],
   "source": [
    "def check_ca1_dg_ripples(ripple_aerray, hpc_regions, hpc_trialnums):\n",
    "\n",
    "    lhd_ca1 = []\n",
    "    lhd_dg = []\n",
    "    rhd_ca1 = []\n",
    "    rhd_dg = []\n",
    "\n",
    "    trialStart = 0 \n",
    "    \n",
    "    for region, trials in zip(hpc_regions, hpc_trialnums):\n",
    "\n",
    "        trials = int(trials)\n",
    "\n",
    "        if 'right ca1' in region:\n",
    "            rhd_ca1.append(ripple_array_hpc[trialStart:trialStart+trials])\n",
    "        if 'right dg' in region:\n",
    "            rhd_dg.append(ripple_array_hpc[trialStart:trialStart+trials])\n",
    "        if 'left ca1' in region:\n",
    "            lhd_ca1.append(ripple_array_hpc[trialStart:trialStart+trials])\n",
    "        if 'left dg' in region:\n",
    "            lhd_dg.append(ripple_array_hpc[trialStart:trialStart+trials])\n",
    "\n",
    "        trialStart += trials \n",
    "\n",
    "    \n",
    "    print(np.sum(rhd_ca1))\n",
    "    print(np.sum(rhd_dg))\n",
    "    print(np.sum(lhd_ca1))\n",
    "    print(np.sum(lhd_dg))"
   ]
  },
  {
   "cell_type": "code",
   "execution_count": 16,
   "metadata": {},
   "outputs": [
    {
     "name": "stdout",
     "output_type": "stream",
     "text": [
      "0.0\n",
      "0.0\n",
      "5962.5\n",
      "1154.5\n"
     ]
    }
   ],
   "source": [
    "check_ca1_dg_ripples(ripple_array_hpc, regions_hpc, trial_nums_hpc)"
   ]
  },
  {
   "cell_type": "code",
   "execution_count": 25,
   "metadata": {},
   "outputs": [
    {
     "name": "stdout",
     "output_type": "stream",
     "text": [
      "AMY ripple array shape: (240, 1500)\n",
      "HPC ripple array shape: (840, 1500)\n",
      "AMY sub names: ['R1015J', 'R1015J']\n",
      "HPC sub names: ['R1015J', 'R1015J', 'R1015J', 'R1015J', 'R1015J', 'R1015J', 'R1015J']\n",
      "AMY sub names: ['R1015J', 'R1015J']\n",
      "HPC sub names: ['R1015J', 'R1015J', 'R1015J', 'R1015J', 'R1015J', 'R1015J', 'R1015J']\n",
      "AMY sub_sess names: ['R1015J-0', 'R1015J-0']\n",
      "HPC sub_sess names: ['R1015J-0', 'R1015J-0', 'R1015J-0', 'R1015J-0', 'R1015J-0', 'R1015J-0', 'R1015J-0']\n",
      "AMY trial nums: [120. 120.]\n",
      "HPC trial nums: [120. 120. 120. 120. 120. 120. 120.]\n"
     ]
    }
   ],
   "source": [
    "print(f\"AMY ripple array shape: {np.array(ripple_array_amy).shape}\")\n",
    "print(f\"HPC ripple array shape: {np.array(ripple_array_hpc).shape}\")\n",
    "\n",
    "print(f\"AMY sub names: {sub_names_amy}\")\n",
    "print(f\"HPC sub names: {sub_names_hpc}\")\n",
    "\n",
    "print(f\"AMY sub names: {sub_names_amy}\")\n",
    "print(f\"HPC sub names: {sub_names_hpc}\")\n",
    "\n",
    "print(f\"AMY sub_sess names: {sub_sess_names_amy}\")\n",
    "print(f\"HPC sub_sess names: {sub_sess_names_hpc}\")\n",
    "\n",
    "print(f\"AMY trial nums: {trial_nums_amy}\")\n",
    "print(f\"HPC trial nums: {trial_nums_hpc}\")"
   ]
  },
  {
   "cell_type": "code",
   "execution_count": 26,
   "metadata": {},
   "outputs": [
    {
     "data": {
      "text/plain": [
       "240.0"
      ]
     },
     "execution_count": 26,
     "metadata": {},
     "output_type": "execute_result"
    }
   ],
   "source": [
    "np.sum(trial_nums_amy)"
   ]
  },
  {
   "cell_type": "code",
   "execution_count": 17,
   "metadata": {},
   "outputs": [],
   "source": [
    "def ripples_hpc(nonhpc_trialnums, nonhpc_regions, hpc_trialnums, hpc_regions, ripple_array_hpc, regions_selected):\n",
    "\n",
    "    \n",
    "    timesteps = ripple_array_hpc.shape[1]\n",
    "    num_trials = np.sum(nonhpc_trialnums)\n",
    "\n",
    "    # Step 1: Separate hpc right and left ripples\n",
    "    left_hemi_data = []\n",
    "    right_hemi_data = []\n",
    "    trialStart = 0\n",
    "    for region, trials in zip(hpc_regions, hpc_trialnums):\n",
    "        trials = int(trials)\n",
    "        for rs in regions_selected:\n",
    "            if f'right {rs}' in region: \n",
    "                right_hemi_data.append(ripple_array_hpc[trialStart:trialStart+trials])\n",
    "            if f'left {rs}' in region: \n",
    "                left_hemi_data.append(ripple_array_hpc[trialStart:trialStart+trials])\n",
    "        trialStart += trials \n",
    "\n",
    "    if len(right_hemi_data) > 0:\n",
    "        rhd_np = np.clip(np.sum(np.stack(right_hemi_data),axis=0), a_min=0, a_max=1)\n",
    "    else:\n",
    "        rhd_np = np.zeros_like((trials, timesteps))\n",
    "    if len(left_hemi_data) > 0:\n",
    "        lhd_np = np.clip(np.sum(np.stack(left_hemi_data),axis=0), a_min=0, a_max=1)\n",
    "    else:\n",
    "        lhd_np = np.zeros_like((trials, timesteps))\n",
    "\n",
    "\n",
    "    ripples_hpc_nonhpcshape = np.zeros((int(num_trials), timesteps))\n",
    "\n",
    "    trialStart = 0\n",
    "    for region, trials in zip(nonhpc_regions, nonhpc_trialnums):\n",
    "        trials = int(trials)\n",
    "        \n",
    "        if 'right' in region:\n",
    "            ripples_hpc_nonhpcshape[trialStart:trialStart+trials] = rhd_np\n",
    "        if 'left' in region:\n",
    "            ripples_hpc_nonhpcshape[trialStart:trialStart+trials] = lhd_np\n",
    "\n",
    "        trialStart += trials \n",
    "\n",
    "    return ripples_hpc_nonhpcshape\n",
    "\n"
   ]
  },
  {
   "cell_type": "code",
   "execution_count": 24,
   "metadata": {},
   "outputs": [],
   "source": [
    "ripples_hpc_amyshape = ripples_hpc(trial_nums_amy, regions_amy,\n",
    "                                 trial_nums_hpc, regions_hpc, ripple_array_hpc, ['ca1'])"
   ]
  },
  {
   "cell_type": "code",
   "execution_count": 27,
   "metadata": {},
   "outputs": [
    {
     "data": {
      "text/plain": [
       "(240,)"
      ]
     },
     "execution_count": 27,
     "metadata": {},
     "output_type": "execute_result"
    }
   ],
   "source": [
    "np.where(np.sum(ripples_hpc_amyshape, axis=1)==0, x>=1\n"
   ]
  },
  {
   "cell_type": "code",
   "execution_count": null,
   "metadata": {},
   "outputs": [],
   "source": []
  }
 ],
 "metadata": {
  "kernelspec": {
   "display_name": "Python 3.7.5 ('env1')",
   "language": "python",
   "name": "python3"
  },
  "language_info": {
   "codemirror_mode": {
    "name": "ipython",
    "version": 3
   },
   "file_extension": ".py",
   "mimetype": "text/x-python",
   "name": "python",
   "nbconvert_exporter": "python",
   "pygments_lexer": "ipython3",
   "version": "3.7.5"
  },
  "orig_nbformat": 4,
  "vscode": {
   "interpreter": {
    "hash": "9e8f5d2e57eff70edb3fd5a3e06f404907a0b2260d7037965ce98bfcad4ff40e"
   }
  }
 },
 "nbformat": 4,
 "nbformat_minor": 2
}
