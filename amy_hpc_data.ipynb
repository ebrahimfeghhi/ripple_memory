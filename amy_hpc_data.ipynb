{
 "cells": [
  {
   "cell_type": "code",
   "execution_count": 2,
   "metadata": {},
   "outputs": [
    {
     "name": "stdout",
     "output_type": "stream",
     "text": [
      "The autoreload extension is already loaded. To reload it, use:\n",
      "  %reload_ext autoreload\n"
     ]
    }
   ],
   "source": [
    "# examining data files in source\n",
    "import numpy as np\n",
    "import pandas as pd\n",
    "import pickle \n",
    "%load_ext autoreload\n",
    "%autoreload\n",
    "from general import *\n",
    "from SWRmodule import *"
   ]
  },
  {
   "cell_type": "code",
   "execution_count": 3,
   "metadata": {},
   "outputs": [],
   "source": [
    "session_events_amy = pd.DataFrame()\n",
    "session_events_hpc = pd.DataFrame()\n",
    "ripple_array_amy = []\n",
    "ripple_array_hpc = []\n",
    "sub_sess_names_amy = []\n",
    "sub_sess_names_hpc = []\n",
    "sub_names_amy = []\n",
    "sub_names_hpc = []\n",
    "trial_nums_amy = []\n",
    "trial_nums_hpc = []\n",
    "elec_ripple_rate_array_amy = []\n",
    "elec_ripple_rate_array_hpc = []"
   ]
  },
  {
   "cell_type": "code",
   "execution_count": 4,
   "metadata": {},
   "outputs": [],
   "source": [
    "fn_amy = '/scratch/john/SWR_scratch/ENCODING/SWR_catFR1_R1015J_0_AMY_encoding_soz_in_hamming.p'\n",
    "with open(fn_amy,'rb') as f:\n",
    "    dat = pickle.load(f)\n",
    "    session_events_amy = session_events_amy.append(dat['session_events'])\n",
    "    ripple_array_amy = superVstack(ripple_array_amy,dat['ripple_array'])\n",
    "    sub_sess_names_amy.extend(dat['sub_sess_names'])\n",
    "    sub_names_amy.extend(dat['sub_names'])\n",
    "    trial_nums_amy = np.append(trial_nums_amy,dat['trial_nums'])\n",
    "    elec_ripple_rate_array_amy.extend(dat['elec_ripple_rate_array']) \n",
    "    regions_amy = dat['HPC_names']\n",
    "\n",
    "fn_hpc = '/scratch/john/SWR_scratch/ENCODING/SWR_catFR1_R1015J_0_HPC_encoding_soz_in_hamming.p'\n",
    "with open(fn_hpc,'rb') as f:\n",
    "    dat = pickle.load(f)\n",
    "    session_events_hpc = session_events_hpc.append(dat['session_events'])\n",
    "    ripple_array_hpc = superVstack(ripple_array_hpc,dat['ripple_array'])\n",
    "    sub_sess_names_hpc.extend(dat['sub_sess_names'])\n",
    "    sub_names_hpc.extend(dat['sub_names'])\n",
    "    trial_nums_hpc = np.append(trial_nums_hpc,dat['trial_nums'])\n",
    "    elec_ripple_rate_array_hpc.extend(dat['elec_ripple_rate_array'])\n",
    "    regions_hpc = dat['HPC_names']"
   ]
  },
  {
   "cell_type": "code",
   "execution_count": 5,
   "metadata": {},
   "outputs": [
    {
     "name": "stdout",
     "output_type": "stream",
     "text": [
      "AMY ripple array shape: (240, 1500)\n",
      "HPC ripple array shape: (840, 1500)\n",
      "AMY sub names: ['R1015J', 'R1015J']\n",
      "HPC sub names: ['R1015J', 'R1015J', 'R1015J', 'R1015J', 'R1015J', 'R1015J', 'R1015J']\n",
      "AMY sub names: ['R1015J', 'R1015J']\n",
      "HPC sub names: ['R1015J', 'R1015J', 'R1015J', 'R1015J', 'R1015J', 'R1015J', 'R1015J']\n",
      "AMY sub_sess names: ['R1015J-0', 'R1015J-0']\n",
      "HPC sub_sess names: ['R1015J-0', 'R1015J-0', 'R1015J-0', 'R1015J-0', 'R1015J-0', 'R1015J-0', 'R1015J-0']\n",
      "AMY trial nums: [120. 120.]\n",
      "HPC trial nums: [120. 120. 120. 120. 120. 120. 120.]\n"
     ]
    }
   ],
   "source": [
    "print(f\"AMY ripple array shape: {np.array(ripple_array_amy).shape}\")\n",
    "print(f\"HPC ripple array shape: {np.array(ripple_array_hpc).shape}\")\n",
    "\n",
    "print(f\"AMY sub names: {sub_names_amy}\")\n",
    "print(f\"HPC sub names: {sub_names_hpc}\")\n",
    "\n",
    "print(f\"AMY sub names: {sub_names_amy}\")\n",
    "print(f\"HPC sub names: {sub_names_hpc}\")\n",
    "\n",
    "print(f\"AMY sub_sess names: {sub_sess_names_amy}\")\n",
    "print(f\"HPC sub_sess names: {sub_sess_names_hpc}\")\n",
    "\n",
    "print(f\"AMY trial nums: {trial_nums_amy}\")\n",
    "print(f\"HPC trial nums: {trial_nums_hpc}\")"
   ]
  },
  {
   "cell_type": "code",
   "execution_count": 13,
   "metadata": {},
   "outputs": [],
   "source": [
    "def ripples_hpc(nonhpc_trialnums, nonhpc_regions, ripple_array_nonhpc,\n",
    "                 hpc_trialnums, hpc_regions, ripple_array_hpc):\n",
    "\n",
    "    \n",
    "    timesteps = ripple_array_nonhpc.shape[1]\n",
    "\n",
    "    # Step 1: Separate hpc right and left ripples\n",
    "    left_hemi_data = []\n",
    "    right_hemi_data = []\n",
    "    trialStart = 0\n",
    "    for region, trials in zip(hpc_regions, hpc_trialnums):\n",
    "        trials = int(trials)\n",
    "        if 'right ca1' in region or 'right dg' in region:\n",
    "            right_hemi_data.append(ripple_array_hpc[trialStart:trialStart+trials])\n",
    "        if 'left ca1' in region or 'left dg' in region: \n",
    "            left_hemi_data.append(ripple_array_hpc[trialStart:trialStart+trials])\n",
    "        trialStart += trials \n",
    "\n",
    "    if len(right_hemi_data) > 0:\n",
    "        rhd_np = np.clip(np.sum(np.stack(right_hemi_data),axis=0), a_min=0, a_max=1)\n",
    "    else:\n",
    "        rhd_np = np.zeros_like((trials, timesteps))\n",
    "    if len(left_hemi_data) > 0:\n",
    "        lhd_np = np.clip(np.sum(np.stack(left_hemi_data),axis=0), a_min=0, a_max=1)\n",
    "    else:\n",
    "        lhd_np = np.zeros_like((trials, timesteps))\n",
    "\n",
    "    ripples_hpc_nonhpcshape = np.zeros_like(ripple_array_nonhpc)\n",
    "    trialStart = 0\n",
    "    for region, trials in zip(nonhpc_regions, nonhpc_trialnums):\n",
    "        trials = int(trials)\n",
    "        \n",
    "        if 'right' in region:\n",
    "            ripples_hpc_nonhpcshape[trialStart:trialStart+trials] = rhd_np\n",
    "        if 'left' in region:\n",
    "            ripples_hpc_nonhpcshape[trialStart:trialStart+trials] = lhd_np\n",
    "\n",
    "        trialStart += trials \n",
    "\n",
    "    return ripples_hpc_nonhpcshape, lhd_np\n",
    "\n"
   ]
  },
  {
   "cell_type": "code",
   "execution_count": 14,
   "metadata": {},
   "outputs": [],
   "source": [
    "ripples_hpc_amyshape = ripples_hpc(trial_nums_amy, regions_amy, ripple_array_amy,\n",
    "                                 trial_nums_hpc, regions_hpc, ripple_array_hpc)"
   ]
  },
  {
   "cell_type": "code",
   "execution_count": 11,
   "metadata": {},
   "outputs": [
    {
     "data": {
      "text/plain": [
       "['left sub',\n",
       " 'left ca1',\n",
       " 'left ca1',\n",
       " 'left sub',\n",
       " 'left ca1',\n",
       " 'left dg',\n",
       " 'left ca1']"
      ]
     },
     "execution_count": 11,
     "metadata": {},
     "output_type": "execute_result"
    }
   ],
   "source": [
    "print(ripples_hpc_amyshape)"
   ]
  },
  {
   "cell_type": "code",
   "execution_count": null,
   "metadata": {},
   "outputs": [],
   "source": []
  }
 ],
 "metadata": {
  "kernelspec": {
   "display_name": "Python 3.7.5 ('env1')",
   "language": "python",
   "name": "python3"
  },
  "language_info": {
   "codemirror_mode": {
    "name": "ipython",
    "version": 3
   },
   "file_extension": ".py",
   "mimetype": "text/x-python",
   "name": "python",
   "nbconvert_exporter": "python",
   "pygments_lexer": "ipython3",
   "version": "3.7.5"
  },
  "orig_nbformat": 4,
  "vscode": {
   "interpreter": {
    "hash": "9e8f5d2e57eff70edb3fd5a3e06f404907a0b2260d7037965ce98bfcad4ff40e"
   }
  }
 },
 "nbformat": 4,
 "nbformat_minor": 2
}
