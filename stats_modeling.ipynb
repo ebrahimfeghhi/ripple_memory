{
 "cells": [
  {
   "cell_type": "code",
   "execution_count": 1,
   "metadata": {},
   "outputs": [
    {
     "name": "stderr",
     "output_type": "stream",
     "text": [
      "/home1/efeghhi/.conda/envs/env3/lib/python3.7/site-packages/ptsa/data/timeseries.py:526: FutureWarning: xarray subclass TimeSeriesX should explicitly define __slots__\n",
      "  class TimeSeriesX(TimeSeries):\n",
      "/home1/efeghhi/.conda/envs/env3/lib/python3.7/site-packages/statsmodels/tools/_testing.py:19: FutureWarning: pandas.util.testing is deprecated. Use the functions in the public API at pandas.testing instead.\n",
      "  import pandas.util.testing as tm\n"
     ]
    }
   ],
   "source": [
    "from load_data import * \n",
    "from analyze_data import * \n",
    "import sys\n",
    "import warnings\n",
    "import matplotlib.pyplot as plt\n",
    "from SWRmodule import *\n",
    "sys.path.append('/home1/efeghhi/ripple_memory/')\n",
    "from brain_labels import HPC_labels, ENT_labels, PHC_labels, temporal_lobe_labels,\\\n",
    "                        MFG_labels, IFG_labels, nonHPC_MTL_labels, ENTPHC_labels, AMY_labels\n",
    "%config InlineBackend.print_figure_kwargs={'facecolor' : \"w\"}\n",
    "import statsmodels.formula.api as smf"
   ]
  },
  {
   "cell_type": "code",
   "execution_count": 2,
   "metadata": {},
   "outputs": [
    {
     "name": "stdout",
     "output_type": "stream",
     "text": [
      "Number of trials in ca1: 113028\n"
     ]
    }
   ],
   "source": [
    "encoding_mode = 1\n",
    "\n",
    "catFR_dir = '/scratch/efeghhi/catFR1/ENCODING/'\n",
    "\n",
    "region_name = '' # if empty string, loads all data\n",
    "\n",
    "# load all data\n",
    "data_dict = load_data(catFR_dir, region_name=region_name, encoding_mode=encoding_mode, \n",
    "                      condition_on_ca1_ripples=True)\n",
    "\n",
    "if encoding_mode: \n",
    "    data_dict = remove_wrong_length_lists(data_dict)\n",
    "    \n",
    "# ca1\n",
    "ca1_elecs = [x for x in HPC_labels if 'ca1' in x]\n",
    "data_dict_ca1 = select_region(data_dict, ca1_elecs)\n",
    "count_num_trials(data_dict_ca1, \"ca1\")\n"
   ]
  },
  {
   "cell_type": "code",
   "execution_count": 89,
   "metadata": {},
   "outputs": [
    {
     "data": {
      "text/plain": [
       "(113028, 150)"
      ]
     },
     "execution_count": 89,
     "metadata": {},
     "output_type": "execute_result"
    }
   ],
   "source": [
    "dd_trials['HFA'].shape"
   ]
  },
  {
   "cell_type": "code",
   "execution_count": 90,
   "metadata": {},
   "outputs": [
    {
     "ename": "ValueError",
     "evalue": "Invalid cutoff frequency: frequencies must be greater than 0 and less than fs/2.",
     "output_type": "error",
     "traceback": [
      "\u001b[0;31m---------------------------------------------------------------------------\u001b[0m",
      "\u001b[0;31mValueError\u001b[0m                                Traceback (most recent call last)",
      "\u001b[0;32m<ipython-input-90-e5659aeef0b8>\u001b[0m in \u001b[0;36m<module>\u001b[0;34m\u001b[0m\n\u001b[0;32m----> 1\u001b[0;31m \u001b[0mdetectRipplesHamming\u001b[0m\u001b[0;34m(\u001b[0m\u001b[0mdd_trials\u001b[0m\u001b[0;34m[\u001b[0m\u001b[0;34m'HFA'\u001b[0m\u001b[0;34m]\u001b[0m\u001b[0;34m,\u001b[0m \u001b[0;36m5\u001b[0m\u001b[0;34m,\u001b[0m \u001b[0;36m50\u001b[0m\u001b[0;34m,\u001b[0m \u001b[0mnp\u001b[0m\u001b[0;34m.\u001b[0m\u001b[0mzeros_like\u001b[0m\u001b[0;34m(\u001b[0m\u001b[0mdd_trials\u001b[0m\u001b[0;34m[\u001b[0m\u001b[0;34m'HFA'\u001b[0m\u001b[0;34m]\u001b[0m\u001b[0;34m)\u001b[0m\u001b[0;34m)\u001b[0m\u001b[0;34m\u001b[0m\u001b[0;34m\u001b[0m\u001b[0m\n\u001b[0m",
      "\u001b[0;32m~/ripple_memory/SWRmodule.py\u001b[0m in \u001b[0;36mdetectRipplesHamming\u001b[0;34m(eeg_rip, trans_width, sr, iedlogic)\u001b[0m\n\u001b[1;32m   1134\u001b[0m     \u001b[0mnyquist\u001b[0m \u001b[0;34m=\u001b[0m \u001b[0msr\u001b[0m\u001b[0;34m/\u001b[0m\u001b[0;36m2\u001b[0m\u001b[0;34m\u001b[0m\u001b[0;34m\u001b[0m\u001b[0m\n\u001b[1;32m   1135\u001b[0m     \u001b[0mntaps40\u001b[0m\u001b[0;34m,\u001b[0m \u001b[0mbeta40\u001b[0m \u001b[0;34m=\u001b[0m \u001b[0mkaiserord\u001b[0m\u001b[0;34m(\u001b[0m\u001b[0;36m40\u001b[0m\u001b[0;34m,\u001b[0m \u001b[0mtrans_width\u001b[0m\u001b[0;34m/\u001b[0m\u001b[0mnyquist\u001b[0m\u001b[0;34m)\u001b[0m\u001b[0;34m\u001b[0m\u001b[0;34m\u001b[0m\u001b[0m\n\u001b[0;32m-> 1136\u001b[0;31m     \u001b[0mkaiser_40lp_filter\u001b[0m \u001b[0;34m=\u001b[0m \u001b[0mfirwin\u001b[0m\u001b[0;34m(\u001b[0m\u001b[0mntaps40\u001b[0m\u001b[0;34m,\u001b[0m \u001b[0mcutoff\u001b[0m\u001b[0;34m=\u001b[0m\u001b[0;36m40\u001b[0m\u001b[0;34m,\u001b[0m \u001b[0mwindow\u001b[0m\u001b[0;34m=\u001b[0m\u001b[0;34m(\u001b[0m\u001b[0;34m'kaiser'\u001b[0m\u001b[0;34m,\u001b[0m \u001b[0mbeta40\u001b[0m\u001b[0;34m)\u001b[0m\u001b[0;34m,\u001b[0m \u001b[0mscale\u001b[0m\u001b[0;34m=\u001b[0m\u001b[0;32mFalse\u001b[0m\u001b[0;34m,\u001b[0m \u001b[0mnyq\u001b[0m\u001b[0;34m=\u001b[0m\u001b[0mnyquist\u001b[0m\u001b[0;34m,\u001b[0m \u001b[0mpass_zero\u001b[0m\u001b[0;34m=\u001b[0m\u001b[0;34m'lowpass'\u001b[0m\u001b[0;34m)\u001b[0m\u001b[0;34m\u001b[0m\u001b[0;34m\u001b[0m\u001b[0m\n\u001b[0m\u001b[1;32m   1137\u001b[0m \u001b[0;34m\u001b[0m\u001b[0m\n\u001b[1;32m   1138\u001b[0m     \u001b[0meeg_rip\u001b[0m \u001b[0;34m=\u001b[0m \u001b[0mfiltfilt\u001b[0m\u001b[0;34m(\u001b[0m\u001b[0mkaiser_40lp_filter\u001b[0m\u001b[0;34m,\u001b[0m\u001b[0;36m1.\u001b[0m\u001b[0;34m,\u001b[0m\u001b[0meeg_rip\u001b[0m\u001b[0;34m)\u001b[0m\u001b[0;34m\u001b[0m\u001b[0;34m\u001b[0m\u001b[0m\n",
      "\u001b[0;32m~/.conda/envs/env3/lib/python3.7/site-packages/scipy/signal/fir_filter_design.py\u001b[0m in \u001b[0;36mfirwin\u001b[0;34m(numtaps, cutoff, width, window, pass_zero, scale, nyq, fs)\u001b[0m\n\u001b[1;32m    398\u001b[0m         \u001b[0;32mraise\u001b[0m \u001b[0mValueError\u001b[0m\u001b[0;34m(\u001b[0m\u001b[0;34m\"At least one cutoff frequency must be given.\"\u001b[0m\u001b[0;34m)\u001b[0m\u001b[0;34m\u001b[0m\u001b[0;34m\u001b[0m\u001b[0m\n\u001b[1;32m    399\u001b[0m     \u001b[0;32mif\u001b[0m \u001b[0mcutoff\u001b[0m\u001b[0;34m.\u001b[0m\u001b[0mmin\u001b[0m\u001b[0;34m(\u001b[0m\u001b[0;34m)\u001b[0m \u001b[0;34m<=\u001b[0m \u001b[0;36m0\u001b[0m \u001b[0;32mor\u001b[0m \u001b[0mcutoff\u001b[0m\u001b[0;34m.\u001b[0m\u001b[0mmax\u001b[0m\u001b[0;34m(\u001b[0m\u001b[0;34m)\u001b[0m \u001b[0;34m>=\u001b[0m \u001b[0;36m1\u001b[0m\u001b[0;34m:\u001b[0m\u001b[0;34m\u001b[0m\u001b[0;34m\u001b[0m\u001b[0m\n\u001b[0;32m--> 400\u001b[0;31m         raise ValueError(\"Invalid cutoff frequency: frequencies must be \"\n\u001b[0m\u001b[1;32m    401\u001b[0m                          \"greater than 0 and less than fs/2.\")\n\u001b[1;32m    402\u001b[0m     \u001b[0;32mif\u001b[0m \u001b[0mnp\u001b[0m\u001b[0;34m.\u001b[0m\u001b[0many\u001b[0m\u001b[0;34m(\u001b[0m\u001b[0mnp\u001b[0m\u001b[0;34m.\u001b[0m\u001b[0mdiff\u001b[0m\u001b[0;34m(\u001b[0m\u001b[0mcutoff\u001b[0m\u001b[0;34m)\u001b[0m \u001b[0;34m<=\u001b[0m \u001b[0;36m0\u001b[0m\u001b[0;34m)\u001b[0m\u001b[0;34m:\u001b[0m\u001b[0;34m\u001b[0m\u001b[0;34m\u001b[0m\u001b[0m\n",
      "\u001b[0;31mValueError\u001b[0m: Invalid cutoff frequency: frequencies must be greater than 0 and less than fs/2."
     ]
    }
   ],
   "source": [
    "detectRipplesHamming(dd_trials['HFA'], 5, 50, np.zeros_like(dd_trials['HFA']))"
   ]
  },
  {
   "cell_type": "code",
   "execution_count": 42,
   "metadata": {},
   "outputs": [],
   "source": [
    "def create_ripple_exists(dd_trials, ripple_start, ripple_end, min_ripple_time):\n",
    "    \n",
    "    ripple_exists_idxs = np.argwhere(np.sum(dd_trials['ripple'][:, ripple_start:ripple_end],axis=1)>min_ripple_time)\n",
    "    ripple_exists = np.zeros(dd_trials['ripple'].shape[0])\n",
    "    ripple_exists[ripple_exists_idxs] = 1\n",
    "    \n",
    "    return ripple_exists"
   ]
  },
  {
   "cell_type": "code",
   "execution_count": 66,
   "metadata": {},
   "outputs": [],
   "source": [
    "clustered_int = create_semantic_clustered_array(data_dict_ca1, encoding_mode)\n",
    "data_dict_ca1['clust_int'] = clustered_int"
   ]
  },
  {
   "cell_type": "code",
   "execution_count": 67,
   "metadata": {},
   "outputs": [
    {
     "name": "stdout",
     "output_type": "stream",
     "text": [
      "order: C\n"
     ]
    }
   ],
   "source": [
    "dd_trials = dict_to_numpy(data_dict_ca1, order='C')"
   ]
  },
  {
   "cell_type": "code",
   "execution_count": 68,
   "metadata": {},
   "outputs": [
    {
     "data": {
      "text/plain": [
       "dict_keys(['ripple', 'HFA', 'theta', 'theta_phase', 'clust', 'correct', 'position', 'list_num', 'subj', 'sess', 'elec_names', 'serial_pos', 'clust_int'])"
      ]
     },
     "execution_count": 68,
     "metadata": {},
     "output_type": "execute_result"
    }
   ],
   "source": [
    "dd_trials.keys()"
   ]
  },
  {
   "cell_type": "code",
   "execution_count": 69,
   "metadata": {},
   "outputs": [],
   "source": [
    "ripple_exists = create_ripple_exists(dd_trials, 550, 900, 0)\n",
    "dd_trials['ripple_exists'] = ripple_exists"
   ]
  },
  {
   "cell_type": "code",
   "execution_count": 70,
   "metadata": {},
   "outputs": [],
   "source": [
    "dd_trials_pd = pd.DataFrame({'HFA_mean': np.mean(dd_trials['HFA'][:, 55:90],axis=1), \n",
    "                             'clust': dd_trials['clust_int'],\n",
    "                             'ripple_exists':ripple_exists, \n",
    "                             'correct':dd_trials['correct'], \n",
    "                             'subj':dd_trials['subj'], \n",
    "                             'sess':dd_trials['sess']})\n",
    "vc = {'sess':'0+sess'}"
   ]
  },
  {
   "cell_type": "code",
   "execution_count": 76,
   "metadata": {},
   "outputs": [
    {
     "name": "stdout",
     "output_type": "stream",
     "text": [
      "(113028, 6)\n",
      "(90335, 6)\n"
     ]
    }
   ],
   "source": [
    "print(dd_trials_pd.shape)\n",
    "dd_trials_pd_no_ripple = dd_trials_pd.loc[dd_trials_pd.ripple_exists==0]\n",
    "print(dd_trials_pd_no_ripple.shape)"
   ]
  },
  {
   "cell_type": "code",
   "execution_count": 102,
   "metadata": {},
   "outputs": [
    {
     "name": "stderr",
     "output_type": "stream",
     "text": [
      "/home1/efeghhi/.conda/envs/env3/lib/python3.7/site-packages/statsmodels/regression/mixed_linear_model.py:2094: ConvergenceWarning: The MLE may be on the boundary of the parameter space.\n",
      "  warnings.warn(msg, ConvergenceWarning)\n"
     ]
    },
    {
     "data": {
      "text/html": [
       "<table class=\"simpletable\">\n",
       "<tr>\n",
       "       <td>Model:</td>       <td>MixedLM</td> <td>Dependent Variable:</td>   <td>correct</td>  \n",
       "</tr>\n",
       "<tr>\n",
       "  <td>No. Observations:</td> <td>113028</td>        <td>Method:</td>          <td>REML</td>    \n",
       "</tr>\n",
       "<tr>\n",
       "     <td>No. Groups:</td>      <td>100</td>         <td>Scale:</td>          <td>0.2065</td>   \n",
       "</tr>\n",
       "<tr>\n",
       "  <td>Min. group size:</td>    <td>84</td>        <td>Likelihood:</td>     <td>-71611.0423</td>\n",
       "</tr>\n",
       "<tr>\n",
       "  <td>Max. group size:</td>   <td>10500</td>      <td>Converged:</td>          <td>Yes</td>    \n",
       "</tr>\n",
       "<tr>\n",
       "  <td>Mean group size:</td>  <td>1130.3</td>           <td></td>                <td></td>      \n",
       "</tr>\n",
       "</table>\n",
       "<table class=\"simpletable\">\n",
       "<tr>\n",
       "           <td></td>           <th>Coef.</th> <th>Std.Err.</th>    <th>z</th>   <th>P>|z|</th> <th>[0.025</th> <th>0.975]</th>\n",
       "</tr>\n",
       "<tr>\n",
       "  <th>Intercept</th>           <td>0.317</td>   <td>0.014</td>  <td>22.955</td> <td>0.000</td>  <td>0.290</td>  <td>0.344</td>\n",
       "</tr>\n",
       "<tr>\n",
       "  <th>HFA_mean</th>            <td>0.007</td>   <td>0.002</td>   <td>4.376</td> <td>0.000</td>  <td>0.004</td>  <td>0.010</td>\n",
       "</tr>\n",
       "<tr>\n",
       "  <th>subj Var</th>            <td>0.015</td>   <td>0.006</td>     <td></td>      <td></td>       <td></td>       <td></td>   \n",
       "</tr>\n",
       "<tr>\n",
       "  <th>subj x HFA_mean Cov</th> <td>0.000</td>   <td>0.000</td>     <td></td>      <td></td>       <td></td>       <td></td>   \n",
       "</tr>\n",
       "<tr>\n",
       "  <th>HFA_mean Var</th>        <td>0.000</td>   <td>0.000</td>     <td></td>      <td></td>       <td></td>       <td></td>   \n",
       "</tr>\n",
       "<tr>\n",
       "  <th>sess Var</th>            <td>0.005</td>   <td>0.002</td>     <td></td>      <td></td>       <td></td>       <td></td>   \n",
       "</tr>\n",
       "</table>"
      ],
      "text/plain": [
       "<class 'statsmodels.iolib.summary2.Summary'>\n",
       "\"\"\"\n",
       "            Mixed Linear Model Regression Results\n",
       "=============================================================\n",
       "Model:              MixedLM  Dependent Variable:  correct    \n",
       "No. Observations:   113028   Method:              REML       \n",
       "No. Groups:         100      Scale:               0.2065     \n",
       "Min. group size:    84       Likelihood:          -71611.0423\n",
       "Max. group size:    10500    Converged:           Yes        \n",
       "Mean group size:    1130.3                                   \n",
       "-------------------------------------------------------------\n",
       "                    Coef. Std.Err.   z    P>|z| [0.025 0.975]\n",
       "-------------------------------------------------------------\n",
       "Intercept           0.317    0.014 22.955 0.000  0.290  0.344\n",
       "HFA_mean            0.007    0.002  4.376 0.000  0.004  0.010\n",
       "subj Var            0.015    0.006                           \n",
       "subj x HFA_mean Cov 0.000    0.000                           \n",
       "HFA_mean Var        0.000    0.000                           \n",
       "sess Var            0.005    0.002                           \n",
       "=============================================================\n",
       "\n",
       "\"\"\""
      ]
     },
     "execution_count": 102,
     "metadata": {},
     "output_type": "execute_result"
    }
   ],
   "source": [
    "get_bin_CI_model = smf.mixedlm(\"correct ~ 1 + HFA_mean\", dd_trials_pd, groups=\"subj\", vc_formula=vc, \n",
    "                                re_formula='1 + HFA_mean')\n",
    "bin_model = get_bin_CI_model.fit(reml=True, method='nm',maxiter=2000)\n",
    "bin_model.summary()"
   ]
  },
  {
   "cell_type": "code",
   "execution_count": 101,
   "metadata": {},
   "outputs": [
    {
     "name": "stderr",
     "output_type": "stream",
     "text": [
      "/home1/efeghhi/.conda/envs/env3/lib/python3.7/site-packages/statsmodels/regression/mixed_linear_model.py:2094: ConvergenceWarning: The MLE may be on the boundary of the parameter space.\n",
      "  warnings.warn(msg, ConvergenceWarning)\n"
     ]
    },
    {
     "data": {
      "text/html": [
       "<table class=\"simpletable\">\n",
       "<tr>\n",
       "       <td>Model:</td>       <td>MixedLM</td> <td>Dependent Variable:</td>   <td>correct</td>  \n",
       "</tr>\n",
       "<tr>\n",
       "  <td>No. Observations:</td>  <td>90335</td>        <td>Method:</td>          <td>REML</td>    \n",
       "</tr>\n",
       "<tr>\n",
       "     <td>No. Groups:</td>      <td>100</td>         <td>Scale:</td>          <td>0.2054</td>   \n",
       "</tr>\n",
       "<tr>\n",
       "  <td>Min. group size:</td>    <td>78</td>        <td>Likelihood:</td>     <td>-57037.4438</td>\n",
       "</tr>\n",
       "<tr>\n",
       "  <td>Max. group size:</td>   <td>8155</td>       <td>Converged:</td>          <td>Yes</td>    \n",
       "</tr>\n",
       "<tr>\n",
       "  <td>Mean group size:</td>   <td>903.4</td>           <td></td>                <td></td>      \n",
       "</tr>\n",
       "</table>\n",
       "<table class=\"simpletable\">\n",
       "<tr>\n",
       "           <td></td>           <th>Coef.</th> <th>Std.Err.</th>    <th>z</th>   <th>P>|z|</th> <th>[0.025</th> <th>0.975]</th>\n",
       "</tr>\n",
       "<tr>\n",
       "  <th>Intercept</th>           <td>0.318</td>   <td>0.014</td>  <td>22.935</td> <td>0.000</td>  <td>0.291</td>  <td>0.346</td>\n",
       "</tr>\n",
       "<tr>\n",
       "  <th>HFA_mean</th>            <td>0.010</td>   <td>0.002</td>   <td>5.695</td> <td>0.000</td>  <td>0.006</td>  <td>0.013</td>\n",
       "</tr>\n",
       "<tr>\n",
       "  <th>subj Var</th>            <td>0.016</td>   <td>0.006</td>     <td></td>      <td></td>       <td></td>       <td></td>   \n",
       "</tr>\n",
       "<tr>\n",
       "  <th>subj x HFA_mean Cov</th> <td>0.001</td>   <td>0.001</td>     <td></td>      <td></td>       <td></td>       <td></td>   \n",
       "</tr>\n",
       "<tr>\n",
       "  <th>HFA_mean Var</th>        <td>0.000</td>   <td>0.000</td>     <td></td>      <td></td>       <td></td>       <td></td>   \n",
       "</tr>\n",
       "<tr>\n",
       "  <th>sess Var</th>            <td>0.005</td>   <td>0.002</td>     <td></td>      <td></td>       <td></td>       <td></td>   \n",
       "</tr>\n",
       "</table>"
      ],
      "text/plain": [
       "<class 'statsmodels.iolib.summary2.Summary'>\n",
       "\"\"\"\n",
       "            Mixed Linear Model Regression Results\n",
       "=============================================================\n",
       "Model:              MixedLM  Dependent Variable:  correct    \n",
       "No. Observations:   90335    Method:              REML       \n",
       "No. Groups:         100      Scale:               0.2054     \n",
       "Min. group size:    78       Likelihood:          -57037.4438\n",
       "Max. group size:    8155     Converged:           Yes        \n",
       "Mean group size:    903.4                                    \n",
       "-------------------------------------------------------------\n",
       "                    Coef. Std.Err.   z    P>|z| [0.025 0.975]\n",
       "-------------------------------------------------------------\n",
       "Intercept           0.318    0.014 22.935 0.000  0.291  0.346\n",
       "HFA_mean            0.010    0.002  5.695 0.000  0.006  0.013\n",
       "subj Var            0.016    0.006                           \n",
       "subj x HFA_mean Cov 0.001    0.001                           \n",
       "HFA_mean Var        0.000    0.000                           \n",
       "sess Var            0.005    0.002                           \n",
       "=============================================================\n",
       "\n",
       "\"\"\""
      ]
     },
     "execution_count": 101,
     "metadata": {},
     "output_type": "execute_result"
    }
   ],
   "source": [
    "get_bin_CI_model = smf.mixedlm(\"correct ~ 1 + HFA_mean\", dd_trials_pd_no_ripple, groups=\"subj\", vc_formula=vc, \n",
    "                                re_formula='1 + HFA_mean')\n",
    "bin_model = get_bin_CI_model.fit(reml=True, method='nm',maxiter=2000)\n",
    "bin_model.summary()"
   ]
  },
  {
   "cell_type": "code",
   "execution_count": 81,
   "metadata": {},
   "outputs": [
    {
     "name": "stdout",
     "output_type": "stream",
     "text": [
      "(35829, 6)\n",
      "(28123, 6)\n"
     ]
    }
   ],
   "source": [
    "dd_trials_pd_clust = dd_trials_pd.loc[dd_trials_pd.clust != -1]\n",
    "print(dd_trials_pd_clust.shape)\n",
    "dd_trials_pd_clust_no_ripple = dd_trials_pd_clust.loc[dd_trials_pd_clust.ripple_exists==0]\n",
    "print(dd_trials_pd_clust_no_ripple.shape)\n",
    "dd_trials_pd_clust_ripple = dd_trials_pd_clust.loc[dd_trials_pd_clust.ripple_exists==1]"
   ]
  },
  {
   "cell_type": "code",
   "execution_count": 86,
   "metadata": {},
   "outputs": [
    {
     "data": {
      "text/plain": [
       "1.4887903614780365"
      ]
     },
     "execution_count": 86,
     "metadata": {},
     "output_type": "execute_result"
    }
   ],
   "source": [
    "dd_trials_pd_clust_ripple.loc[dd_trials_pd_clust_ripple.clust==0]['HFA_mean'].mean() - dd_trials_pd_clust_no_ripple.loc[dd_trials_pd_clust_no_ripple.clust==0]['HFA_mean'].mean()"
   ]
  },
  {
   "cell_type": "code",
   "execution_count": 87,
   "metadata": {},
   "outputs": [
    {
     "data": {
      "text/plain": [
       "1.4908461407256102"
      ]
     },
     "execution_count": 87,
     "metadata": {},
     "output_type": "execute_result"
    }
   ],
   "source": [
    "dd_trials_pd_clust_ripple.loc[dd_trials_pd_clust_ripple.clust==1]['HFA_mean'].mean() - dd_trials_pd_clust_no_ripple.loc[dd_trials_pd_clust_no_ripple.clust==1]['HFA_mean'].mean()"
   ]
  },
  {
   "cell_type": "code",
   "execution_count": 100,
   "metadata": {},
   "outputs": [
    {
     "name": "stderr",
     "output_type": "stream",
     "text": [
      "/home1/efeghhi/.conda/envs/env3/lib/python3.7/site-packages/statsmodels/regression/mixed_linear_model.py:2094: ConvergenceWarning: The MLE may be on the boundary of the parameter space.\n",
      "  warnings.warn(msg, ConvergenceWarning)\n"
     ]
    },
    {
     "data": {
      "text/html": [
       "<table class=\"simpletable\">\n",
       "<tr>\n",
       "       <td>Model:</td>       <td>MixedLM</td> <td>Dependent Variable:</td>    <td>clust</td>   \n",
       "</tr>\n",
       "<tr>\n",
       "  <td>No. Observations:</td>  <td>35829</td>        <td>Method:</td>          <td>REML</td>    \n",
       "</tr>\n",
       "<tr>\n",
       "     <td>No. Groups:</td>      <td>100</td>         <td>Scale:</td>          <td>0.2387</td>   \n",
       "</tr>\n",
       "<tr>\n",
       "  <td>Min. group size:</td>     <td>8</td>        <td>Likelihood:</td>     <td>-25353.8008</td>\n",
       "</tr>\n",
       "<tr>\n",
       "  <td>Max. group size:</td>   <td>6613</td>       <td>Converged:</td>          <td>Yes</td>    \n",
       "</tr>\n",
       "<tr>\n",
       "  <td>Mean group size:</td>   <td>358.3</td>           <td></td>                <td></td>      \n",
       "</tr>\n",
       "</table>\n",
       "<table class=\"simpletable\">\n",
       "<tr>\n",
       "           <td></td>           <th>Coef.</th> <th>Std.Err.</th>    <th>z</th>   <th>P>|z|</th> <th>[0.025</th> <th>0.975]</th>\n",
       "</tr>\n",
       "<tr>\n",
       "  <th>Intercept</th>           <td>0.489</td>   <td>0.011</td>  <td>44.662</td> <td>0.000</td>  <td>0.468</td>  <td>0.511</td>\n",
       "</tr>\n",
       "<tr>\n",
       "  <th>HFA_mean</th>            <td>0.008</td>   <td>0.002</td>   <td>3.440</td> <td>0.001</td>  <td>0.004</td>  <td>0.013</td>\n",
       "</tr>\n",
       "<tr>\n",
       "  <th>subj Var</th>            <td>0.008</td>   <td>0.004</td>     <td></td>      <td></td>       <td></td>       <td></td>   \n",
       "</tr>\n",
       "<tr>\n",
       "  <th>subj x HFA_mean Cov</th> <td>0.000</td>   <td>0.001</td>     <td></td>      <td></td>       <td></td>       <td></td>   \n",
       "</tr>\n",
       "<tr>\n",
       "  <th>HFA_mean Var</th>        <td>0.000</td>   <td>0.000</td>     <td></td>      <td></td>       <td></td>       <td></td>   \n",
       "</tr>\n",
       "<tr>\n",
       "  <th>sess Var</th>            <td>0.003</td>   <td>0.001</td>     <td></td>      <td></td>       <td></td>       <td></td>   \n",
       "</tr>\n",
       "</table>"
      ],
      "text/plain": [
       "<class 'statsmodels.iolib.summary2.Summary'>\n",
       "\"\"\"\n",
       "            Mixed Linear Model Regression Results\n",
       "=============================================================\n",
       "Model:              MixedLM  Dependent Variable:  clust      \n",
       "No. Observations:   35829    Method:              REML       \n",
       "No. Groups:         100      Scale:               0.2387     \n",
       "Min. group size:    8        Likelihood:          -25353.8008\n",
       "Max. group size:    6613     Converged:           Yes        \n",
       "Mean group size:    358.3                                    \n",
       "-------------------------------------------------------------\n",
       "                    Coef. Std.Err.   z    P>|z| [0.025 0.975]\n",
       "-------------------------------------------------------------\n",
       "Intercept           0.489    0.011 44.662 0.000  0.468  0.511\n",
       "HFA_mean            0.008    0.002  3.440 0.001  0.004  0.013\n",
       "subj Var            0.008    0.004                           \n",
       "subj x HFA_mean Cov 0.000    0.001                           \n",
       "HFA_mean Var        0.000    0.000                           \n",
       "sess Var            0.003    0.001                           \n",
       "=============================================================\n",
       "\n",
       "\"\"\""
      ]
     },
     "execution_count": 100,
     "metadata": {},
     "output_type": "execute_result"
    }
   ],
   "source": [
    "get_bin_CI_model = smf.mixedlm(\"clust ~ 1 + HFA_mean\", dd_trials_pd_clust, groups=\"subj\", vc_formula=vc, \n",
    "                                re_formula='1 + HFA_mean')\n",
    "bin_model = get_bin_CI_model.fit(reml=True, method='nm',maxiter=2000)\n",
    "bin_model.summary()"
   ]
  },
  {
   "cell_type": "code",
   "execution_count": 99,
   "metadata": {},
   "outputs": [
    {
     "name": "stderr",
     "output_type": "stream",
     "text": [
      "/home1/efeghhi/.conda/envs/env3/lib/python3.7/site-packages/statsmodels/regression/mixed_linear_model.py:2094: ConvergenceWarning: The MLE may be on the boundary of the parameter space.\n",
      "  warnings.warn(msg, ConvergenceWarning)\n"
     ]
    },
    {
     "data": {
      "text/html": [
       "<table class=\"simpletable\">\n",
       "<tr>\n",
       "       <td>Model:</td>       <td>MixedLM</td> <td>Dependent Variable:</td>    <td>clust</td>   \n",
       "</tr>\n",
       "<tr>\n",
       "  <td>No. Observations:</td>  <td>28123</td>        <td>Method:</td>          <td>REML</td>    \n",
       "</tr>\n",
       "<tr>\n",
       "     <td>No. Groups:</td>      <td>100</td>         <td>Scale:</td>          <td>0.2399</td>   \n",
       "</tr>\n",
       "<tr>\n",
       "  <td>Min. group size:</td>     <td>7</td>        <td>Likelihood:</td>     <td>-19985.5499</td>\n",
       "</tr>\n",
       "<tr>\n",
       "  <td>Max. group size:</td>   <td>5070</td>       <td>Converged:</td>          <td>Yes</td>    \n",
       "</tr>\n",
       "<tr>\n",
       "  <td>Mean group size:</td>   <td>281.2</td>           <td></td>                <td></td>      \n",
       "</tr>\n",
       "</table>\n",
       "<table class=\"simpletable\">\n",
       "<tr>\n",
       "           <td></td>           <th>Coef.</th> <th>Std.Err.</th>    <th>z</th>   <th>P>|z|</th> <th>[0.025</th> <th>0.975]</th>\n",
       "</tr>\n",
       "<tr>\n",
       "  <th>Intercept</th>           <td>0.491</td>   <td>0.011</td>  <td>44.326</td> <td>0.000</td>  <td>0.469</td>  <td>0.512</td>\n",
       "</tr>\n",
       "<tr>\n",
       "  <th>HFA_mean</th>            <td>0.009</td>   <td>0.003</td>   <td>3.600</td> <td>0.000</td>  <td>0.004</td>  <td>0.014</td>\n",
       "</tr>\n",
       "<tr>\n",
       "  <th>subj Var</th>            <td>0.008</td>   <td>0.004</td>     <td></td>      <td></td>       <td></td>       <td></td>   \n",
       "</tr>\n",
       "<tr>\n",
       "  <th>subj x HFA_mean Cov</th> <td>0.000</td>   <td>0.001</td>     <td></td>      <td></td>       <td></td>       <td></td>   \n",
       "</tr>\n",
       "<tr>\n",
       "  <th>HFA_mean Var</th>        <td>0.000</td>   <td>0.000</td>     <td></td>      <td></td>       <td></td>       <td></td>   \n",
       "</tr>\n",
       "<tr>\n",
       "  <th>sess Var</th>            <td>0.003</td>   <td>0.002</td>     <td></td>      <td></td>       <td></td>       <td></td>   \n",
       "</tr>\n",
       "</table>"
      ],
      "text/plain": [
       "<class 'statsmodels.iolib.summary2.Summary'>\n",
       "\"\"\"\n",
       "            Mixed Linear Model Regression Results\n",
       "=============================================================\n",
       "Model:              MixedLM  Dependent Variable:  clust      \n",
       "No. Observations:   28123    Method:              REML       \n",
       "No. Groups:         100      Scale:               0.2399     \n",
       "Min. group size:    7        Likelihood:          -19985.5499\n",
       "Max. group size:    5070     Converged:           Yes        \n",
       "Mean group size:    281.2                                    \n",
       "-------------------------------------------------------------\n",
       "                    Coef. Std.Err.   z    P>|z| [0.025 0.975]\n",
       "-------------------------------------------------------------\n",
       "Intercept           0.491    0.011 44.326 0.000  0.469  0.512\n",
       "HFA_mean            0.009    0.003  3.600 0.000  0.004  0.014\n",
       "subj Var            0.008    0.004                           \n",
       "subj x HFA_mean Cov 0.000    0.001                           \n",
       "HFA_mean Var        0.000    0.000                           \n",
       "sess Var            0.003    0.002                           \n",
       "=============================================================\n",
       "\n",
       "\"\"\""
      ]
     },
     "execution_count": 99,
     "metadata": {},
     "output_type": "execute_result"
    }
   ],
   "source": [
    "get_bin_CI_model = smf.mixedlm(\"clust ~ 1 + HFA_mean\", dd_trials_pd_clust_no_ripple, groups=\"subj\", vc_formula=vc, \n",
    "                                re_formula='1 + HFA_mean')\n",
    "bin_model = get_bin_CI_model.fit(reml=True, method='nm',maxiter=2000)\n",
    "bin_model.summary()"
   ]
  },
  {
   "cell_type": "code",
   "execution_count": 96,
   "metadata": {},
   "outputs": [
    {
     "name": "stderr",
     "output_type": "stream",
     "text": [
      "/home1/efeghhi/.conda/envs/env3/lib/python3.7/site-packages/statsmodels/regression/mixed_linear_model.py:2094: ConvergenceWarning: The MLE may be on the boundary of the parameter space.\n",
      "  warnings.warn(msg, ConvergenceWarning)\n",
      "/home1/efeghhi/.conda/envs/env3/lib/python3.7/site-packages/statsmodels/base/model.py:1286: RuntimeWarning: invalid value encountered in sqrt\n",
      "  bse_ = np.sqrt(np.diag(self.cov_params()))\n"
     ]
    },
    {
     "data": {
      "text/html": [
       "<table class=\"simpletable\">\n",
       "<tr>\n",
       "       <td>Model:</td>       <td>MixedLM</td> <td>Dependent Variable:</td>    <td>clust</td>   \n",
       "</tr>\n",
       "<tr>\n",
       "  <td>No. Observations:</td>  <td>35829</td>        <td>Method:</td>          <td>REML</td>    \n",
       "</tr>\n",
       "<tr>\n",
       "     <td>No. Groups:</td>      <td>100</td>         <td>Scale:</td>          <td>0.2393</td>   \n",
       "</tr>\n",
       "<tr>\n",
       "  <td>Min. group size:</td>     <td>8</td>        <td>Likelihood:</td>     <td>-25381.1485</td>\n",
       "</tr>\n",
       "<tr>\n",
       "  <td>Max. group size:</td>   <td>6613</td>       <td>Converged:</td>          <td>Yes</td>    \n",
       "</tr>\n",
       "<tr>\n",
       "  <td>Mean group size:</td>   <td>358.3</td>           <td></td>                <td></td>      \n",
       "</tr>\n",
       "</table>\n",
       "<table class=\"simpletable\">\n",
       "<tr>\n",
       "              <td></td>             <th>Coef.</th> <th>Std.Err.</th>    <th>z</th>   <th>P>|z|</th> <th>[0.025</th> <th>0.975]</th>\n",
       "</tr>\n",
       "<tr>\n",
       "  <th>Intercept</th>                <td>0.486</td>   <td>0.011</td>  <td>43.908</td> <td>0.000</td>  <td>0.464</td>  <td>0.508</td>\n",
       "</tr>\n",
       "<tr>\n",
       "  <th>ripple_exists</th>            <td>0.030</td>   <td>0.009</td>   <td>3.433</td> <td>0.001</td>  <td>0.013</td>  <td>0.047</td>\n",
       "</tr>\n",
       "<tr>\n",
       "  <th>subj Var</th>                 <td>0.008</td>   <td>0.004</td>     <td></td>      <td></td>       <td></td>       <td></td>   \n",
       "</tr>\n",
       "<tr>\n",
       "  <th>subj x ripple_exists Cov</th> <td>0.000</td>   <td>0.001</td>     <td></td>      <td></td>       <td></td>       <td></td>   \n",
       "</tr>\n",
       "<tr>\n",
       "  <th>ripple_exists Var</th>        <td>0.000</td>     <td></td>        <td></td>      <td></td>       <td></td>       <td></td>   \n",
       "</tr>\n",
       "<tr>\n",
       "  <th>sess Var</th>                 <td>0.003</td>   <td>0.001</td>     <td></td>      <td></td>       <td></td>       <td></td>   \n",
       "</tr>\n",
       "</table>"
      ],
      "text/plain": [
       "<class 'statsmodels.iolib.summary2.Summary'>\n",
       "\"\"\"\n",
       "              Mixed Linear Model Regression Results\n",
       "==================================================================\n",
       "Model:               MixedLM    Dependent Variable:    clust      \n",
       "No. Observations:    35829      Method:                REML       \n",
       "No. Groups:          100        Scale:                 0.2393     \n",
       "Min. group size:     8          Likelihood:            -25381.1485\n",
       "Max. group size:     6613       Converged:             Yes        \n",
       "Mean group size:     358.3                                        \n",
       "------------------------------------------------------------------\n",
       "                         Coef. Std.Err.   z    P>|z| [0.025 0.975]\n",
       "------------------------------------------------------------------\n",
       "Intercept                0.486    0.011 43.908 0.000  0.464  0.508\n",
       "ripple_exists            0.030    0.009  3.433 0.001  0.013  0.047\n",
       "subj Var                 0.008    0.004                           \n",
       "subj x ripple_exists Cov 0.000    0.001                           \n",
       "ripple_exists Var        0.000                                    \n",
       "sess Var                 0.003    0.001                           \n",
       "==================================================================\n",
       "\n",
       "\"\"\""
      ]
     },
     "execution_count": 96,
     "metadata": {},
     "output_type": "execute_result"
    }
   ],
   "source": [
    "get_bin_CI_model = smf.mixedlm(\"clust ~ 1 + ripple_exists\", dd_trials_pd_clust, groups=\"subj\", vc_formula=vc, \n",
    "                                re_formula='1 + ripple_exists')\n",
    "bin_model = get_bin_CI_model.fit(reml=True, method='nm',maxiter=2000)\n",
    "bin_model.summary()"
   ]
  },
  {
   "cell_type": "code",
   "execution_count": 97,
   "metadata": {},
   "outputs": [
    {
     "name": "stderr",
     "output_type": "stream",
     "text": [
      "/home1/efeghhi/.conda/envs/env3/lib/python3.7/site-packages/statsmodels/regression/mixed_linear_model.py:2094: ConvergenceWarning: The MLE may be on the boundary of the parameter space.\n",
      "  warnings.warn(msg, ConvergenceWarning)\n"
     ]
    },
    {
     "data": {
      "text/html": [
       "<table class=\"simpletable\">\n",
       "<tr>\n",
       "       <td>Model:</td>       <td>MixedLM</td> <td>Dependent Variable:</td>   <td>correct</td>  \n",
       "</tr>\n",
       "<tr>\n",
       "  <td>No. Observations:</td> <td>113028</td>        <td>Method:</td>          <td>REML</td>    \n",
       "</tr>\n",
       "<tr>\n",
       "     <td>No. Groups:</td>      <td>100</td>         <td>Scale:</td>          <td>0.2073</td>   \n",
       "</tr>\n",
       "<tr>\n",
       "  <td>Min. group size:</td>    <td>84</td>        <td>Likelihood:</td>     <td>-71798.4990</td>\n",
       "</tr>\n",
       "<tr>\n",
       "  <td>Max. group size:</td>   <td>10500</td>      <td>Converged:</td>          <td>Yes</td>    \n",
       "</tr>\n",
       "<tr>\n",
       "  <td>Mean group size:</td>  <td>1130.3</td>           <td></td>                <td></td>      \n",
       "</tr>\n",
       "</table>\n",
       "<table class=\"simpletable\">\n",
       "<tr>\n",
       "              <td></td>             <th>Coef.</th> <th>Std.Err.</th>    <th>z</th>   <th>P>|z|</th> <th>[0.025</th> <th>0.975]</th>\n",
       "</tr>\n",
       "<tr>\n",
       "  <th>Intercept</th>                <td>0.317</td>   <td>0.014</td>  <td>22.864</td> <td>0.000</td>  <td>0.290</td>  <td>0.344</td>\n",
       "</tr>\n",
       "<tr>\n",
       "  <th>ripple_exists</th>            <td>0.005</td>   <td>0.005</td>   <td>0.907</td> <td>0.364</td> <td>-0.005</td>  <td>0.015</td>\n",
       "</tr>\n",
       "<tr>\n",
       "  <th>subj Var</th>                 <td>0.016</td>   <td>0.006</td>     <td></td>      <td></td>       <td></td>       <td></td>   \n",
       "</tr>\n",
       "<tr>\n",
       "  <th>subj x ripple_exists Cov</th> <td>0.000</td>   <td>0.001</td>     <td></td>      <td></td>       <td></td>       <td></td>   \n",
       "</tr>\n",
       "<tr>\n",
       "  <th>ripple_exists Var</th>        <td>0.001</td>   <td>0.001</td>     <td></td>      <td></td>       <td></td>       <td></td>   \n",
       "</tr>\n",
       "<tr>\n",
       "  <th>sess Var</th>                 <td>0.005</td>   <td>0.002</td>     <td></td>      <td></td>       <td></td>       <td></td>   \n",
       "</tr>\n",
       "</table>"
      ],
      "text/plain": [
       "<class 'statsmodels.iolib.summary2.Summary'>\n",
       "\"\"\"\n",
       "              Mixed Linear Model Regression Results\n",
       "==================================================================\n",
       "Model:               MixedLM    Dependent Variable:    correct    \n",
       "No. Observations:    113028     Method:                REML       \n",
       "No. Groups:          100        Scale:                 0.2073     \n",
       "Min. group size:     84         Likelihood:            -71798.4990\n",
       "Max. group size:     10500      Converged:             Yes        \n",
       "Mean group size:     1130.3                                       \n",
       "------------------------------------------------------------------\n",
       "                         Coef. Std.Err.   z    P>|z| [0.025 0.975]\n",
       "------------------------------------------------------------------\n",
       "Intercept                0.317    0.014 22.864 0.000  0.290  0.344\n",
       "ripple_exists            0.005    0.005  0.907 0.364 -0.005  0.015\n",
       "subj Var                 0.016    0.006                           \n",
       "subj x ripple_exists Cov 0.000    0.001                           \n",
       "ripple_exists Var        0.001    0.001                           \n",
       "sess Var                 0.005    0.002                           \n",
       "==================================================================\n",
       "\n",
       "\"\"\""
      ]
     },
     "execution_count": 97,
     "metadata": {},
     "output_type": "execute_result"
    }
   ],
   "source": [
    "vc = {'sess':'0+sess'}\n",
    "get_bin_CI_model = smf.mixedlm(\"correct ~ 1 + ripple_exists\", dd_trials_pd, groups=\"subj\", vc_formula=vc, \n",
    "                                re_formula='1 + ripple_exists')\n",
    "bin_model = get_bin_CI_model.fit(reml=True, method='nm',maxiter=2000)\n",
    "bin_model.summary()"
   ]
  }
 ],
 "metadata": {
  "kernelspec": {
   "display_name": "env3",
   "language": "python",
   "name": "python3"
  },
  "language_info": {
   "codemirror_mode": {
    "name": "ipython",
    "version": 3
   },
   "file_extension": ".py",
   "mimetype": "text/x-python",
   "name": "python",
   "nbconvert_exporter": "python",
   "pygments_lexer": "ipython3",
   "version": "3.7.5"
  },
  "orig_nbformat": 4
 },
 "nbformat": 4,
 "nbformat_minor": 2
}
