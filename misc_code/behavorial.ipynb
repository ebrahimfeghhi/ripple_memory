{
 "cells": [
  {
   "cell_type": "code",
   "execution_count": 78,
   "id": "3b042c4e-f83e-4f6c-9bff-a743427faecd",
   "metadata": {},
   "outputs": [
    {
     "name": "stdout",
     "output_type": "stream",
     "text": [
      "The autoreload extension is already loaded. To reload it, use:\n",
      "  %reload_ext autoreload\n"
     ]
    }
   ],
   "source": [
    "%load_ext autoreload\n",
    "%autoreload 2"
   ]
  },
  {
   "cell_type": "code",
   "execution_count": 107,
   "id": "dfd9f58d-4ff5-4ac1-b290-e68d2f4e84c9",
   "metadata": {},
   "outputs": [],
   "source": [
    "import numpy as np\n",
    "import sys\n",
    "import pickle\n",
    "sys.path.append('/home1/efeghhi/ripple_memory/analysis_code/pac_analyses/')\n",
    "from load_data_numpy import load_data_np\n",
    "from matplotlib import pyplot as plt\n",
    "from comodulogram import remove_session_string, get_filtered_signal\n",
    "from scipy.stats import pearsonr\n",
    "import pandas as pd\n",
    "from scipy.stats import wilcoxon\n"
   ]
  },
  {
   "cell_type": "code",
   "execution_count": 81,
   "id": "ae51220f-7a07-4c49-8b0a-c86d6c3cf922",
   "metadata": {},
   "outputs": [],
   "source": [
    "catFR1_encoding = pd.read_pickle(\"/scratch/efeghhi/catFR1/ENCODING/SWR_catFR1_R1683A_0_HPC_encoding_soz_in_hamming.p\")"
   ]
  },
  {
   "cell_type": "code",
   "execution_count": 82,
   "id": "96c5ab11-ffb8-4c79-88db-5ed9e572587b",
   "metadata": {},
   "outputs": [
    {
     "data": {
      "text/plain": [
       "dict_keys(['region_electrode_ct', 'elec_names', 'sub_sess_names', 'raw_eeg', 'ripple_array', 'time_add_save', 'trial_nums', 'encoded_word_key_array', 'category_array', 'serialpos_array', 'list_recall_num_array', 'rectime_array', 'session_events', 'recall_position_array', 'fr_array', 'sub_names', 'total_recalls', 'kept_recalls', 'trial_by_trial_correlation', 'elec_by_elec_correlation', 'elec_ripple_rate_array', 'semantic_clustering_key', 'temporal_clustering_key', 'semantic_clustering_from_key', 'serialpos_lags', 'serialpos_from_lags', 'CRP_lags', 'list_trial_nums', 'list_num_key', 'list_level_semantic', 'list_level_temporal', 'electrode_labels', 'channel_coords'])"
      ]
     },
     "execution_count": 82,
     "metadata": {},
     "output_type": "execute_result"
    }
   ],
   "source": [
    "catFR1_encoding.keys()"
   ]
  },
  {
   "cell_type": "code",
   "execution_count": 83,
   "id": "a8dbcca9-488b-445a-b057-d461a41f3685",
   "metadata": {},
   "outputs": [
    {
     "data": {
      "text/plain": [
       "864"
      ]
     },
     "execution_count": 83,
     "metadata": {},
     "output_type": "execute_result"
    }
   ],
   "source": [
    "len(catFR1_encoding['list_num_key'])"
   ]
  },
  {
   "cell_type": "code",
   "execution_count": 84,
   "id": "defc2ff1-2fe3-43d6-a414-7bdea7d2588c",
   "metadata": {},
   "outputs": [
    {
     "data": {
      "text/plain": [
       "864"
      ]
     },
     "execution_count": 84,
     "metadata": {},
     "output_type": "execute_result"
    }
   ],
   "source": [
    "len(catFR1_encoding['category_array'])"
   ]
  },
  {
   "cell_type": "markdown",
   "id": "8f56f30e-cc90-4aa3-9055-93513acc1c18",
   "metadata": {},
   "source": [
    "### Load data"
   ]
  },
  {
   "cell_type": "code",
   "execution_count": 85,
   "id": "46e0d572-ed06-4f42-8577-b8fc0d41ac8a",
   "metadata": {},
   "outputs": [
    {
     "name": "stdout",
     "output_type": "stream",
     "text": [
      "Loading data\n",
      "LOADING DATA FROM:  HPC\n",
      "order: C\n"
     ]
    }
   ],
   "source": [
    "encoding_mode = 1 # 1 for encoding, 0 for recall\n",
    "region_name = ['HPC']\n",
    "subregion = ['ca1']\n",
    "dd_trials = load_data_np(encoding_mode, region_name=region_name, subregion=subregion)"
   ]
  },
  {
   "cell_type": "code",
   "execution_count": 86,
   "id": "0c1a3b48-8f37-4a6d-aa66-926c85bff64c",
   "metadata": {},
   "outputs": [],
   "source": [
    "subjects = dd_trials['subj']\n",
    "clustered = dd_trials['clust_int']\n",
    "correct = dd_trials['correct']\n",
    "cat_array = dd_trials['category_array']\n",
    "unique_subjects = np.unique(subjects)\n",
    "subj_elec_labels = np.array([remove_session_string(x) for x in dd_trials['elec_labels']])\n",
    "subj_elec_labels_unique = np.unique(subj_elec_labels)\n",
    "electrode_count_per_subject = {}\n",
    "for s in unique_subjects:\n",
    "    electrode_count_per_subject[s] = 0\n",
    "    for se in subj_elec_labels_unique:\n",
    "        if s in se:\n",
    "            electrode_count_per_subject[s] += 1"
   ]
  },
  {
   "cell_type": "code",
   "execution_count": 103,
   "id": "4b296049-cf9f-4510-aae3-47e62411c03f",
   "metadata": {},
   "outputs": [],
   "source": [
    "s_i_all_subjects = []\n",
    "frac_intrusions_out_of_all = []\n",
    "frac_correct_out_of_all = []\n",
    "low_perf_subjects = []\n",
    "for us in unique_subjects:\n",
    "\n",
    "    subject_idxs = np.argwhere(subjects==us)\n",
    "    clustered_s = clustered[subject_idxs]\n",
    "    s_i = compute_fraction_clustered(clustered_s)\n",
    "    correct_s = correct[subject_idxs]\n",
    "    frac_correct_s = np.mean(correct_s)\n",
    "    \n",
    "    if frac_correct_s < 0.15:\n",
    "        low_perf_subjects.append(us)\n",
    "        continue\n",
    "\n",
    "    s_i_all_subjects.append(s_i)\n",
    "    frac_correct_out_of_all.append(frac_correct_s)"
   ]
  },
  {
   "cell_type": "code",
   "execution_count": 104,
   "id": "06e95668-499b-4040-bf27-a572337e55f8",
   "metadata": {},
   "outputs": [
    {
     "data": {
      "text/plain": [
       "['R1260D', 'R1338T', 'R1368T']"
      ]
     },
     "execution_count": 104,
     "metadata": {},
     "output_type": "execute_result"
    }
   ],
   "source": [
    "low_perf_subjects"
   ]
  },
  {
   "cell_type": "markdown",
   "id": "c12e7eb0-f59e-4108-a73c-221d7f385052",
   "metadata": {},
   "source": [
    "### Is the first or second item in a semantic pair more likely to be clustered?\n",
    "- Label each item in the list as the first or second item in the semantic pair \n",
    "- Take every item that is clustered, see if it was the first or second item in the pair "
   ]
  },
  {
   "cell_type": "code",
   "execution_count": 119,
   "id": "ce32e547-bf19-4185-8b29-949adc396351",
   "metadata": {},
   "outputs": [
    {
     "data": {
      "image/png": "[encoded data removed]",
      "text/plain": [
       "<Figure size 432x288 with 1 Axes>"
      ]
     },
     "metadata": {
      "needs_background": "light"
     },
     "output_type": "display_data"
    }
   ],
   "source": [
    "# positions 0,2,4,6,8,10 are first in the semantic pair\n",
    "# positions 1,3,5,7,11 are second in the semantic pair \n",
    "first_in_semantic_pair = np.zeros(cat_array.shape[0])\n",
    "first_in_semantic_pair[::2] = 1\n",
    "\n",
    "\n",
    "ratio_clustered_first_pair_subjects = []\n",
    "for s in unique_subjects:\n",
    "    \n",
    "    if s in low_perf_subjects:\n",
    "        continue\n",
    "    \n",
    "    clust_and_fsp = 0 # clustered and first in semantic pair\n",
    "    clust_and_ssp = 0 # clustered and second in semantic pair \n",
    "    \n",
    "    subj_idxs = np.argwhere(subjects==s)\n",
    "    \n",
    "    # now loop through clustered and first_in_semantic pair\n",
    "    for fsp, clust in zip(first_in_semantic_pair[subj_idxs].squeeze(), clustered_array[subj_idxs].squeeze()):\n",
    "\n",
    "        if clust > 1 and fsp == 1:\n",
    "            clust_and_fsp+=1\n",
    "        if clust > 1 and fsp == 0:\n",
    "            clust_and_ssp+=1\n",
    "            \n",
    "    ratio_clustered_first_pair_subjects.append(clust_and_fsp / (clust_and_fsp+clust_and_ssp))\n",
    "\n",
    "    plt.show()\n",
    "\n",
    "differences = np.array(ratio_clustered_first_pair_subjects)-0.5\n",
    "stat, p_value = wilcoxon(differences, alternative='greater')\n",
    "\n",
    "plt.hist(ratio_clustered_first_pair_subjects, bins=20)\n",
    "plt.xlabel(\"Ratio of clustered items that are first word in pair\", fontsize=14)\n",
    "plt.ylabel(\"Number of participants\", fontsize=14)\n",
    "plt.text(0.6, 10, f'p value: {round(p_value,4)}', fontsize=15)\n",
    "plt.yticks([0, 10, 20])\n",
    "plt.show()\n",
    "\n",
    "        "
   ]
  },
  {
   "cell_type": "code",
   "execution_count": 5,
   "id": "befe3ff3-82b6-4919-9f1c-e9bcd7ecc775",
   "metadata": {},
   "outputs": [],
   "source": [
    "def compute_fraction_clustered(clust_int_subj):\n",
    "    \n",
    "    total_trials = clust_int_subj.shape[0]\n",
    "    # a word follows, and it is semantically and/or temporally related\n",
    "    num_clustered = np.argwhere(clust_int_subj > 0).shape[0]\n",
    "    # a word follows, but not semantically or temporally related \n",
    "    num_not_clustered = np.argwhere(clust_int_subj == -1).shape[0] \n",
    "    s_i = num_clustered/(num_clustered+num_not_clustered)\n",
    "    return s_i"
   ]
  },
  {
   "cell_type": "markdown",
   "id": "f57758ca-1ac0-467f-992c-8f6c37dcca86",
   "metadata": {},
   "source": [
    "### Is there a correlation between the percentage of recalls that are clustered and the number of correctly recalled items?"
   ]
  },
  {
   "cell_type": "code",
   "execution_count": 6,
   "id": "11ddb85d-7719-484e-8ff5-284b5ee0ace0",
   "metadata": {},
   "outputs": [],
   "source": []
  },
  {
   "cell_type": "code",
   "execution_count": 7,
   "id": "0d6616db-95ac-438b-9277-2bbc2681a478",
   "metadata": {},
   "outputs": [],
   "source": []
  },
  {
   "cell_type": "code",
   "execution_count": 8,
   "id": "c898c985-d1c6-4bd0-9e2b-3eec1c2b569c",
   "metadata": {},
   "outputs": [
    {
     "data": {
      "text/plain": [
       "14"
      ]
     },
     "execution_count": 8,
     "metadata": {},
     "output_type": "execute_result"
    }
   ],
   "source": [
    "len(low_perf_subjects)"
   ]
  },
  {
   "cell_type": "code",
   "execution_count": 9,
   "id": "7d7d665c-671c-4973-add6-f72d94ed33bb",
   "metadata": {},
   "outputs": [
    {
     "name": "stdout",
     "output_type": "stream",
     "text": [
      "0.084\n"
     ]
    },
    {
     "data": {
      "text/plain": [
       "Text(0, 0.5, 'S_i')"
      ]
     },
     "execution_count": 9,
     "metadata": {},
     "output_type": "execute_result"
    },
    {
     "data": {
      "image/png": "[encoded data removed]",
      "text/plain": [
       "<Figure size 720x576 with 1 Axes>"
      ]
     },
     "metadata": {
      "needs_background": "light"
     },
     "output_type": "display_data"
    }
   ],
   "source": [
    "plt.figure(figsize=(10,8))\n",
    "plt.scatter(frac_correct_out_of_all, s_i_all_subjects, s=50)\n",
    "r,p = pearsonr(frac_correct_out_of_all, s_i_all_subjects)\n",
    "print(round(p,3))\n",
    "plt.text(0.3, 0.8, f\"pearsonr={round(r,4)}\", fontsize=15)\n",
    "plt.title(\"Higher performing participants cluster more\", fontsize=18)\n",
    "plt.xlabel(\"Fraction of words correctly recalled\", fontsize=18)\n",
    "plt.ylabel(\"S_i\", fontsize=18)\n"
   ]
  },
  {
   "cell_type": "code",
   "execution_count": 54,
   "id": "ddc50c9f-5f12-4153-b72b-b3ac6a364e69",
   "metadata": {},
   "outputs": [
    {
     "data": {
      "text/plain": [
       "array([array(['D', 'C', 'C', 'D', 'C', 'Z'], dtype='<U1'),\n",
       "       array(['D', 'C', 'C', 'D', 'C', 'Z'], dtype='<U1'),\n",
       "       array(['D', 'C', 'C', 'D', 'C', 'Z'], dtype='<U1'), ...,\n",
       "       array(['I', 'I', 'Z'], dtype='<U1'),\n",
       "       array(['I', 'I', 'Z'], dtype='<U1'),\n",
       "       array(['I', 'I', 'Z'], dtype='<U1')], dtype=object)"
      ]
     },
     "execution_count": 54,
     "metadata": {},
     "output_type": "execute_result"
    }
   ],
   "source": [
    "dd_trials['clust']"
   ]
  },
  {
   "cell_type": "markdown",
   "id": "ab8df75f-1a3f-4e92-b4c1-7d724672069d",
   "metadata": {},
   "source": [
    "### Do participants which recall more words/cluster more often show higher hippocampal engagement during word processing?"
   ]
  },
  {
   "cell_type": "code",
   "execution_count": 79,
   "id": "6dd060ac-3fd0-4ac6-88e4-a4b269ca901c",
   "metadata": {},
   "outputs": [],
   "source": [
    "def z_score(power):\n",
    "    # mean center by mean across time and trials \n",
    "    # then divide by standard deviation of the average across timesteps\n",
    "    power = (power - np.mean(power)) / np.std(np.mean(power, axis=1),axis=0)\n",
    "    return power\n",
    "\n",
    "def process_power(power, zscore_by_idxs):\n",
    "    \n",
    "    from scipy.signal import decimate\n",
    "    \n",
    "    power_ds = decimate(np.log10(power), 10)\n",
    "    \n",
    "    power_ds_zscored = np.zeros_like(power_ds)\n",
    "    \n",
    "    for subj_elec in np.unique(zscore_by_idxs):\n",
    "        \n",
    "        subj_elec_idxs = np.argwhere(zscore_by_idxs==subj_elec).squeeze()\n",
    "            \n",
    "        for freq in range(power_ds.shape[0]):\n",
    "\n",
    "            power_ds_zscored[freq, subj_elec_idxs] = z_score(power_ds[freq, subj_elec_idxs].squeeze())\n",
    "        \n",
    "    return power_ds_zscored"
   ]
  },
  {
   "cell_type": "code",
   "execution_count": 99,
   "id": "558ea90f-53c4-4b3e-896a-8d57f22c0831",
   "metadata": {},
   "outputs": [],
   "source": [
    "raw_data = dd_trials['raw']\n",
    "freq = 'low'\n",
    "if freq == 'low':\n",
    "    freq_range = [[2,4]]\n",
    "    axis_title = 'theta'\n",
    "if freq == 'high':\n",
    "    freq_range = [[80,120]]\n",
    "    axis_title = 'gamma'\n",
    "    \n",
    "bandwidth = 'auto'\n",
    "if encoding_mode:\n",
    "    start_cutoff = 500\n",
    "    end_cutoff = 2000\n",
    "fs = 500"
   ]
  },
  {
   "cell_type": "code",
   "execution_count": 100,
   "id": "5f1c946b-e81e-4ef2-9d3c-2ac9cd43dfba",
   "metadata": {},
   "outputs": [],
   "source": [
    "filtered_sig = get_filtered_signal(raw_data, freq_range, start_cutoff, \n",
    "                                   end_cutoff, fs, bandwidth=bandwidth)"
   ]
  },
  {
   "cell_type": "code",
   "execution_count": 101,
   "id": "8d54a3f7-094a-475b-9c72-a1c6c1ccc325",
   "metadata": {},
   "outputs": [],
   "source": [
    "filtered_power = (np.real(np.abs(filtered_sig))**2)\n",
    "power_z = process_power(filtered_power, subj_elec_labels)"
   ]
  },
  {
   "cell_type": "code",
   "execution_count": 102,
   "id": "3781f19d-0216-4ed7-96c1-0883d7b0c45f",
   "metadata": {},
   "outputs": [
    {
     "data": {
      "text/plain": [
       "(1, 55356, 150)"
      ]
     },
     "execution_count": 102,
     "metadata": {},
     "output_type": "execute_result"
    }
   ],
   "source": [
    "power_z.shape"
   ]
  },
  {
   "cell_type": "code",
   "execution_count": 103,
   "id": "70c11404-3c6a-4392-9aac-ace95391a588",
   "metadata": {},
   "outputs": [],
   "source": [
    "power_z = power_z.squeeze()"
   ]
  },
  {
   "cell_type": "code",
   "execution_count": 110,
   "id": "4932ed4b-6792-4677-b5c9-569f39dc59f1",
   "metadata": {},
   "outputs": [
    {
     "name": "stdout",
     "output_type": "stream",
     "text": [
      "50 100\n"
     ]
    }
   ],
   "source": [
    "start_time = -700\n",
    "end_time = 2000\n",
    "start_roi = 300\n",
    "end_roi = 1300\n",
    "sr_factor = 1000/50\n",
    "start_idx = int((start_roi - start_time)/sr_factor)\n",
    "end_idx = int((end_roi-start_time)/sr_factor)\n",
    "print(start_idx, end_idx)"
   ]
  },
  {
   "cell_type": "code",
   "execution_count": 116,
   "id": "3f54f060-fc9e-44ec-9b91-7a3bf30f240e",
   "metadata": {},
   "outputs": [
    {
     "name": "stdout",
     "output_type": "stream",
     "text": [
      "0.550518412595156\n"
     ]
    },
    {
     "data": {
      "text/plain": [
       "Text(0, 0.5, 'theta power (z) 400-1100 ms post word onset')"
      ]
     },
     "execution_count": 116,
     "metadata": {},
     "output_type": "execute_result"
    },
    {
     "data": {
      "image/png": "[encoded data removed]",
      "text/plain": [
       "<Figure size 720x576 with 1 Axes>"
      ]
     },
     "metadata": {
      "needs_background": "light"
     },
     "output_type": "display_data"
    }
   ],
   "source": [
    "time_avg_power_subjs = []\n",
    "for us in unique_subjects:\n",
    "    if us in low_perf_subjects:\n",
    "        continue\n",
    "    subject_idxs = np.argwhere(subjects==us).squeeze()\n",
    "    subject_time_averaged = np.mean(power_z[subject_idxs].squeeze(), axis=0)\n",
    "    time_avg_power_subjs.append(subject_time_averaged)\n",
    "time_avg_power_subjs_np = np.vstack(time_avg_power_subjs)\n",
    "\n",
    "gp_avg = np.mean(time_avg_power_subjs_np[:, start_idx:end_idx].squeeze(),axis=1).squeeze()\n",
    "r,p =pearsonr(s_i_all_subjects, gp_avg)\n",
    "plt.figure(figsize=(10,8))\n",
    "plt.scatter(s_i_all_subjects, gp_avg, s=50)\n",
    "plt.text(0.8,0.2,f\"pearsonr={round(r,4)}\", fontsize=15)\n",
    "print(p)\n",
    "plt.xlabel(\"S_i\", fontsize=18)\n",
    "plt.ylabel(f\"{axis_title} power (z) 400-1100 ms post word onset\", fontsize=18)"
   ]
  },
  {
   "cell_type": "code",
   "execution_count": 117,
   "id": "d223a9d2-3fd5-40ea-9f9b-3822983c77b6",
   "metadata": {},
   "outputs": [
    {
     "data": {
      "text/plain": [
       "Text(0, 0.5, 'theta power (z) 400-1100 ms post word onset')"
      ]
     },
     "execution_count": 117,
     "metadata": {},
     "output_type": "execute_result"
    },
    {
     "data": {
      "image/png": "[encoded data removed]",
      "text/plain": [
       "<Figure size 720x576 with 1 Axes>"
      ]
     },
     "metadata": {
      "needs_background": "light"
     },
     "output_type": "display_data"
    }
   ],
   "source": [
    "time_avg_power_subjs_not_recalled = []\n",
    "not_recalled_idxs = np.argwhere(correct==0).squeeze()\n",
    "for us in unique_subjects:\n",
    "    \n",
    "    if us in low_perf_subjects:\n",
    "        continue\n",
    "        \n",
    "    subject_idxs = np.argwhere(subjects==us)\n",
    "    incorrect_subject_idxs = np.intersect1d(subject_idxs, not_recalled_idxs)\n",
    "    \n",
    "    subject_time_averaged_nr = np.mean(power_z[incorrect_subject_idxs].squeeze(), axis=0)\n",
    "    time_avg_power_subjs_not_recalled.append(subject_time_averaged_nr)\n",
    "    \n",
    "time_avg_power_subjs_not_recalled_np = np.vstack(time_avg_power_subjs_not_recalled)\n",
    "plt.figure(figsize=(10,8))\n",
    "gp_not_recalled_avg = np.mean(time_avg_power_subjs_not_recalled_np[:, start_idx:end_idx],axis=1).squeeze()\n",
    "r,p =pearsonr(s_i_all_subjects, gp_not_recalled_avg)\n",
    "plt.scatter(s_i_all_subjects, gp_not_recalled_avg, s=50)\n",
    "plt.text(0.7,0.2,f\"pearsonr={round(r,4)}\", fontsize=15)\n",
    "plt.title(\"Only not recalled trials\", fontsize=18)\n",
    "plt.xlabel(\"S_i\", fontsize=18)\n",
    "plt.ylabel(f\"{axis_title} power (z) 400-1100 ms post word onset\", fontsize=18)"
   ]
  },
  {
   "cell_type": "code",
   "execution_count": null,
   "id": "3e0a6099-ced1-4d44-8034-e615620fe5e3",
   "metadata": {},
   "outputs": [],
   "source": []
  }
 ],
 "metadata": {
  "kernelspec": {
   "display_name": "env3",
   "language": "python",
   "name": "env3"
  },
  "language_info": {
   "codemirror_mode": {
    "name": "ipython",
    "version": 3
   },
   "file_extension": ".py",
   "mimetype": "text/x-python",
   "name": "python",
   "nbconvert_exporter": "python",
   "pygments_lexer": "ipython3",
   "version": "3.7.5"
  }
 },
 "nbformat": 4,
 "nbformat_minor": 5
}
