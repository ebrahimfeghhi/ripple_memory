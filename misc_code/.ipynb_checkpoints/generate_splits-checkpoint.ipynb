{
 "cells": [
  {
   "cell_type": "code",
   "execution_count": 2,
   "metadata": {},
   "outputs": [],
   "source": [
    "import numpy as np\n",
    "import os"
   ]
  },
  {
   "cell_type": "code",
   "execution_count": 3,
   "metadata": {},
   "outputs": [],
   "source": [
    "scratch_dir_recalled = '/scratch/efeghhi/catFR1/NOIRI'\n",
    "HPC_files_PID_recalled = []\n",
    "for file in os.listdir(scratch_dir_recalled):\n",
    "    \n",
    "    if file == 'test.p' or file[-2:] != '.p':\n",
    "        continue\n",
    "    if 'HPC' in file:\n",
    " \n",
    "        # Split the string by underscores\n",
    "        parts = file.split(\"_\")\n",
    "        \n",
    "        HPC_files_PID_recalled.append(parts[2])\n",
    "        \n",
    "scratch_dir_encoding = '/scratch/efeghhi/catFR1/ENCODING'\n",
    "HPC_files_PID_encoding = []\n",
    "for file in os.listdir(scratch_dir_encoding):\n",
    "    \n",
    "    if file == 'test.p' or file[-2:] != '.p':\n",
    "        continue\n",
    "    if 'HPC' in file:\n",
    " \n",
    "        # Split the string by underscores\n",
    "        parts = file.split(\"_\")\n",
    "        \n",
    "        HPC_files_PID_encoding.append(parts[2])\n",
    "            "
   ]
  },
  {
   "cell_type": "code",
   "execution_count": 4,
   "metadata": {},
   "outputs": [
    {
     "data": {
      "text/plain": [
       "(164,)"
      ]
     },
     "execution_count": 4,
     "metadata": {},
     "output_type": "execute_result"
    }
   ],
   "source": [
    "np.unique(HPC_files_PID_recalled).shape"
   ]
  },
  {
   "cell_type": "code",
   "execution_count": 6,
   "metadata": {},
   "outputs": [
    {
     "data": {
      "text/plain": [
       "(138,)"
      ]
     },
     "execution_count": 6,
     "metadata": {},
     "output_type": "execute_result"
    }
   ],
   "source": [
    "np.unique(HPC_files_PID_encoding).shape"
   ]
  },
  {
   "cell_type": "code",
   "execution_count": 8,
   "metadata": {},
   "outputs": [
    {
     "data": {
      "text/plain": [
       "(126,)"
      ]
     },
     "execution_count": 8,
     "metadata": {},
     "output_type": "execute_result"
    }
   ],
   "source": [
    "subj_both = np.intersect1d(HPC_files_PID_recalled, HPC_files_PID_encoding)\n",
    "subj_both.shape"
   ]
  },
  {
   "cell_type": "code",
   "execution_count": 9,
   "metadata": {},
   "outputs": [],
   "source": [
    "train_PID = subj_both[0:50]"
   ]
  },
  {
   "cell_type": "code",
   "execution_count": 10,
   "metadata": {},
   "outputs": [],
   "source": [
    "np.save('train_PID', train_PID)"
   ]
  },
  {
   "cell_type": "code",
   "execution_count": 13,
   "metadata": {},
   "outputs": [
    {
     "data": {
      "text/plain": [
       "(78,)"
      ]
     },
     "execution_count": 13,
     "metadata": {},
     "output_type": "execute_result"
    }
   ],
   "source": [
    "np.unique(train_PIDs).shape"
   ]
  },
  {
   "cell_type": "code",
   "execution_count": 15,
   "metadata": {},
   "outputs": [
    {
     "data": {
      "text/plain": [
       "['R1024E',\n",
       " 'R1032D',\n",
       " 'R1035M',\n",
       " 'R1061T',\n",
       " 'R1065J',\n",
       " 'R1066P',\n",
       " 'R1067P',\n",
       " 'R1086M',\n",
       " 'R1089P',\n",
       " 'R1105E',\n",
       " 'R1108J',\n",
       " 'R1112M',\n",
       " 'R1131M',\n",
       " 'R1138T',\n",
       " 'R1144E',\n",
       " 'R1157C',\n",
       " 'R1158T',\n",
       " 'R1171M',\n",
       " 'R1174T',\n",
       " 'R1176M',\n",
       " 'R1180C',\n",
       " 'R1188C',\n",
       " 'R1190P',\n",
       " 'R1192C',\n",
       " 'R1204T',\n",
       " 'R1207J',\n",
       " 'R1217T',\n",
       " 'R1221P',\n",
       " 'R1230J',\n",
       " 'R1236J',\n",
       " 'R1243T',\n",
       " 'R1245E',\n",
       " 'R1254E',\n",
       " 'R1264P',\n",
       " 'R1269E',\n",
       " 'R1275D',\n",
       " 'R1278E',\n",
       " 'R1291M',\n",
       " 'R1293P',\n",
       " 'R1310J',\n",
       " 'R1315T',\n",
       " 'R1328E',\n",
       " 'R1330D',\n",
       " 'R1332M',\n",
       " 'R1338T',\n",
       " 'R1343J',\n",
       " 'R1347D',\n",
       " 'R1348J',\n",
       " 'R1354E',\n",
       " 'R1366J',\n",
       " 'R1367D',\n",
       " 'R1368T',\n",
       " 'R1372C',\n",
       " 'R1374T',\n",
       " 'R1379E',\n",
       " 'R1382T',\n",
       " 'R1383J',\n",
       " 'R1385E',\n",
       " 'R1387E',\n",
       " 'R1388T',\n",
       " 'R1395M',\n",
       " 'R1396T',\n",
       " 'R1397D',\n",
       " 'R1398J',\n",
       " 'R1405E',\n",
       " 'R1413D',\n",
       " 'R1414E',\n",
       " 'R1421M',\n",
       " 'R1423E',\n",
       " 'R1426N',\n",
       " 'R1433E',\n",
       " 'R1444D',\n",
       " 'R1445E',\n",
       " 'R1447M',\n",
       " 'R1448T',\n",
       " 'R1449T',\n",
       " 'R1456D',\n",
       " 'R1463E']"
      ]
     },
     "execution_count": 15,
     "metadata": {},
     "output_type": "execute_result"
    }
   ],
   "source": [
    "train_PIDs"
   ]
  },
  {
   "cell_type": "code",
   "execution_count": null,
   "metadata": {},
   "outputs": [],
   "source": []
  }
 ],
 "metadata": {
  "kernelspec": {
   "display_name": "env3",
   "language": "python",
   "name": "env3"
  },
  "language_info": {
   "codemirror_mode": {
    "name": "ipython",
    "version": 3
   },
   "file_extension": ".py",
   "mimetype": "text/x-python",
   "name": "python",
   "nbconvert_exporter": "python",
   "pygments_lexer": "ipython3",
   "version": "3.7.5"
  }
 },
 "nbformat": 4,
 "nbformat_minor": 4
}
