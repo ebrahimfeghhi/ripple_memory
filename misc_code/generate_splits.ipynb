{
 "cells": [
  {
   "cell_type": "code",
   "execution_count": 1,
   "metadata": {},
   "outputs": [],
   "source": [
    "import numpy as np\n",
    "import os"
   ]
  },
  {
   "cell_type": "code",
   "execution_count": 2,
   "metadata": {},
   "outputs": [],
   "source": [
    "scratch_dir = '/scratch/efeghhi/catFR1/ENCODING'\n",
    "HPC_files_PID = []\n",
    "for file in os.listdir(scratch_dir):\n",
    "    \n",
    "    if file == 'test.p' or file[-2:] != '.p':\n",
    "        continue\n",
    "    if 'HPC' in file:\n",
    " \n",
    "        # Split the string by underscores\n",
    "        parts = file.split(\"_\")\n",
    "        \n",
    "        HPC_files_PID.append(parts[2])\n",
    "            "
   ]
  },
  {
   "cell_type": "code",
   "execution_count": 3,
   "metadata": {},
   "outputs": [],
   "source": [
    "train_data_size = int(0.5*len(HPC_files_PID))\n",
    "train_PIDs = []\n",
    "total_sessions_train = 0\n",
    "for PID in np.unique(HPC_files_PID):\n",
    "    \n",
    "    num_sessions_PID = np.argwhere(np.asarray(HPC_files_PID)==PID).shape[0]\n",
    "    total_sessions_train += num_sessions_PID\n",
    "    if total_sessions_train > train_data_size:\n",
    "        break\n",
    "    train_PIDs.append(PID)"
   ]
  },
  {
   "cell_type": "code",
   "execution_count": 4,
   "metadata": {},
   "outputs": [],
   "source": [
    "np.save('train_PID', train_PIDs)"
   ]
  },
  {
   "cell_type": "code",
   "execution_count": null,
   "metadata": {},
   "outputs": [],
   "source": []
  }
 ],
 "metadata": {
  "kernelspec": {
   "display_name": "env3",
   "language": "python",
   "name": "python3"
  },
  "language_info": {
   "codemirror_mode": {
    "name": "ipython",
    "version": 3
   },
   "file_extension": ".py",
   "mimetype": "text/x-python",
   "name": "python",
   "nbconvert_exporter": "python",
   "pygments_lexer": "ipython3",
   "version": "3.7.5"
  },
  "orig_nbformat": 4
 },
 "nbformat": 4,
 "nbformat_minor": 2
}
