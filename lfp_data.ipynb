{
 "cells": [
  {
   "cell_type": "code",
   "execution_count": 42,
   "metadata": {},
   "outputs": [
    {
     "name": "stdout",
     "output_type": "stream",
     "text": [
      "3.9269908169872414\n"
     ]
    }
   ],
   "source": [
    "import numpy as np\n",
    "freq = 5\n",
    "n = .5\n",
    "sigma = n/2*np.pi*freq\n",
    "sigma * (2*np.pi*freq) = n \n",
    "print(sigma)"
   ]
  },
  {
   "attachments": {},
   "cell_type": "markdown",
   "metadata": {},
   "source": [
    "It is recommended to set the FWHM no lower than one cycle at the frequency of the sine wave used\n",
    "to create the wavelet. For example, a 10 Hz wavelet should not have less than a 100 millisecond\n",
    "FWHM. This leads to the simple formula to compute the minimum FWHM of 1/f , where f is the\n",
    "frequency of the sine wave that creates the wavelet. This corresponds to ~2 ⅔ cycles (the n\n",
    "parameter in equation 2). \n",
    "\n",
    "A wider gaussian has worse frequency precision but better temporal precision. "
   ]
  },
  {
   "cell_type": "code",
   "execution_count": 33,
   "metadata": {},
   "outputs": [
    {
     "name": "stdout",
     "output_type": "stream",
     "text": [
      "0.2\n"
     ]
    }
   ],
   "source": [
    "theta_low_freq = 5\n",
    "fhwm_theta_min = 1/5\n",
    "print(fhwm_theta_min)"
   ]
  },
  {
   "cell_type": "code",
   "execution_count": null,
   "metadata": {},
   "outputs": [],
   "source": []
  }
 ],
 "metadata": {
  "kernelspec": {
   "display_name": "env3",
   "language": "python",
   "name": "python3"
  },
  "language_info": {
   "codemirror_mode": {
    "name": "ipython",
    "version": 3
   },
   "file_extension": ".py",
   "mimetype": "text/x-python",
   "name": "python",
   "nbconvert_exporter": "python",
   "pygments_lexer": "ipython3",
   "version": "3.7.5"
  },
  "orig_nbformat": 4
 },
 "nbformat": 4,
 "nbformat_minor": 2
}
