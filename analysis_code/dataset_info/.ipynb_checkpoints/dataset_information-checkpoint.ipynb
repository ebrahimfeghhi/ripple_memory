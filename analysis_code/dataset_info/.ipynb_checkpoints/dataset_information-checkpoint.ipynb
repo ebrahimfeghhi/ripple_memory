{
 "cells": [
  {
   "cell_type": "code",
   "execution_count": 3,
   "id": "144192f6-9089-4f0c-b9aa-a97710f34615",
   "metadata": {},
   "outputs": [
    {
     "name": "stdout",
     "output_type": "stream",
     "text": [
      "The autoreload extension is already loaded. To reload it, use:\n",
      "  %reload_ext autoreload\n"
     ]
    }
   ],
   "source": [
    "%load_ext autoreload\n",
    "%autoreload 2\n",
    "import numpy as np\n",
    "import sys \n",
    "sys.path.append('/home1/efeghhi/ripple_memory/analysis_code/')\n",
    "from load_data import *\n",
    "from analyze_data import *\n",
    "sys.path.append('/home1/efeghhi/ripple_memory/analysis_code/pac_analyses/')\n",
    "from load_data_numpy import load_data_np\n",
    "from comodulogram import remove_session_string, get_filtered_signal\n",
    "import statsmodels.formula.api as smf\n",
    "import matplotlib.pyplot as plt\n",
    "import seaborn as sns\n",
    "from scipy.signal import decimate, resample\n",
    "\n",
    "from mne.time_frequency import tfr_array_morlet\n",
    "from scipy.signal import hilbert\n"
   ]
  },
  {
   "cell_type": "code",
   "execution_count": 5,
   "id": "0fd2f4ef-819c-4d8f-bdbc-5d115e816fb8",
   "metadata": {},
   "outputs": [
    {
     "name": "stdout",
     "output_type": "stream",
     "text": [
      "Loading data\n",
      "LOADING DATA FROM:  HPC\n",
      "order: C\n"
     ]
    }
   ],
   "source": [
    "# load data\n",
    "encoding_mode = 1\n",
    "region_name = ['HPC']\n",
    "subregion = ['ca1']\n",
    "dd_trials = load_data_np(encoding_mode, region_name=region_name, subregion=subregion)"
   ]
  },
  {
   "cell_type": "code",
   "execution_count": 8,
   "id": "35b97aa2-e8d5-459a-a213-0ac1fbc1f12f",
   "metadata": {},
   "outputs": [
    {
     "data": {
      "text/plain": [
       "dict_keys(['ripple', 'clust', 'correct', 'position', 'list_num', 'subj', 'sess', 'elec_names', 'elec_labels', 'serial_pos', 'raw', 'elec_by_elec_correlation', 'trial_by_trial_correlation', 'elec_ripple_rate_array', 'category_array', 'clust_int'])"
      ]
     },
     "execution_count": 8,
     "metadata": {},
     "output_type": "execute_result"
    }
   ],
   "source": [
    "dd_trials.keys()"
   ]
  },
  {
   "cell_type": "code",
   "execution_count": 16,
   "id": "3861c912-f530-4c5e-a219-d821944af7b3",
   "metadata": {},
   "outputs": [
    {
     "data": {
      "image/png": "[encoded data removed]",
      "text/plain": [
       "<Figure size 432x288 with 1 Axes>"
      ]
     },
     "metadata": {
      "needs_background": "light"
     },
     "output_type": "display_data"
    }
   ],
   "source": [
    "# let's chraracterize how many trials we have from each participants \n",
    "subjects = dd_trials['subj']\n",
    "clust = dd_trials['clust_int']\n",
    "num_trials_subjects = []\n",
    "\n",
    "for s in np.unique(subjects):\n",
    "    s_idxs = np.argwhere(subjects==s)\n",
    "    clust_s = clust[s_idxs]\n",
    "    num_clust = np.argwhere(clust_s > 0).shape[0]\n",
    "    num_trials_subjects.append(s_idxs.shape[0])\n",
    "\n",
    "plt.hist(num_trials_subjects, bins=np.linspace(0,1000,10))\n",
    "plt.show()"
   ]
  },
  {
   "cell_type": "code",
   "execution_count": null,
   "id": "7f040dc2-e6e9-4195-9ff0-de5fa2b2d346",
   "metadata": {},
   "outputs": [],
   "source": []
  }
 ],
 "metadata": {
  "kernelspec": {
   "display_name": "env3",
   "language": "python",
   "name": "env3"
  },
  "language_info": {
   "codemirror_mode": {
    "name": "ipython",
    "version": 3
   },
   "file_extension": ".py",
   "mimetype": "text/x-python",
   "name": "python",
   "nbconvert_exporter": "python",
   "pygments_lexer": "ipython3",
   "version": "3.7.5"
  }
 },
 "nbformat": 4,
 "nbformat_minor": 5
}
