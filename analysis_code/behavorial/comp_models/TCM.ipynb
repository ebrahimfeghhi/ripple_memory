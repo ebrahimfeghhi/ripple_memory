{
 "cells": [
  {
   "cell_type": "code",
   "execution_count": 9,
   "id": "47b1f4ce-62da-4894-867c-812de578d153",
   "metadata": {},
   "outputs": [],
   "source": [
    "import numpy as np"
   ]
  },
  {
   "cell_type": "code",
   "execution_count": 22,
   "id": "a9129eb4-72e3-4ee1-a1b6-ceb604328612",
   "metadata": {},
   "outputs": [],
   "source": [
    "a = np.array([2,3])\n",
    "B = np.array([[1,2],[3,4]])\n",
    "C = np.array([[3,2],[1,5]])"
   ]
  },
  {
   "cell_type": "code",
   "execution_count": 20,
   "id": "b150036c-8b64-4197-87b3-38531cf59db9",
   "metadata": {},
   "outputs": [],
   "source": [
    "M = None\n",
    "for b,c in zip(B,C):\n",
    "    if M is None:\n",
    "        M = np.outer(b,c)\n",
    "    else:\n",
    "        M += np.outer(b,c)"
   ]
  },
  {
   "cell_type": "code",
   "execution_count": 23,
   "id": "93cc6e1a-3df1-4f0d-a7aa-409c8723b98e",
   "metadata": {},
   "outputs": [
    {
     "data": {
      "text/plain": [
       "array([ 42, 106])"
      ]
     },
     "execution_count": 23,
     "metadata": {},
     "output_type": "execute_result"
    }
   ],
   "source": [
    "np.dot(a,M)"
   ]
  },
  {
   "cell_type": "code",
   "execution_count": 24,
   "id": "685fa72d-e68f-4320-992c-0cd8000cffc8",
   "metadata": {},
   "outputs": [],
   "source": [
    "M = None\n",
    "for b,c in zip(B,C):\n",
    "    if M is None:\n",
    "        M = np.dot(a,np.outer(b,c))\n",
    "    else:\n",
    "        M += np.dot(a,np.outer(b,c))"
   ]
  },
  {
   "cell_type": "code",
   "execution_count": 25,
   "id": "6eea6917-ea62-4509-a61f-829b3a0084d1",
   "metadata": {},
   "outputs": [
    {
     "data": {
      "text/plain": [
       "array([ 42, 106])"
      ]
     },
     "execution_count": 25,
     "metadata": {},
     "output_type": "execute_result"
    }
   ],
   "source": [
    "M"
   ]
  },
  {
   "cell_type": "code",
   "execution_count": null,
   "id": "ec1e3968-7a4f-4614-9cd0-ddf3c963ac78",
   "metadata": {},
   "outputs": [],
   "source": []
  }
 ],
 "metadata": {
  "kernelspec": {
   "display_name": "env3",
   "language": "python",
   "name": "env3"
  },
  "language_info": {
   "codemirror_mode": {
    "name": "ipython",
    "version": 3
   },
   "file_extension": ".py",
   "mimetype": "text/x-python",
   "name": "python",
   "nbconvert_exporter": "python",
   "pygments_lexer": "ipython3",
   "version": "3.7.5"
  }
 },
 "nbformat": 4,
 "nbformat_minor": 5
}
