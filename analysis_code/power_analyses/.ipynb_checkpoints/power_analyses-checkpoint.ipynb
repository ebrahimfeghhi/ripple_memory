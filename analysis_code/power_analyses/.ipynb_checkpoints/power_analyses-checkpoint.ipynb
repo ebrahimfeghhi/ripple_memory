{
 "cells": [
  {
   "cell_type": "code",
   "execution_count": 2,
   "id": "0307f557-ecff-4bd5-9f99-0e10e2deb52f",
   "metadata": {},
   "outputs": [
    {
     "name": "stdout",
     "output_type": "stream",
     "text": [
      "The autoreload extension is already loaded. To reload it, use:\n",
      "  %reload_ext autoreload\n"
     ]
    }
   ],
   "source": [
    "%load_ext autoreload\n",
    "%autoreload 2\n",
    "import numpy as np\n",
    "import sys \n",
    "base = '/home1/efeghhi/'\n",
    "sys.path.append(f'{base}ripple_memory/analysis_code/')\n",
    "from load_data import *\n",
    "from analyze_data import *\n",
    "sys.path.append(f'{base}ripple_memory/analysis_code/pac_analyses/')\n",
    "from load_data_numpy import load_data_np\n",
    "from comodulogram import remove_session_string, get_filtered_signal\n",
    "\n",
    "import statsmodels.formula.api as smf\n",
    "import matplotlib.pyplot as plt\n",
    "import seaborn as sns\n",
    "from scipy.signal import decimate, resample\n",
    "\n",
    "from mne.time_frequency import tfr_array_morlet\n",
    "from scipy.signal import hilbert\n",
    "sys.path.append('/home1/efeghhi/ripple_memory/')\n",
    "from SWRmodule import triangleSmooth\n"
   ]
  },
  {
   "cell_type": "code",
   "execution_count": 3,
   "id": "07b9ce8f-b8c4-48b4-bbe9-2dd550d7c446",
   "metadata": {},
   "outputs": [],
   "source": [
    "def z_score(power):\n",
    "    \n",
    "    '''\n",
    "    :param ndarray power: 2d array of shape trials x timesteps\n",
    "    '''\n",
    "    # mean center by mean across time and trials \n",
    "    # then divide by standard deviation of the average across timesteps\n",
    "    power = (power - np.mean(power)) / np.std(np.mean(power, axis=1),axis=0)\n",
    "    return power\n",
    "\n",
    "def process_power(power, zscore_by_idxs):\n",
    "    \n",
    "    from scipy.signal import decimate\n",
    "    \n",
    "    power_ds = decimate(np.log10(power), 10)\n",
    "    \n",
    "    power_ds_zscored = np.zeros_like(power_ds)\n",
    "    \n",
    "    for val in np.unique(zscore_by_idxs):\n",
    "        \n",
    "        val_idxs = np.argwhere(zscore_by_idxs==val).squeeze()\n",
    "            \n",
    "        for freq in range(power_ds.shape[0]):\n",
    "            \n",
    "            power_ds_zscored[freq, val_idxs] = z_score(power_ds[freq, val_idxs].squeeze())\n",
    "        \n",
    "    return power_ds_zscored"
   ]
  },
  {
   "cell_type": "code",
   "execution_count": 4,
   "id": "1151a94a-f3ff-43ed-9bff-9abd8017f17d",
   "metadata": {},
   "outputs": [],
   "source": [
    "# for now the plotting code only works with one region at a time\n",
    "region_name = ['AMY'] \n",
    "subregion = ['']\n",
    "\n",
    "# 1 for encoding, 0 for recall\n",
    "encoding_mode_arr = [1] \n",
    "freq_range_str_arr = ['high', 'low']\n",
    "savePath = f'{base}ripple_memory/analysis_code/pac_analyses/saved_results/power_figures'\n",
    "\n",
    "# define frequency ranges\n",
    "low_fq_range = [[2,4],[7,9]]\n",
    "high_fq_range = [[30,70], [80,120], [130, 170]]\n"
   ]
  },
  {
   "cell_type": "code",
   "execution_count": 5,
   "id": "a89a308c-2e56-4708-b07c-43734092cfe2",
   "metadata": {},
   "outputs": [],
   "source": [
    "def load_z_scored_power(dd_trials, freq_range_str_arr):\n",
    "    \n",
    "    print(\"Generating figures for run_mode: \", encoding_mode)\n",
    "\n",
    "    if encoding_mode:\n",
    "        start_cutoff = 500\n",
    "        end_cutoff = 2000\n",
    "\n",
    "    else:\n",
    "        start_cutoff = 500\n",
    "        end_cutoff = 2500\n",
    "\n",
    "    subjects = dd_trials['subj']\n",
    "\n",
    "    fs = 500\n",
    "    sr_factor = 1000/fs\n",
    "\n",
    "    raw_data = dd_trials['raw']\n",
    "    \n",
    "    # z scoring is done for each unique subject, session, electrode combo\n",
    "    subj_elec_sess_labels = dd_trials['elec_labels'] \n",
    "\n",
    "    for freq_range_str in freq_range_str_arr:\n",
    "        \n",
    "        if freq_range_str == 'high':\n",
    "            freq_range = high_fq_range\n",
    "            ylabel = 'Gamma power'\n",
    "            bandwidth='auto'\n",
    "        else:\n",
    "            freq_range = low_fq_range\n",
    "            ylabel = 'Theta power'\n",
    "            bandwidth='auto'\n",
    "        \n",
    "        # filter signal using hilbert method\n",
    "        filtered_sig = get_filtered_signal(raw_data, freq_range, start_cutoff, \n",
    "                                           end_cutoff, fs, bandwidth=bandwidth)\n",
    "        \n",
    "        # obtain power and amplitude\n",
    "        filtered_sig_amp = np.real(np.abs(filtered_sig))\n",
    "        filtered_sig_power = filtered_sig_amp**2\n",
    "        \n",
    "        # z-score data from each electrode \n",
    "        power_z = process_power(filtered_sig_power, subj_elec_sess_labels)\n",
    "        \n",
    "        power_z = power_z.squeeze()\n",
    "        \n",
    "        region_str = region_name[0]\n",
    "        \n",
    "        yield power_z, ylabel\n",
    "        \n",
    "    "
   ]
  },
  {
   "cell_type": "code",
   "execution_count": 7,
   "id": "c958d1c0-1cba-423b-ba92-ccd96e72fe3d",
   "metadata": {},
   "outputs": [],
   "source": [
    "for encoding_mode in encoding_mode_arr:\n",
    "    \n",
    "    # load data\n",
    "    dd_trials = load_data_np(encoding_mode,\n",
    "        region_name=region_name, subregion=subregion)\n",
    "    \n",
    "    clust = dd_trials['clust_int']\n",
    "    notclust_idxs = np.argwhere(clust<0).squeeze()\n",
    "    clust_idxs = np.argwhere(clust>0).squeeze()\n",
    "    \n",
    "    if encoding_mode:\n",
    "        saveName = 'encoding_'\n",
    "        recall_str = ''\n",
    "        time = np.linspace(-0.7, 2.3, 150)\n",
    "        correct = dd_trials['correct']\n",
    "        incorrect_idxs = np.argwhere(correct==0).squeeze()\n",
    "        \n",
    "    else:\n",
    "        saveName = 'recall_'\n",
    "        recall_str = '_recall'\n",
    "        time = np.linspace(-2, 2, 200)\n",
    "    \n",
    "    for power_z, ylabel in load_z_scored_power(dd_trials, freq_range_str_arr):\n",
    "\n",
    "        if len(subregion[0]) > 0:\n",
    "            subregion_str = f'_{subregion[0]}'\n",
    "        else:\n",
    "            subregion_str = ''\n",
    "            \n",
    "        # loop through sub-bands of gamma or theta\n",
    "        for power_z_i in power_z:\n",
    "\n",
    "            plt.figure(figsize=(10,6))\n",
    "\n",
    "            pzc = triangleSmooth(np.mean(power_z_i[clust_idxs].squeeze(), axis=0), smoothing_triangle=5)\n",
    "            pznc = triangleSmooth(np.mean(power_z_i[notclust_idxs].squeeze(), axis=0), smoothing_triangle=5)\n",
    "\n",
    "            plt.plot(time, pzc, color='tab:blue', alpha=0.8, label=\"Clust\")\n",
    "            plt.plot(time, pznc, color='tab:orange', alpha=0.8, label=\"Not Clust\")\n",
    "\n",
    "            # plot not recalled data for encoding \n",
    "            if encoding_mode:\n",
    "                pzi = triangleSmooth(np.mean(power_z_i[incorrect_idxs].squeeze(), axis=0), smoothing_triangle=5)\n",
    "                plt.plot(time, pzi, color='tab:pink', alpha=0.8, label=\"Not Recalled\")\n",
    "\n",
    "            plt.axvline(0, color='black')\n",
    "            plt.ylabel(f\"{ylabel} ({f[0]}-{f[1]} Hz)\", fontsize=18)\n",
    "            plt.xlabel(\"Time\", fontsize=18)\n",
    "            sns.despine()\n",
    "            plt.legend(fontsize=16)\n",
    "            plt.savefig(f\"{savePath}/{ylabel}_{f[0]}-{f[1]}_zscore_elec_{region_str}{subregion_str}{recall_str}\", dpi=300, \n",
    "                        bbox_inches='tight')\n",
    "            plt.show()"
   ]
  },
  {
   "cell_type": "code",
   "execution_count": 4,
   "id": "b7ad3a16-f268-45ad-b95c-79f432113127",
   "metadata": {},
   "outputs": [
    {
     "name": "stdout",
     "output_type": "stream",
     "text": [
      "Loading data\n",
      "LOADING DATA FROM:  HPC\n",
      "order: C\n"
     ]
    }
   ],
   "source": [
    "# now let's see which electrodes display a rise in power \n",
    "from scipy.stats import ttest_rel \n",
    "from scipy.stats import wilcoxon\n",
    "       \n",
    "encoding_mode = 1\n",
    "fs = 500\n",
    "\n",
    "\n",
    "region_name = ['HPC']\n",
    "subregion = ['ca1']\n",
    "\n",
    "freq_band = 'medium_gamma'\n",
    "if freq_band == 'medium_gamma':\n",
    "    freq_range = [[80,120]]\n",
    "if freq_band == 'low_theta':\n",
    "    freq_range = [[2,4]]\n",
    "    \n",
    "# load data\n",
    "dd_trials = load_data_np(encoding_mode, region_name=region_name, subregion=subregion)\n",
    "\n",
    "raw_data = dd_trials['raw']\n",
    "subj_elec_sess_labels = dd_trials['elec_labels'] \n",
    "subj_elec_unique, counts_se = np.unique(subj_elec_sess_labels, return_counts=True)\n",
    "\n",
    "if encoding_mode:\n",
    "\n",
    "    # each trial consists of 5 sec of raw data, which starts\n",
    "    # 1.7 before word onset and ends 3.3 sec after word onset \n",
    "    # the data is sampled at 500 Hz\n",
    "    start_time = -700\n",
    "    end_time = 2300\n",
    "    \n",
    "    start_cutoff = 500\n",
    "    end_cutoff = 2000\n",
    "    \n",
    "else:\n",
    "       \n",
    "    # relative to word vocalization, in ms\n",
    "    start_roi = -1100\n",
    "    end_roi = -100\n",
    "\n",
    "    # for recall, \n",
    "    # each trial consists of 6 sec of data, centered around word recall \n",
    "    start_time = -2000\n",
    "    end_time = 2000\n",
    "    \n",
    "    start_cutoff = 500\n",
    "    end_cutoff = 2500\n",
    "\n",
    "bandwidth='auto'\n",
    "\n",
    "# filter signal using hilbert method\n",
    "filtered_sig = get_filtered_signal(raw_data, freq_range, start_cutoff, \n",
    "                                   end_cutoff, fs, bandwidth=bandwidth)\n",
    "# obtain power and amplitude\n",
    "filtered_sig_amp = np.real(np.abs(filtered_sig.squeeze()))\n",
    "filtered_sig_power = decimate(np.log10(filtered_sig_amp**2), 10)\n",
    "\n",
    "# update fs and sr_factor\n",
    "fs = 50\n",
    "sr_factor = 1000/fs\n",
    "    "
   ]
  },
  {
   "cell_type": "code",
   "execution_count": 29,
   "id": "9a0635b0-7417-47c9-b5d7-28a7552a44ee",
   "metadata": {},
   "outputs": [
    {
     "name": "stdout",
     "output_type": "stream",
     "text": [
      "45 80\n",
      "0 35\n"
     ]
    }
   ],
   "source": [
    "# relative to word onset, in ms \n",
    "start_roi = 200\n",
    "end_roi = 900\n",
    "baseline_start_roi = -700\n",
    "baseline_end_roi = 0\n",
    "\n",
    "# convert to indices based on start time and sampling rate factor\n",
    "start_idx = int((start_roi - start_time)/sr_factor)\n",
    "end_idx = int((end_roi-start_time)/sr_factor)\n",
    "baseline_start_idx = int((baseline_start_roi - start_time)/sr_factor)\n",
    "baseline_end_idx = int((baseline_end_roi - start_time)/sr_factor)\n",
    "\n",
    "print(start_idx, end_idx)\n",
    "print(baseline_start_idx, baseline_end_idx)\n",
    "electrode_trial_count = []\n",
    "electrode_p_value_ttest = []\n",
    "electrode_p_value_wilcox = []\n",
    "electrode_label = []\n",
    "electrode_max_time = []\n",
    "for seu in subj_elec_unique:\n",
    "    \n",
    "    electrode_label.append(seu)\n",
    "    \n",
    "    se_idxs = np.argwhere(subj_elec_sess_labels==seu).squeeze()\n",
    "    \n",
    "    filtered_elec = filtered_sig_power[se_idxs].squeeze()\n",
    "    \n",
    "    max_time = int(np.mean(np.argmax(filtered_elec,axis=1)))\n",
    "    \n",
    "    pow_roi = np.max(filtered_elec[:, start_idx:end_idx], axis=1)\n",
    "    pow_base = np.max(filtered_elec[:, baseline_start_idx:baseline_end_idx], axis=1)\n",
    "    \n",
    "    ttest_res = ttest_rel(pow_roi, pow_base, alternative='greater')\n",
    "    \n",
    "    d = np.around(pow_roi-pow_base, decimals=5)\n",
    "    wilcox_res = wilcoxon(d, alternative='greater')\n",
    "    \n",
    "    electrode_p_value_ttest.append(ttest_res.pvalue)\n",
    "    electrode_p_value_wilcox.append(wilcox_res.pvalue)\n",
    "    \n",
    "    electrode_trial_count.append(se_idxs.shape[0])\n",
    "    "
   ]
  },
  {
   "cell_type": "code",
   "execution_count": 30,
   "id": "717bb412-c4a5-4ba2-80a2-44dc78c930b0",
   "metadata": {},
   "outputs": [
    {
     "name": "stdout",
     "output_type": "stream",
     "text": [
      "Number of electrodes:  201\n"
     ]
    }
   ],
   "source": [
    "print(\"Number of electrodes: \", len(electrode_label))"
   ]
  },
  {
   "cell_type": "code",
   "execution_count": 31,
   "id": "fcfd4d35-4628-4d6c-bbf4-5e000578a392",
   "metadata": {},
   "outputs": [
    {
     "name": "stdout",
     "output_type": "stream",
     "text": [
      "Number of nonsig elecs by ttest:  166\n",
      "Number of nonsig elecs by wilcox:  163\n"
     ]
    }
   ],
   "source": [
    "print(\"Number of nonsig elecs by ttest: \", np.argwhere(np.array(electrode_p_value_ttest) > 0.05).shape[0])\n",
    "print(\"Number of nonsig elecs by wilcox: \", np.argwhere(np.array(electrode_p_value_wilcox) > 0.05).shape[0])"
   ]
  },
  {
   "cell_type": "code",
   "execution_count": 32,
   "id": "5b130da4-89aa-45f2-ae34-c56299adf5c3",
   "metadata": {},
   "outputs": [
    {
     "ename": "NameError",
     "evalue": "name 'savePath' is not defined",
     "output_type": "error",
     "traceback": [
      "\u001b[0;31m---------------------------------------------------------------------------\u001b[0m",
      "\u001b[0;31mNameError\u001b[0m                                 Traceback (most recent call last)",
      "\u001b[0;32m<ipython-input-32-3758f038357d>\u001b[0m in \u001b[0;36m<module>\u001b[0;34m\u001b[0m\n\u001b[1;32m      1\u001b[0m elec_stats = pd.DataFrame({'electrode_label': electrode_label, 'pval_t_test': electrode_p_value_ttest, 'pval_wilcox': electrode_p_value_wilcox, \n\u001b[1;32m      2\u001b[0m                   'electrode_trial_count': electrode_trial_count})\n\u001b[0;32m----> 3\u001b[0;31m \u001b[0melec_stats\u001b[0m\u001b[0;34m.\u001b[0m\u001b[0mto_csv\u001b[0m\u001b[0;34m(\u001b[0m\u001b[0;34mf\"{savePath}/{freq_band}_elec_stats.csv\"\u001b[0m\u001b[0;34m)\u001b[0m\u001b[0;34m\u001b[0m\u001b[0;34m\u001b[0m\u001b[0m\n\u001b[0m",
      "\u001b[0;31mNameError\u001b[0m: name 'savePath' is not defined"
     ]
    }
   ],
   "source": [
    "elec_stats = pd.DataFrame({'electrode_label': electrode_label, 'pval_t_test': electrode_p_value_ttest, 'pval_wilcox': electrode_p_value_wilcox, \n",
    "                  'electrode_trial_count': electrode_trial_count})\n",
    "elec_stats.to_csv(f\"{savePath}/{freq_band}_elec_stats.csv\")"
   ]
  },
  {
   "cell_type": "code",
   "execution_count": null,
   "id": "ef215b81-6de2-4a12-8d49-a1a12ed79b63",
   "metadata": {},
   "outputs": [],
   "source": []
  }
 ],
 "metadata": {
  "kernelspec": {
   "display_name": "env3",
   "language": "python",
   "name": "env3"
  },
  "language_info": {
   "codemirror_mode": {
    "name": "ipython",
    "version": 3
   },
   "file_extension": ".py",
   "mimetype": "text/x-python",
   "name": "python",
   "nbconvert_exporter": "python",
   "pygments_lexer": "ipython3",
   "version": "3.7.5"
  }
 },
 "nbformat": 4,
 "nbformat_minor": 5
}
