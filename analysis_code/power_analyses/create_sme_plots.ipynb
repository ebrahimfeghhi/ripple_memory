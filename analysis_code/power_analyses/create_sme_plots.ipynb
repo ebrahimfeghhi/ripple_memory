{
 "cells": [
  {
   "cell_type": "code",
   "execution_count": 2,
   "id": "145b4bb7-a949-47aa-b777-9f38836948ab",
   "metadata": {},
   "outputs": [
    {
     "name": "stdout",
     "output_type": "stream",
     "text": [
      "The autoreload extension is already loaded. To reload it, use:\n",
      "  %reload_ext autoreload\n"
     ]
    }
   ],
   "source": [
    "%load_ext autoreload\n",
    "%autoreload 2\n",
    "import numpy as np\n",
    "import sys \n",
    "base = '/home1/efeghhi/'\n",
    "sys.path.append(f'{base}ripple_memory/analysis_code/')\n",
    "from load_data import *\n",
    "from analyze_data import *\n",
    "sys.path.append(f'{base}ripple_memory/analysis_code/pac_analyses/')\n",
    "from load_data_numpy import load_data_np\n",
    "from comodulogram import remove_session_string, get_filtered_signal\n",
    "\n",
    "import statsmodels.formula.api as smf\n",
    "import matplotlib.pyplot as plt\n",
    "import seaborn as sns\n",
    "from scipy.signal import decimate, resample\n",
    "\n",
    "from mne.time_frequency import tfr_array_morlet\n",
    "from scipy.signal import hilbert\n",
    "sys.path.append('/home1/efeghhi/ripple_memory/')\n",
    "from SWRmodule import triangleSmooth"
   ]
  },
  {
   "cell_type": "code",
   "execution_count": 3,
   "id": "464f4649-5b2c-4d9d-ab88-52cb14e66b54",
   "metadata": {},
   "outputs": [],
   "source": [
    "savePath = f'{base}ripple_memory/analysis_code/pac_analyses/saved_results/power_figures'"
   ]
  },
  {
   "cell_type": "code",
   "execution_count": null,
   "id": "18132582-02de-4ed7-ab28-da803325eba2",
   "metadata": {},
   "outputs": [],
   "source": [
    "# now let's see which electrodes display a rise in power \n",
    "from scipy.stats import ttest_rel \n",
    "from scipy.stats import wilcoxon\n",
    "       \n",
    "encoding_mode = 1\n",
    "fs = 500\n",
    "\n",
    "region_name = ['HPC']\n",
    "subregion = ['ca1']\n",
    "\n",
    "freq_band = 'both'\n",
    "if freq_band == 'medium_gamma':\n",
    "    freq_range = [[80,120]]\n",
    "if freq_band == 'low_theta':\n",
    "    freq_range = [[2,4]]\n",
    "if freq_band == 'both':\n",
    "    freq_range = [[2,4], [80,120]]\n",
    "    \n",
    "# load data\n",
    "dd_trials = load_data_np(encoding_mode, region_name=region_name, subregion=subregion)\n",
    "\n",
    "raw_data = dd_trials['raw']\n",
    "subj_elec_sess_labels = dd_trials['elec_labels'] \n",
    "subj_elec_unique, counts_se = np.unique(subj_elec_sess_labels, return_counts=True)\n",
    "\n",
    "if encoding_mode:\n",
    "\n",
    "    # each trial consists of 5 sec of raw data, which starts\n",
    "    # 1.7 before word onset and ends 3.3 sec after word onset \n",
    "    # the data is sampled at 500 Hz\n",
    "    start_time = -700\n",
    "    end_time = 2300\n",
    "    \n",
    "    start_cutoff = 500\n",
    "    end_cutoff = 2000\n",
    "    \n",
    "else:\n",
    "       \n",
    "    # relative to word vocalization, in ms\n",
    "    start_roi = -1100\n",
    "    end_roi = -100\n",
    "\n",
    "    # for recall, \n",
    "    # each trial consists of 6 sec of data, centered around word recall \n",
    "    start_time = -2000\n",
    "    end_time = 2000\n",
    "    \n",
    "    start_cutoff = 500\n",
    "    end_cutoff = 2500\n",
    "    "
   ]
  }
 ],
 "metadata": {
  "kernelspec": {
   "display_name": "env3",
   "language": "python",
   "name": "env3"
  },
  "language_info": {
   "codemirror_mode": {
    "name": "ipython",
    "version": 3
   },
   "file_extension": ".py",
   "mimetype": "text/x-python",
   "name": "python",
   "nbconvert_exporter": "python",
   "pygments_lexer": "ipython3",
   "version": "3.7.5"
  }
 },
 "nbformat": 4,
 "nbformat_minor": 5
}
