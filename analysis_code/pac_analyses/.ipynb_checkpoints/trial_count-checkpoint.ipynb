{
 "cells": [
  {
   "cell_type": "code",
   "execution_count": 1,
   "id": "bfe46099-094b-4969-ac2a-fe282d9beea2",
   "metadata": {},
   "outputs": [
    {
     "name": "stderr",
     "output_type": "stream",
     "text": [
      "/home1/efeghhi/.conda/envs/env3/lib/python3.7/site-packages/ptsa/data/timeseries.py:526: FutureWarning: xarray subclass TimeSeriesX should explicitly define __slots__\n",
      "  class TimeSeriesX(TimeSeries):\n",
      "/home1/efeghhi/.conda/envs/env3/lib/python3.7/site-packages/statsmodels/tools/_testing.py:19: FutureWarning: pandas.util.testing is deprecated. Use the functions in the public API at pandas.testing instead.\n",
      "  import pandas.util.testing as tm\n"
     ]
    },
    {
     "name": "stdout",
     "output_type": "stream",
     "text": [
      "Loading data\n",
      "Number of trials in ca1: 55356\n",
      "order: C\n",
      "1000 1500\n"
     ]
    }
   ],
   "source": [
    "import numpy as np\n",
    "import sys \n",
    "sys.path.append('/home1/efeghhi/ripple_memory/analysis_code/')\n",
    "from load_data import *\n",
    "from analyze_data import *\n",
    "import statsmodels.formula.api as smf\n",
    "import matplotlib.pyplot as plt\n",
    "import seaborn as sns\n",
    "from scipy.signal import decimate, resample\n",
    "\n",
    "from comodulogram import save_MI_amplitude, remove_session_string\n",
    "import numpy as np\n",
    "from load_data_numpy import load_data_np\n",
    "\n",
    "\n",
    "run_mode = 1\n",
    "\n",
    "if run_mode == 1:\n",
    "    encoding_mode = 1\n",
    "    saveName = 'encoding_'\n",
    "    \n",
    "if run_mode == 2:\n",
    "    encoding_mode = 0\n",
    "    saveName = 'recall_'\n",
    "    \n",
    "dd_trials = load_data_np(encoding_mode)\n",
    "\n",
    "if encoding_mode:\n",
    "    # relative to word onset \n",
    "    start_roi = 300\n",
    "    end_roi = 1300\n",
    "    \n",
    "    # each trial consists of 5 sec of raw data, which starts\n",
    "    # 1.7 before word onset and ends 3.3 sec after word onset \n",
    "    # the data is sampled at 500 Hz\n",
    "    start_time = -1700\n",
    "    end_time = 3300\n",
    "\n",
    "else:\n",
    "    \n",
    "    start_roi = -1100\n",
    "    end_roi = -100\n",
    "    \n",
    "    # for recall, \n",
    "    # each trial consists of 6 sec of data, centered around word recall \n",
    "    start_time = -3000\n",
    "    end_time = 3000\n",
    "    \n",
    "sr_factor = 2\n",
    "\n",
    "# convert to indices based on start time and sampling rate factor\n",
    "start_idx = int((start_roi - start_time)/sr_factor)\n",
    "end_idx = int((end_roi-start_time)/sr_factor)\n",
    "\n",
    "print(start_idx, end_idx)\n",
    "\n",
    "raw_data = dd_trials['raw']\n",
    "clust = dd_trials['clust_int']\n",
    "correct = dd_trials['correct']\n",
    "\n",
    "nonclust_idxs = np.argwhere(clust==0)\n",
    "clust_idxs = np.argwhere(clust==1)\n",
    "incorrect_idxs = np.argwhere(correct==0)\n",
    "\n",
    "subj_elec_labels = np.array([remove_session_string(x) for x in dd_trials['elec_labels']])\n",
    "\n",
    "subj_elec_clust_idxs = subj_elec_labels[clust_idxs].squeeze()\n",
    "subj_elec_nonclust_idxs = subj_elec_labels[nonclust_idxs].squeeze()\n",
    "subj_elec_incorrect_idxs = subj_elec_labels[incorrect_idxs].squeeze()\n"
   ]
  },
  {
   "cell_type": "code",
   "execution_count": 43,
   "id": "59f62915-27d7-4a9d-8aa0-b74a6c3f2acc",
   "metadata": {},
   "outputs": [],
   "source": [
    "se_clust, clust_counts = np.unique(subj_elec_clust_idxs, return_counts=True)\n",
    "se_non_clust, non_clust_counts = np.unique(subj_elec_nonclust_idxs, return_counts=True)\n",
    "se_incorrect, incorrect_counts = np.unique(subj_elec_incorrect_idxs, return_counts=True)\n",
    "se_all = np.intersect1d(np.intersect1d(se_clust, se_non_clust), se_incorrect)\n",
    "\n",
    "subj_elec_min_trials_condition = {}\n",
    "\n",
    "for s in se_all:\n",
    "    \n",
    "    clust_count = np.argwhere(subj_elec_clust_idxs==s).shape[0]\n",
    "    nonclust_count = np.argwhere(subj_elec_nonclust_idxs==s).shape[0]\n",
    "    incorrect_count = np.argwhere(subj_elec_incorrect_idxs==s).shape[0]\n",
    "    \n",
    "    subj_elec_min_trials_condition[s] = np.min([clust_count,nonclust_count,incorrect_count])"
   ]
  },
  {
   "cell_type": "code",
   "execution_count": 47,
   "id": "6cdaf141-6f4d-4561-a3e9-cca63b495b47",
   "metadata": {},
   "outputs": [
    {
     "data": {
      "text/plain": [
       "{'R1065J_LE2-LE3': 267,\n",
       " 'R1065J_LS1-LS2': 267,\n",
       " 'R1065J_LS11-LS12': 267,\n",
       " 'R1065J_LS12-LS13': 267,\n",
       " 'R1065J_LS3-LS4': 267,\n",
       " 'R1065J_LS4-LS5': 267,\n",
       " 'R1065J_LS5-LS6': 267,\n",
       " 'R1065J_LS6-LS7': 267,\n",
       " 'R1065J_LS7-LS8': 267,\n",
       " 'R1105E_RORBFD1-RORBFD2': 52,\n",
       " 'R1108J_RU1-RU2': 220,\n",
       " 'R1108J_RU3-RU4': 220,\n",
       " 'R1108J_RU4-RU5': 220,\n",
       " 'R1108J_RU5-RU6': 220,\n",
       " 'R1108J_RU6-RU7': 220,\n",
       " 'R1108J_RU8-RU9': 220,\n",
       " 'R1112M_RAD3-RAD4': 16,\n",
       " 'R1131M_RA1-RA2': 35,\n",
       " 'R1131M_RA2-RA3': 35,\n",
       " 'R1131M_RA3-RA4': 35,\n",
       " 'R1138T_LB2-LB3': 17,\n",
       " 'R1138T_LB3-LB4': 17,\n",
       " 'R1144E_LAHD3-LAHD4': 134,\n",
       " 'R1144E_LAHD4-LAHD5': 134,\n",
       " 'R1144E_LAMYD3-LAMYD4': 134,\n",
       " 'R1144E_LAMYD6-LAMYD7': 134,\n",
       " 'R1144E_LAMYD8-LAMYD9': 134,\n",
       " 'R1144E_LAMYD9-LAMYD10': 134,\n",
       " 'R1157C_OF1-OF2': 83,\n",
       " 'R1157C_OF2-OF3': 83,\n",
       " 'R1157C_OF3-OF4': 83,\n",
       " 'R1158T_RB2-RB3': 10,\n",
       " 'R1158T_RB5-RB6': 10,\n",
       " 'R1158T_RB6-RB7': 10,\n",
       " 'R1158T_RB7-RB8': 10,\n",
       " 'R1167M_LAI2-LAI3': 37,\n",
       " 'R1171M_RO1-RO2': 17,\n",
       " 'R1171M_RO3-RO4': 17,\n",
       " 'R1171M_RO4-RO5': 17,\n",
       " 'R1174T_LX2-LX3': 39,\n",
       " 'R1174T_LX5-LX6': 39,\n",
       " 'R1174T_LX8-LX9': 39,\n",
       " 'R1176M_RC1-RC2': 44,\n",
       " 'R1188C_TP3-TP4': 59,\n",
       " 'R1204T_RX1-RX2': 60,\n",
       " 'R1204T_RX2-RX3': 60,\n",
       " 'R1204T_RX3-RX5': 60,\n",
       " 'R1207J_LT2-LT3': 56,\n",
       " 'R1217T_RZ4-RZ5': 51,\n",
       " 'R1226D_LTG1-LTG9': 42,\n",
       " 'R1226D_LTG2-LTG10': 42,\n",
       " 'R1227T_LX2-LX5': 4,\n",
       " 'R1227T_LX5-LX6': 4,\n",
       " 'R1227T_LX6-LX7': 4,\n",
       " 'R1230J_LR1-LR2': 25,\n",
       " 'R1230J_LR2-LR3': 25,\n",
       " 'R1230J_LR3-LR4': 25,\n",
       " 'R1236J_RC1-RC2': 148,\n",
       " 'R1236J_RC4-RC5': 148,\n",
       " 'R1239E_1LD1-1LD2': 22,\n",
       " 'R1239E_1LD2-1LD3': 22,\n",
       " 'R1239E_1LD3-1LD4': 22,\n",
       " 'R1239E_1LD4-1LD5': 22,\n",
       " 'R1239E_1LD5-1LD6': 22,\n",
       " 'R1239E_1LD6-1LD7': 22,\n",
       " 'R1239E_1LD9-1LD10': 22,\n",
       " 'R1243T_LX2-LX3': 88,\n",
       " 'R1243T_LX3-LX4': 88,\n",
       " 'R1245E_1LD1-1LD2': 37,\n",
       " 'R1245E_1LD3-1LD4': 37,\n",
       " 'R1260D_LTPG1-LTPG2': 7,\n",
       " 'R1260D_LTPG2-LTPG10': 7,\n",
       " 'R1269E_2RD3-2RD4': 34,\n",
       " 'R1269E_2RD5-2RD6': 34,\n",
       " 'R1278E_1LD5-1LD6': 28,\n",
       " 'R1278E_3LD2-3LD3': 28,\n",
       " 'R1278E_3LD3-3LD4': 28,\n",
       " 'R1293P_LA3-LA4': 44,\n",
       " 'R1310J_RD2-RD3': 54,\n",
       " 'R1310J_RD3-RD4': 54,\n",
       " 'R1310J_RD4-RD5': 54,\n",
       " 'R1310J_RD7-RD8': 54,\n",
       " 'R1310J_RD8-RD9': 54,\n",
       " 'R1313J_ROF1-ROF2': 31,\n",
       " 'R1313J_ROF2-ROF3': 31,\n",
       " 'R1315T_RC1-RC2': 17,\n",
       " 'R1315T_RC2-RC3': 17,\n",
       " 'R1315T_RC4-RC6': 17,\n",
       " 'R1315T_RC7-RC8': 17,\n",
       " 'R1315T_RC8-RC9': 17,\n",
       " 'R1330D_RAD1-RAD2': 76,\n",
       " 'R1330D_RAD2-RAD3': 76,\n",
       " 'R1330D_RAD3-RAD4': 76,\n",
       " 'R1332M_LA3-LA4': 146,\n",
       " 'R1332M_LA6-LA7': 146,\n",
       " 'R1332M_LA9-LA10': 146,\n",
       " 'R1334T_LB4-LB5': 29,\n",
       " 'R1334T_LB5-LB6': 29,\n",
       " 'R1334T_LB6-LB7': 29,\n",
       " 'R1334T_LB8-LB9': 29,\n",
       " 'R1338T_RM1-RM2': 12,\n",
       " 'R1338T_RM3-RM4': 12,\n",
       " 'R1343J_LJ1-LJ2': 9,\n",
       " 'R1343J_LJ2-LJ3': 9,\n",
       " 'R1343J_LJ4-LJ5': 9,\n",
       " 'R1343J_LJ5-LJ6': 9,\n",
       " 'R1348J_LOA3-LOA4': 11,\n",
       " 'R1354E_1Ld1-1Ld2': 107,\n",
       " 'R1366J_RF1-RF2': 6,\n",
       " 'R1366J_RF2-RF3': 6,\n",
       " 'R1366J_RF3-RF9': 6,\n",
       " 'R1367D_LOFD1-LOFD2': 13,\n",
       " 'R1367D_LOFD11-LOFD12': 13,\n",
       " 'R1367D_LOFD12-LOFD13': 13,\n",
       " 'R1367D_LOFD4-LOFD5': 13,\n",
       " 'R1368T_RB1-RB2': 3,\n",
       " 'R1368T_RB3-RB8': 3,\n",
       " 'R1374T_LM3-LM4': 11,\n",
       " 'R1374T_LM5-LM6': 11}"
      ]
     },
     "execution_count": 47,
     "metadata": {},
     "output_type": "execute_result"
    }
   ],
   "source": [
    "subj_elec_min_trials_condition"
   ]
  },
  {
   "cell_type": "code",
   "execution_count": 46,
   "id": "eae567a5-68e4-4497-8a4b-1cf6a7ec0fc0",
   "metadata": {},
   "outputs": [],
   "source": [
    "np.savez('subj_elec_min_trials_condition', **{subj_elec_min_trials_condition})"
   ]
  },
  {
   "cell_type": "code",
   "execution_count": 24,
   "id": "6308fecd-58ab-40b1-aeae-2de3e29788ff",
   "metadata": {},
   "outputs": [
    {
     "data": {
      "image/png": "[encoded data removed]",
      "text/plain": [
       "<Figure size 432x288 with 1 Axes>"
      ]
     },
     "metadata": {
      "needs_background": "light"
     },
     "output_type": "display_data"
    },
    {
     "data": {
      "image/png": "[encoded data removed]",
      "text/plain": [
       "<Figure size 432x288 with 1 Axes>"
      ]
     },
     "metadata": {
      "needs_background": "light"
     },
     "output_type": "display_data"
    },
    {
     "data": {
      "image/png": "[encoded data removed]",
      "text/plain": [
       "<Figure size 432x288 with 1 Axes>"
      ]
     },
     "metadata": {
      "needs_background": "light"
     },
     "output_type": "display_data"
    }
   ],
   "source": [
    "plt.hist(clust_counts, bins=np.arange(0,500,10), width=5)\n",
    "plt.ylabel(\"Num electrodes\")\n",
    "plt.xlabel(\"Num trials\")\n",
    "plt.show()\n",
    "plt.hist(non_clust_counts, bins=np.arange(0,500,10), width=5)\n",
    "plt.show()\n",
    "plt.hist(incorrect_counts, bins=np.arange(0,500,10), width=5)\n",
    "plt.show()"
   ]
  },
  {
   "cell_type": "code",
   "execution_count": null,
   "id": "c3bf89c3-93a5-41ad-9443-ad4e2899e845",
   "metadata": {},
   "outputs": [],
   "source": []
  }
 ],
 "metadata": {
  "kernelspec": {
   "display_name": "env3",
   "language": "python",
   "name": "env3"
  },
  "language_info": {
   "codemirror_mode": {
    "name": "ipython",
    "version": 3
   },
   "file_extension": ".py",
   "mimetype": "text/x-python",
   "name": "python",
   "nbconvert_exporter": "python",
   "pygments_lexer": "ipython3",
   "version": "3.7.5"
  }
 },
 "nbformat": 4,
 "nbformat_minor": 5
}
