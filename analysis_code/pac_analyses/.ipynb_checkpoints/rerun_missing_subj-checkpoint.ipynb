{
 "cells": [
  {
   "cell_type": "code",
   "execution_count": 1,
   "id": "ac8ca6fb-6188-4b7b-8386-3d419a99cc0b",
   "metadata": {},
   "outputs": [
    {
     "name": "stderr",
     "output_type": "stream",
     "text": [
      "/home1/efeghhi/.conda/envs/env3/lib/python3.7/site-packages/ptsa/data/timeseries.py:526: FutureWarning: xarray subclass TimeSeriesX should explicitly define __slots__\n",
      "  class TimeSeriesX(TimeSeries):\n",
      "/home1/efeghhi/.conda/envs/env3/lib/python3.7/site-packages/statsmodels/tools/_testing.py:19: FutureWarning: pandas.util.testing is deprecated. Use the functions in the public API at pandas.testing instead.\n",
      "  import pandas.util.testing as tm\n"
     ]
    }
   ],
   "source": [
    "import numpy as np \n",
    "\n",
    "import sys \n",
    "sys.path.append('/home1/efeghhi/ripple_memory/analysis_code/')\n",
    "from load_data import *\n",
    "from analyze_data import *\n",
    "import statsmodels.formula.api as smf\n",
    "\n",
    "import matplotlib.pyplot as plt"
   ]
  },
  {
   "cell_type": "code",
   "execution_count": 2,
   "id": "3742d184-5ccf-4bf9-8b9a-ea7b8a1df48b",
   "metadata": {},
   "outputs": [],
   "source": [
    "from theta_gamma_PAC import load_pac_pd"
   ]
  },
  {
   "cell_type": "code",
   "execution_count": 4,
   "id": "c90ce769-db90-4212-b3e0-a1155397433e",
   "metadata": {},
   "outputs": [
    {
     "name": "stdout",
     "output_type": "stream",
     "text": [
      "Loading data\n",
      "Number of trials in ca1: 10824\n",
      "order: C\n"
     ]
    }
   ],
   "source": [
    "_, _, _, unique_subjects_recall = load_pac_pd(0)"
   ]
  },
  {
   "cell_type": "code",
   "execution_count": null,
   "id": "46eb24ae-7098-4976-8547-cd1e3e564f92",
   "metadata": {},
   "outputs": [],
   "source": [
    "_, _, _, unique_subjects_encoding = load_pac_pd(1)"
   ]
  }
 ],
 "metadata": {
  "kernelspec": {
   "display_name": "env3",
   "language": "python",
   "name": "env3"
  },
  "language_info": {
   "codemirror_mode": {
    "name": "ipython",
    "version": 3
   },
   "file_extension": ".py",
   "mimetype": "text/x-python",
   "name": "python",
   "nbconvert_exporter": "python",
   "pygments_lexer": "ipython3",
   "version": "3.7.5"
  }
 },
 "nbformat": 4,
 "nbformat_minor": 5
}
