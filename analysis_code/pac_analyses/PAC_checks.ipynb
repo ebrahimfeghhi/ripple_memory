{
 "cells": [
  {
   "cell_type": "code",
   "execution_count": 8,
   "id": "b69a4a13-dbcd-4fe2-a198-d50bed452257",
   "metadata": {},
   "outputs": [],
   "source": [
    "import numpy as np\n",
    "import sys \n",
    "sys.path.append('/home1/efeghhi/ripple_memory/analysis_code/')\n",
    "from load_data import *\n",
    "from analyze_data import *\n",
    "sys.path.append('/home1/efeghhi/ripple_memory/analysis_code/pac_analyses/')\n",
    "from load_data_numpy import load_data_np\n",
    "from comodulogram import remove_session_string, get_filtered_signal\n",
    "\n",
    "import statsmodels.formula.api as smf\n",
    "import matplotlib.pyplot as plt\n",
    "import seaborn as sns\n",
    "from scipy.signal import decimate, resample\n",
    "\n",
    "from mne.time_frequency import tfr_array_morlet\n",
    "from scipy.signal import hilbert\n",
    "from scipy.signal import welch\n",
    "from scipy.signal import spectrogram"
   ]
  },
  {
   "cell_type": "code",
   "execution_count": 9,
   "id": "db78e777-e0be-4b91-9751-b9d87450e7c8",
   "metadata": {},
   "outputs": [
    {
     "name": "stdout",
     "output_type": "stream",
     "text": [
      "Loading data\n",
      "Number of trials in ca1: 55356\n",
      "order: C\n",
      "1000 1500\n"
     ]
    }
   ],
   "source": [
    "run_mode = 1\n",
    "\n",
    "if run_mode == 1:\n",
    "    encoding_mode = 1\n",
    "    saveName = 'encoding_'\n",
    "    \n",
    "if run_mode == 2:\n",
    "    encoding_mode = 0\n",
    "    saveName = 'recall_'\n",
    "    \n",
    "dd_trials = load_data_np(encoding_mode)\n",
    "\n",
    "# relative to word onset \n",
    "start_roi = 300\n",
    "end_roi = 1300\n",
    "# each trial consists of 5 sec of raw data, which starts\n",
    "# 1.7 before word onset and ends 3.3 sec after word onset \n",
    "# the data is sampled at 500 Hz\n",
    "start_time = -1700\n",
    "end_time = 3300\n",
    "\n",
    "sr_factor = 2\n",
    "\n",
    "# convert to indices based on start time and sampling rate factor\n",
    "start_idx = int((start_roi - start_time)/sr_factor)\n",
    "end_idx = int((end_roi-start_time)/sr_factor)\n",
    "\n",
    "print(start_idx, end_idx)\n",
    "\n",
    "raw_data = dd_trials['raw']\n",
    "\n",
    "\n",
    "subj_elec_labels = np.array([remove_session_string(x) for x in dd_trials['elec_labels']])\n"
   ]
  },
  {
   "cell_type": "code",
   "execution_count": 10,
   "id": "87bb348c-2faa-4ba9-a489-b5272f00fcc2",
   "metadata": {},
   "outputs": [
    {
     "data": {
      "text/plain": [
       "(55356, 2500)"
      ]
     },
     "execution_count": 10,
     "metadata": {},
     "output_type": "execute_result"
    }
   ],
   "source": [
    "raw_data.shape"
   ]
  },
  {
   "cell_type": "code",
   "execution_count": 3,
   "id": "7d63a8a1-1bc3-41f7-aa52-468f44cc0631",
   "metadata": {},
   "outputs": [],
   "source": [
    "clust_idxs = np.argwhere(dd_trials['clust_int']==1).squeeze()"
   ]
  },
  {
   "cell_type": "code",
   "execution_count": 5,
   "id": "525bb2eb-775c-4c6b-b900-91db6156d6c2",
   "metadata": {},
   "outputs": [],
   "source": [
    "unq, counts = np.unique(subj_elec_labels, return_counts=True)"
   ]
  },
  {
   "cell_type": "code",
   "execution_count": 7,
   "id": "5956365d-8f38-4a4e-b887-f44105cd3d73",
   "metadata": {},
   "outputs": [],
   "source": [
    "sub_elecs = np.unique(subj_elec_labels)\n",
    "i = 1\n",
    "se_idxs = np.argwhere(subj_elec_labels == sub_elecs[i]).squeeze()\n",
    "clust_se_idxs = np.intersect1d(se_idxs, clust_idxs)\n",
    "raw_data_se = raw_data[se_idxs]\n",
    "window_len = raw_data_se.shape[1]\n",
    "raw_data_se_roi = raw_data_se[:, 500:-500].squeeze()"
   ]
  },
  {
   "cell_type": "code",
   "execution_count": null,
   "id": "a2794e2b-5a8c-4a2d-9395-f70b6ce52c61",
   "metadata": {},
   "outputs": [],
   "source": []
  }
 ],
 "metadata": {
  "kernelspec": {
   "display_name": "env3",
   "language": "python",
   "name": "env3"
  },
  "language_info": {
   "codemirror_mode": {
    "name": "ipython",
    "version": 3
   },
   "file_extension": ".py",
   "mimetype": "text/x-python",
   "name": "python",
   "nbconvert_exporter": "python",
   "pygments_lexer": "ipython3",
   "version": "3.7.5"
  }
 },
 "nbformat": 4,
 "nbformat_minor": 5
}
