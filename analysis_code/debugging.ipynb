{
 "cells": [
  {
   "cell_type": "code",
   "execution_count": 16,
   "id": "f3c3028c-90be-4d09-98d4-6c3cdb570368",
   "metadata": {},
   "outputs": [],
   "source": [
    "import numpy as np\n",
    "\n",
    "import sys \n",
    "sys.path.append('/home1/efeghhi/ripple_memory/analysis_code/')\n",
    "from load_data import *\n",
    "from analyze_data import *\n",
    "import statsmodels.formula.api as smf\n",
    "\n",
    "import matplotlib.pyplot as plt\n",
    "import seaborn as sns\n",
    "\n",
    "from scipy.signal import decimate\n",
    "\n",
    "from mne.time_frequency import tfr_array_morlet\n",
    "from scipy.signal import hilbert"
   ]
  },
  {
   "cell_type": "code",
   "execution_count": 17,
   "id": "e8dead02-cdb4-4aad-91e8-5219de273275",
   "metadata": {},
   "outputs": [],
   "source": [
    "def load_data_np(encoding_mode):\n",
    "    \n",
    "    print(\"Loading data\")\n",
    "    \n",
    "    region_name = ['HPC']\n",
    "\n",
    "    condition_on_ca1_ripples = False\n",
    "    \n",
    "    if encoding_mode: \n",
    "        catFR_dir = '/scratch/efeghhi/catFR1/ENCODING/'\n",
    "    else:\n",
    "        catFR_dir = '/scratch/efeghhi/catFR1/IRIonly/'\n",
    "        \n",
    "    data_dict = load_data(directory=catFR_dir, region_name=region_name, encoding_mode=encoding_mode)\n",
    "\n",
    "    if encoding_mode: \n",
    "        data_dict = remove_wrong_length_lists(data_dict)\n",
    "        \n",
    "    # ca1\n",
    "    ca1_elecs = [x for x in HPC_labels if 'ca1' in x]\n",
    "    data_dict_ca1 = select_region(data_dict, ca1_elecs)\n",
    "    count_num_trials(data_dict_ca1, \"ca1\")\n",
    "\n",
    "    data_dict_region = data_dict_ca1\n",
    "    \n",
    "    # create clustered int array\n",
    "    clustered_int = create_semantic_clustered_array(data_dict_region, encoding_mode)\n",
    "    data_dict_region['clust_int'] = clustered_int\n",
    "\n",
    "    dd_trials = dict_to_numpy(data_dict_region, order='C')\n",
    "    \n",
    "    return dd_trials"
   ]
  },
  {
   "cell_type": "code",
   "execution_count": 18,
   "id": "cb5e90c1-3b0c-49a7-b7e5-f1dda6922d11",
   "metadata": {},
   "outputs": [],
   "source": [
    "dd_trials_recalled = dict(np.load('/home1/efeghhi/ripple_memory/analysis_code/pac_analyses/updated_data/dd_trials_recall.npz'))"
   ]
  },
  {
   "cell_type": "code",
   "execution_count": 19,
   "id": "b2e2f641-229b-4e55-8a1d-8716f25d55e5",
   "metadata": {},
   "outputs": [],
   "source": [
    "dd_trials_encoding = dict(np.load('/home1/efeghhi/ripple_memory/analysis_code/pac_analyses/updated_data/dd_trials_encoding.npz'))"
   ]
  },
  {
   "cell_type": "code",
   "execution_count": 32,
   "id": "4bde9307-06c7-4625-b920-0801bd70e872",
   "metadata": {},
   "outputs": [
    {
     "name": "stdout",
     "output_type": "stream",
     "text": [
      "SUBJ:  R1065J\n",
      "\n",
      "\n",
      "NOT IN RECALL:  ['R1065J-1_LE2-LE3' 'R1065J-1_LS1-LS2' 'R1065J-1_LS11-LS12'\n",
      " 'R1065J-1_LS12-LS13' 'R1065J-1_LS3-LS4' 'R1065J-1_LS4-LS5'\n",
      " 'R1065J-1_LS5-LS6' 'R1065J-1_LS6-LS7' 'R1065J-1_LS7-LS8']\n",
      "NOT IN ENCODING:  []\n",
      "\n",
      "\n",
      "SUBJ:  R1243T\n",
      "\n",
      "\n",
      "NOT IN RECALL:  ['R1243T-2_LX2-LX3' 'R1243T-2_LX3-LX4']\n",
      "NOT IN ENCODING:  []\n",
      "\n",
      "\n",
      "SUBJ:  R1354E\n",
      "\n",
      "\n",
      "NOT IN RECALL:  ['R1354E-2_1Ld1-1Ld2']\n",
      "NOT IN ENCODING:  ['R1354E-0_1Ld1-1Ld2']\n",
      "\n",
      "\n",
      "SUBJ:  R1374T\n",
      "\n",
      "\n",
      "NOT IN RECALL:  ['R1374T-1_LM3-LM4' 'R1374T-1_LM5-LM6']\n",
      "NOT IN ENCODING:  []\n",
      "\n",
      "\n"
     ]
    }
   ],
   "source": [
    "num_diff = 0\n",
    "for subj in np.unique(dd_trials_recalled['subj']):\n",
    "    \n",
    "    encoding_subj_idxs = np.argwhere(dd_trials_encoding['subj']==subj)\n",
    "    recall_subj_idxs = np.argwhere(dd_trials_recalled['subj']==subj)\n",
    "    \n",
    "    enc_elecs = np.unique(dd_trials_encoding['elec_labels'][encoding_subj_idxs])\n",
    "    rec_elecs = np.unique(dd_trials_recalled['elec_labels'][recall_subj_idxs])\n",
    "    \n",
    "    if not np.array_equal(enc_elecs, rec_elecs):\n",
    "        print(\"SUBJ: \", subj)\n",
    "        print(\"\\n\")\n",
    "        print(\"NOT IN RECALL: \", np.setdiff1d(enc_elecs, rec_elecs))\n",
    "        print(\"NOT IN ENCODING: \", np.setdiff1d(rec_elecs, enc_elecs))\n",
    "        num_diff += 1\n",
    "        print(\"\\n\")\n",
    "        "
   ]
  },
  {
   "cell_type": "code",
   "execution_count": 17,
   "id": "86583560-f3ae-492d-9e66-1b5ac554de2d",
   "metadata": {},
   "outputs": [
    {
     "data": {
      "text/plain": [
       "(array([], dtype='<U24'), array([], dtype=int64))"
      ]
     },
     "execution_count": 17,
     "metadata": {},
     "output_type": "execute_result"
    }
   ],
   "source": [
    "np.unique(dd_trials_recalled['elec_labels'][recall_subj_idxs], return_counts=True)"
   ]
  },
  {
   "cell_type": "code",
   "execution_count": 18,
   "id": "4a4fca3d-f7ba-4d8c-ad60-57c4e55125c2",
   "metadata": {},
   "outputs": [
    {
     "name": "stdout",
     "output_type": "stream",
     "text": [
      "(array(['R1313J-0_ROF2-ROF3'], dtype='<U24'), array([78]))\n"
     ]
    }
   ],
   "source": [
    "encoding_correct_trials = np.argwhere(dd_trials_encoding['correct']==1)\n",
    "encoding_correct_subj_idxs = np.intersect1d(encoding_correct_trials, encoding_subj_idxs)\n",
    "electrode_labels_encoding = dd_trials_encoding['elec_labels'][encoding_correct_subj_idxs]\n",
    "print(np.unique(electrode_labels_encoding, return_counts=True))"
   ]
  },
  {
   "cell_type": "code",
   "execution_count": 19,
   "id": "37e10a78-e1a7-42d3-a808-b058ec974308",
   "metadata": {},
   "outputs": [
    {
     "name": "stdout",
     "output_type": "stream",
     "text": [
      "RECALL (array([], dtype='<U24'), array([], dtype=int64))\n",
      "ENCODING (array(['R1313J-0_ROF2-ROF3'], dtype='<U24'), array([40]))\n"
     ]
    }
   ],
   "source": [
    "recall_non_clust_trials = np.argwhere(dd_trials_recalled['clust_int']==0)\n",
    "encoding_non_clust_trials = np.argwhere(dd_trials_encoding['clust_int']==0)\n",
    "    \n",
    "recall_non_clust_subj_idxs = np.intersect1d(recall_non_clust_trials, recall_subj_idxs)\n",
    "encoding_non_clust_subj_idxs = np.intersect1d(encoding_non_clust_trials, encoding_subj_idxs)\n",
    "\n",
    "electrode_labels_recalled = dd_trials_recalled['elec_labels'][recall_non_clust_subj_idxs]\n",
    "electrode_labels_encoding = dd_trials_encoding['elec_labels'][encoding_non_clust_subj_idxs]\n",
    "\n",
    "print(\"RECALL\", np.unique(electrode_labels_recalled, return_counts=True))\n",
    "print(\"ENCODING\", np.unique(electrode_labels_encoding, return_counts=True))\n"
   ]
  },
  {
   "cell_type": "code",
   "execution_count": null,
   "id": "d80415f7-c7d7-43ea-9a0e-e524210ffdde",
   "metadata": {},
   "outputs": [],
   "source": []
  }
 ],
 "metadata": {
  "kernelspec": {
   "display_name": "env3",
   "language": "python",
   "name": "env3"
  },
  "language_info": {
   "codemirror_mode": {
    "name": "ipython",
    "version": 3
   },
   "file_extension": ".py",
   "mimetype": "text/x-python",
   "name": "python",
   "nbconvert_exporter": "python",
   "pygments_lexer": "ipython3",
   "version": "3.7.5"
  }
 },
 "nbformat": 4,
 "nbformat_minor": 5
}
