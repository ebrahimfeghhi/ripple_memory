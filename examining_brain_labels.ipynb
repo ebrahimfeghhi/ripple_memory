{
 "cells": [
  {
   "cell_type": "code",
   "execution_count": 2,
   "id": "c023383c-c9ae-41be-8724-e9e18cf2d203",
   "metadata": {},
   "outputs": [],
   "source": [
    "import pandas as pd; pd.set_option('display.max_columns', 30)\n",
    "import numpy as np\n",
    "from cmlreaders import CMLReader, get_data_index\n",
    "import ptsa\n",
    "import sys\n",
    "import os\n",
    "import matplotlib.pyplot as plt\n",
    "from pylab import *\n",
    "from copy import copy\n",
    "from scipy import stats\n",
    "plt.rcParams['pdf.fonttype'] = 42; plt.rcParams['ps.fonttype'] = 42 # fix fonts for Illustrator\n",
    "from SWRmodule import *\n",
    "import csv\n",
    "import os\n",
    "import dill, pickle\n",
    "import mne\n",
    "from copy import copy    \n",
    "from scipy.signal import firwin,filtfilt,kaiserord\n",
    "from ptsa.data.filters import ButterworthFilter, ResampleFilter, MorletWaveletFilter\n",
    "import xarray as xarray\n",
    "from brain_labels import HPC_labels, ENT_labels, PHC_labels, temporal_lobe_labels,\\\n",
    "                        MFG_labels, IFG_labels, nonHPC_MTL_labels, ENTPHC_labels, AMY_labels"
   ]
  },
  {
   "cell_type": "code",
   "execution_count": 26,
   "id": "4a39478d-b230-4896-b7a9-367f25ec1396",
   "metadata": {},
   "outputs": [
    {
     "data": {
      "text/plain": [
       "['left mfg middle frontal gyrus',\n",
       " ' left mfg middle frontal gyrus',\n",
       " 'right mfg middle frontal gyrus',\n",
       " ' right mfg middle frontal gyrus']"
      ]
     },
     "execution_count": 26,
     "metadata": {},
     "output_type": "execute_result"
    }
   ],
   "source": [
    "MFG_labels"
   ]
  },
  {
   "cell_type": "code",
   "execution_count": 3,
   "id": "a049b0f2-1c98-45b7-a454-73eb49873c4d",
   "metadata": {},
   "outputs": [],
   "source": [
    "from brain_labels import *"
   ]
  },
  {
   "cell_type": "code",
   "execution_count": 10,
   "id": "b482cfd6-1872-4efb-8d70-15a022902dd6",
   "metadata": {},
   "outputs": [
    {
     "data": {
      "text/plain": [
       "20"
      ]
     },
     "execution_count": 10,
     "metadata": {},
     "output_type": "execute_result"
    }
   ],
   "source": [
    "len(HPC_labels)"
   ]
  },
  {
   "cell_type": "code",
   "execution_count": 5,
   "id": "ae47b179-8d84-4191-a830-941955cc382b",
   "metadata": {},
   "outputs": [
    {
     "data": {
      "text/plain": [
       "['left ec',\n",
       " 'right ec',\n",
       " 'entorhinal',\n",
       " ' left ent entorhinal area',\n",
       " ' right ent entorhinal area',\n",
       " 'left ent entorhinal area',\n",
       " 'right ent entorhinal area',\n",
       " '\"erc\"',\n",
       " 'erc']"
      ]
     },
     "execution_count": 5,
     "metadata": {},
     "output_type": "execute_result"
    }
   ],
   "source": [
    "ENT_labels"
   ]
  },
  {
   "cell_type": "code",
   "execution_count": 6,
   "id": "2d860d8f-53d3-456f-93e4-505ae8946a1f",
   "metadata": {},
   "outputs": [
    {
     "data": {
      "text/plain": [
       "['left phc',\n",
       " 'right phc',\n",
       " 'parahippocampal',\n",
       " ' left phg parahippocampal gyrus',\n",
       " ' right phg parahippocampal gyrus',\n",
       " 'left phg parahippocampal gyrus',\n",
       " 'right phg parahippocampal gyrus',\n",
       " '\"phc\"',\n",
       " 'phc']"
      ]
     },
     "execution_count": 6,
     "metadata": {},
     "output_type": "execute_result"
    }
   ],
   "source": [
    "PHC_labels"
   ]
  },
  {
   "cell_type": "code",
   "execution_count": 25,
   "id": "4a30b0e5-8575-496d-888c-3821637ba0c1",
   "metadata": {},
   "outputs": [
    {
     "data": {
      "text/plain": [
       "(6,)"
      ]
     },
     "execution_count": 25,
     "metadata": {},
     "output_type": "execute_result"
    }
   ],
   "source": [
    "np.intersect1d(temporal_lobe_labels, AMY_labels).shape"
   ]
  },
  {
   "cell_type": "code",
   "execution_count": 24,
   "id": "65ddc103-684e-45cb-a390-f05f296b814e",
   "metadata": {},
   "outputs": [
    {
     "data": {
      "text/plain": [
       "6"
      ]
     },
     "execution_count": 24,
     "metadata": {},
     "output_type": "execute_result"
    }
   ],
   "source": [
    "len(AMY_labels)"
   ]
  },
  {
   "cell_type": "code",
   "execution_count": null,
   "id": "b13cd724-4cea-45ce-ad5e-94f11902ea05",
   "metadata": {},
   "outputs": [],
   "source": []
  }
 ],
 "metadata": {
  "kernelspec": {
   "display_name": "env3",
   "language": "python",
   "name": "env3"
  },
  "language_info": {
   "codemirror_mode": {
    "name": "ipython",
    "version": 3
   },
   "file_extension": ".py",
   "mimetype": "text/x-python",
   "name": "python",
   "nbconvert_exporter": "python",
   "pygments_lexer": "ipython3",
   "version": "3.7.5"
  }
 },
 "nbformat": 4,
 "nbformat_minor": 5
}
