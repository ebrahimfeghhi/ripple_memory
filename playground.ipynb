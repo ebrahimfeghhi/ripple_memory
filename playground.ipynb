{
 "cells": [
  {
   "cell_type": "code",
   "execution_count": 1,
   "metadata": {},
   "outputs": [
    {
     "name": "stderr",
     "output_type": "stream",
     "text": [
      "/home1/efeghhi/.conda/envs/env1/lib/python3.7/importlib/_bootstrap.py:219: RuntimeWarning: numpy.ufunc size changed, may indicate binary incompatibility. Expected 192 from C header, got 216 from PyObject\n",
      "  return f(*args, **kwds)\n",
      "/home1/efeghhi/.conda/envs/env1/lib/python3.7/importlib/_bootstrap.py:219: RuntimeWarning: numpy.ufunc size changed, may indicate binary incompatibility. Expected 192 from C header, got 216 from PyObject\n",
      "  return f(*args, **kwds)\n"
     ]
    }
   ],
   "source": [
    "import pandas as pd; pd.set_option('display.max_columns', 30); pd.set_option('display.max_rows', 100)\n",
    "import numpy as np\n",
    "from cmlreaders import CMLReader, get_data_index\n",
    "from ptsa.data.filters import ButterworthFilter, ResampleFilter, MorletWaveletFilter\n",
    "import xarray as xarray\n",
    "import sys\n",
    "import os\n",
    "import matplotlib.pyplot as plt\n",
    "from pylab import *\n",
    "from copy import copy\n",
    "from scipy import stats\n",
    "from scipy.stats import zscore\n",
    "import seaborn as sns       \n",
    "import pickle\n",
    "plt.rcParams['pdf.fonttype'] = 42; plt.rcParams['ps.fonttype'] = 42 # fix fonts for Illustrator\n",
    "sys.path.append('/home1/john/johnModules')\n",
    "from brain_labels import HPC_labels, ENT_labels, PHC_labels, temporal_lobe_labels,\\\n",
    "                         MFG_labels, IFG_labels, nonHPC_MTL_labels\n",
    "from general import *\n",
    "from SWRmodule import *\n",
    "import statsmodels.formula.api as smf\n",
    "from ripples_HFA_SCE import ripple_analysis_SCE\n"
   ]
  },
  {
   "cell_type": "code",
   "execution_count": 2,
   "metadata": {},
   "outputs": [
    {
     "name": "stdout",
     "output_type": "stream",
     "text": [
      "df <class 'pandas.core.frame.DataFrame'>\n"
     ]
    }
   ],
   "source": [
    "def convert_list_to_string(list1):\n",
    "    \n",
    "    list_str = ''\n",
    "    for i, val in enumerate(list1):\n",
    "        list_str += str(val)\n",
    "        if i + 1 < len(list1):\n",
    "            list_str += '_'\n",
    "            \n",
    "    return list_str\n",
    "\n",
    "# Set analysis mode, SME or SCE \n",
    "analyses_mode = 'SCE'\n",
    "\n",
    "# init variables\n",
    "sub_selection = 'first_half'\n",
    "df = get_data_index(\"r1\") # all RAM subjects\n",
    "print(f\"df {type(df)}\")\n",
    "exp = 'catFR1' # 'FR1' 'catFR1' 'RepFR1'\n",
    "region_name = 'HPC'\n",
    "regions_selected = ['ca1']\n",
    "hpc_regions = ['ca1']\n",
    "rs_str = ''\n",
    "num_regions = len(regions_selected)\n",
    "rs_str = convert_list_to_string(regions_selected)\n",
    "hpc_ripple_type = 'single_elec'\n",
    "select_subfield = True"
   ]
  },
  {
   "cell_type": "code",
   "execution_count": null,
   "metadata": {},
   "outputs": [],
   "source": [
    "data_folder = 'SWR_semantic_scratch'   \n",
    "ripple_bin_start_end = [100, 1700] \n",
    "ripple_str = convert_list_to_string(ripple_bin_start_end)\n",
    "ripple_delta = True\n",
    "HFA_delta = False\n",
    "select_subfield = True\n",
    "\n",
    "RS = ripple_analysis_SCE(exp=exp, df=df, sub_selection=sub_selection, data_folder=data_folder, hpc_ripple_type=hpc_ripple_type,\n",
    "                        select_subfield=select_subfield, hpc_regions=hpc_regions, regions_selected=regions_selected, \n",
    "                        ripple_bin_start_end=ripple_bin_start_end)\n",
    "\n",
    "RS.remove_subject_sessions()\n",
    "RS.load_data_from_cluster('encoding', region_name=region_name)\n",
    "RS.getStartArray()\n",
    "RS.select_idxs_numpy()\n",
    "RS.create_clustered_array()\n",
    "RS.mixed_effects_modeling(savebool=True)"
   ]
  }
 ],
 "metadata": {
  "kernelspec": {
   "display_name": "env1",
   "language": "python",
   "name": "python3"
  },
  "language_info": {
   "codemirror_mode": {
    "name": "ipython",
    "version": 3
   },
   "file_extension": ".py",
   "mimetype": "text/x-python",
   "name": "python",
   "nbconvert_exporter": "python",
   "pygments_lexer": "ipython3",
   "version": "3.7.5"
  },
  "orig_nbformat": 4
 },
 "nbformat": 4,
 "nbformat_minor": 2
}
