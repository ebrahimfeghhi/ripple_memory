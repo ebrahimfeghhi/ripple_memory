{
 "cells": [
  {
   "cell_type": "code",
   "execution_count": 2,
   "metadata": {},
   "outputs": [
    {
     "name": "stdout",
     "output_type": "stream",
     "text": [
      "Partial Correlation between X and Y controlling for Z (X->Y): -0.03273539318522562\n",
      "Partial Correlation between X and Y controlling for Z (Y->X): -0.03273539318522562\n"
     ]
    }
   ],
   "source": [
    "import numpy as np\n",
    "from scipy import stats\n",
    "\n",
    "# Generate example data\n",
    "np.random.seed(42)\n",
    "n_samples = 100\n",
    "\n",
    "# Variables X and Y are influenced by Z, but not directly related\n",
    "X = np.random.rand(n_samples) + np.random.normal(scale=0.2, size=n_samples)\n",
    "Y = np.random.rand(n_samples) + np.random.normal(scale=0.2, size=n_samples)\n",
    "Z = 2*X + np.random.normal(scale=0.2, size=n_samples) + np.random.normal(scale=0.2, size=n_samples)\n",
    "\n",
    "# Calculate partial correlation between X and Y controlling for Z\n",
    "partial_corr_XY_Z1, _ = stats.pearsonr(X - Z * (np.corrcoef(X, Z)[0, 1]), \n",
    "                                       Y - Z * (np.corrcoef(Y, Z)[0, 1]))\n",
    "\n",
    "partial_corr_XY_Z2, _ = stats.pearsonr(Y - Z * (np.corrcoef(Y, Z)[0, 1]), \n",
    "                                       X - Z * (np.corrcoef(X, Z)[0, 1]))\n",
    "\n",
    "print(\"Partial Correlation between X and Y controlling for Z (X->Y):\", partial_corr_XY_Z1)\n",
    "print(\"Partial Correlation between X and Y controlling for Z (Y->X):\", partial_corr_XY_Z2)\n",
    "\n"
   ]
  },
  {
   "cell_type": "code",
   "execution_count": 10,
   "metadata": {},
   "outputs": [],
   "source": [
    "from clustering import *"
   ]
  },
  {
   "cell_type": "code",
   "execution_count": null,
   "metadata": {},
   "outputs": [],
   "source": [
    "catFR_dir = '/scratch/efeghhi/catFR1/ENCODING'\n",
    "region_name = 'HPC'\n",
    "load_data_pooled(catFR_dir, region_name)"
   ]
  }
 ],
 "metadata": {
  "kernelspec": {
   "display_name": "env3",
   "language": "python",
   "name": "python3"
  },
  "language_info": {
   "codemirror_mode": {
    "name": "ipython",
    "version": 3
   },
   "file_extension": ".py",
   "mimetype": "text/x-python",
   "name": "python",
   "nbconvert_exporter": "python",
   "pygments_lexer": "ipython3",
   "version": "3.7.5"
  },
  "orig_nbformat": 4
 },
 "nbformat": 4,
 "nbformat_minor": 2
}
