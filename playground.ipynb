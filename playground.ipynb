{
 "cells": [
  {
   "cell_type": "code",
   "execution_count": null,
   "metadata": {},
   "outputs": [],
   "source": [
    "'''\n",
    "ripplelogic: (num_trials x trial_length)\n",
    "'''\n",
    "\n",
    "ripplelogic = orig_eeg_rip >= candidate_thresh # will evaluate to true squared signal is above threshold\n",
    "ripplelogic[iedlogic==1] = 0 # convert above threshold events to false if they are an IED\n",
    "\n",
    "temp_trial = np.zeros(trial_length)\n",
    "for i in range(len(starts)):\n",
    "    temp_trial[starts[i]:ends[i]]=1\n",
    "ripplelogic[trial] = temp_trial \n"
   ]
  }
 ],
 "metadata": {
  "language_info": {
   "name": "python"
  },
  "orig_nbformat": 4
 },
 "nbformat": 4,
 "nbformat_minor": 2
}
