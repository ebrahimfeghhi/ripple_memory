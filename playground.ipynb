{
 "cells": [
  {
   "cell_type": "code",
   "execution_count": 1,
   "metadata": {},
   "outputs": [
    {
     "name": "stderr",
     "output_type": "stream",
     "text": [
      "/home1/efeghhi/.conda/envs/env1/lib/python3.7/site-packages/ptsa/data/timeseries.py:526: FutureWarning: xarray subclass TimeSeriesX should explicitly define __slots__\n",
      "  class TimeSeriesX(TimeSeries):\n",
      "/home1/efeghhi/.conda/envs/env1/lib/python3.7/site-packages/statsmodels/tools/_testing.py:19: FutureWarning: pandas.util.testing is deprecated. Use the functions in the public API at pandas.testing instead.\n",
      "  import pandas.util.testing as tm\n"
     ]
    }
   ],
   "source": [
    "import pandas as pd; pd.set_option('display.max_columns', 30); pd.set_option('display.max_rows', 100)\n",
    "import numpy as np\n",
    "from cmlreaders import CMLReader, get_data_index\n",
    "from ptsa.data.filters import ButterworthFilter, ResampleFilter, MorletWaveletFilter\n",
    "import xarray as xarray\n",
    "import sys\n",
    "import os\n",
    "import matplotlib.pyplot as plt\n",
    "from pylab import *\n",
    "from copy import copy\n",
    "from scipy import stats\n",
    "from scipy.stats import zscore\n",
    "import seaborn as sns       \n",
    "import pickle\n",
    "plt.rcParams['pdf.fonttype'] = 42; plt.rcParams['ps.fonttype'] = 42 # fix fonts for Illustrator\n",
    "sys.path.append('/home1/john/johnModules')\n",
    "from brain_labels import HPC_labels, ENT_labels, PHC_labels, temporal_lobe_labels,\\\n",
    "                         MFG_labels, IFG_labels, nonHPC_MTL_labels\n",
    "from general import *\n",
    "from SWRmodule import *\n",
    "import statsmodels.formula.api as smf\n",
    "from ripples_HFA_analysis import ripple_HFA_analysis\n",
    "from ripples_HFA_SME import ripple_analysis_SME\n"
   ]
  },
  {
   "cell_type": "code",
   "execution_count": 2,
   "metadata": {},
   "outputs": [],
   "source": [
    "# init variables\n",
    "df = get_data_index(\"r1\") # all RAM subjects\n",
    "exp = 'catFR1' # 'FR1' 'catFR1' 'RepFR1'\n",
    "ripple_bin_start_end = [100, 1100]\n",
    "region_name = 'AMY'\n",
    "regions_selected = ['ca1']\n",
    "rs_str = ''\n",
    "num_regions = len(regions_selected)\n",
    "sub_selection = 'first_half'\n",
    "data_folder = 'SWR_scratch'"
   ]
  },
  {
   "cell_type": "code",
   "execution_count": 11,
   "metadata": {},
   "outputs": [
    {
     "name": "stderr",
     "output_type": "stream",
     "text": [
      "/home1/efeghhi/ripple_memory/ripples_HFA_analysis.py:85: UserWarning: Boolean Series key will be reindexed to match DataFrame index.\n",
      "  ((self.df.subject!='R1239E') | (self.df.session!=0)) # some correlated noise (can see in catFR1 problem sessions ppt)\n"
     ]
    },
    {
     "name": "stdout",
     "output_type": "stream",
     "text": [
      "catFR1\n",
      "No trials in either hpc or other brain region\n",
      "No trials in either hpc or other brain region\n",
      "No trials in either hpc or other brain region\n",
      "No trials in either hpc or other brain region\n",
      "No trials in either hpc or other brain region\n",
      "No trials in either hpc or other brain region\n",
      "No trials in either hpc or other brain region\n",
      "No trials in either hpc or other brain region\n",
      "2023-04-21_15-26-29: DF Exception: Sub: R1147P, Sess: 0, FileNotFoundError, [Errno 2] No such file or directory: '/scratch/john/SWR_scratch/ENCODING/SWR_catFR1_R1147P_0_HPC_encoding_soz_in_hamming.p', file: ripples_HFA_analysis.py, line no: 163\n",
      "2023-04-21_15-26-29: DF Exception: Sub: R1171M, Sess: 0, FileNotFoundError, [Errno 2] No such file or directory: '/scratch/john/SWR_scratch/ENCODING/SWR_catFR1_R1171M_0_AMY_encoding_soz_in_hamming.p', file: ripples_HFA_analysis.py, line no: 182\n",
      "No trials in either hpc or other brain region\n",
      "No trials in either hpc or other brain region\n",
      "No trials in either hpc or other brain region\n",
      "No trials in either hpc or other brain region\n",
      "No hpc ripples\n",
      "No hpc ripples\n",
      "No hpc ripples\n",
      "No trials in either hpc or other brain region\n",
      "No ipsilateral hpc contacts\n",
      "No ipsilateral hpc contacts\n",
      "No ipsilateral hpc contacts\n",
      "No trials in either hpc or other brain region\n",
      "No ipsilateral hpc contacts\n",
      "No trials in either hpc or other brain region\n",
      "No trials in either hpc or other brain region\n",
      "No trials in either hpc or other brain region\n",
      "No trials in either hpc or other brain region\n",
      "No trials in either hpc or other brain region\n",
      "No trials in either hpc or other brain region\n",
      "No ipsilateral hpc contacts\n",
      "2023-04-21_15-26-29: DF Exception: Sub: R1269E, Sess: 1, FileNotFoundError, [Errno 2] No such file or directory: '/scratch/john/SWR_scratch/ENCODING/SWR_catFR1_R1269E_1_HPC_encoding_soz_in_hamming.p', file: ripples_HFA_analysis.py, line no: 163\n",
      "No ipsilateral hpc contacts\n",
      "2023-04-21_15-26-29: DF Exception: Sub: R1269E, Sess: 3, FileNotFoundError, [Errno 2] No such file or directory: '/scratch/john/SWR_scratch/ENCODING/SWR_catFR1_R1269E_3_HPC_encoding_soz_in_hamming.p', file: ripples_HFA_analysis.py, line no: 163\n",
      "No trials in either hpc or other brain region\n",
      "No trials in either hpc or other brain region\n",
      "No trials in either hpc or other brain region\n",
      "No trials in either hpc or other brain region\n",
      "No trials in either hpc or other brain region\n",
      "No trials in either hpc or other brain region\n",
      "No trials in either hpc or other brain region\n",
      "No trials in either hpc or other brain region\n",
      "2023-04-21_15-26-29: DF Exception: Sub: R1354E, Sess: 0, FileNotFoundError, [Errno 2] No such file or directory: '/scratch/john/SWR_scratch/ENCODING/SWR_catFR1_R1354E_0_HPC_encoding_soz_in_hamming.p', file: ripples_HFA_analysis.py, line no: 163\n",
      "No trials in either hpc or other brain region\n",
      "No trials in either hpc or other brain region\n",
      "No trials in either hpc or other brain region\n",
      "2023-04-21_15-26-29: DF Exception: Sub: R1361C, Sess: 0, FileNotFoundError, [Errno 2] No such file or directory: '/scratch/john/SWR_scratch/ENCODING/SWR_catFR1_R1361C_0_HPC_encoding_soz_in_hamming.p', file: ripples_HFA_analysis.py, line no: 163\n",
      "No trials in either hpc or other brain region\n",
      "No ipsilateral hpc contacts\n",
      "2023-04-21_15-26-29: DF Exception: Sub: R1366J, Sess: 0, FileNotFoundError, [Errno 2] No such file or directory: '/scratch/john/SWR_scratch/ENCODING/SWR_catFR1_R1366J_0_AMY_encoding_soz_in_hamming.p', file: ripples_HFA_analysis.py, line no: 182\n",
      "No trials in either hpc or other brain region\n",
      "No hpc ripples\n",
      "No trials in either hpc or other brain region\n",
      "No hpc ripples\n",
      "No trials in either hpc or other brain region\n",
      "No trials in either hpc or other brain region\n",
      "No ipsilateral hpc contacts\n",
      "2023-04-21_15-26-29: DF Exception: Sub: R1426N, Sess: 1, FileNotFoundError, [Errno 2] No such file or directory: '/scratch/john/SWR_scratch/ENCODING/SWR_catFR1_R1426N_1_HPC_encoding_soz_in_hamming.p', file: ripples_HFA_analysis.py, line no: 163\n",
      "No ipsilateral hpc contacts\n",
      "No trials in either hpc or other brain region\n",
      "No trials in either hpc or other brain region\n",
      "No ipsilateral hpc contacts\n",
      "No ipsilateral hpc contacts\n",
      "No ipsilateral hpc contacts\n",
      "No ipsilateral hpc contacts\n",
      "No hpc ripples\n",
      "No trials in either hpc or other brain region\n",
      "No trials in either hpc or other brain region\n",
      "No trials in either hpc or other brain region\n",
      "2023-04-21_15-26-30: DF Exception: Sub: R1463E, Sess: 1, FileNotFoundError, [Errno 2] No such file or directory: '/scratch/john/SWR_scratch/ENCODING/SWR_catFR1_R1463E_1_HPC_encoding_soz_in_hamming.p', file: ripples_HFA_analysis.py, line no: 163\n",
      "2023-04-21_15-26-30: DF Exception: Sub: R1465D, Sess: 0, FileNotFoundError, [Errno 2] No such file or directory: '/scratch/john/SWR_scratch/ENCODING/SWR_catFR1_R1465D_0_AMY_encoding_soz_in_hamming.p', file: ripples_HFA_analysis.py, line no: 182\n",
      "2023-04-21_15-26-30: DF Exception: Sub: R1465D, Sess: 1, FileNotFoundError, [Errno 2] No such file or directory: '/scratch/john/SWR_scratch/ENCODING/SWR_catFR1_R1465D_1_AMY_encoding_soz_in_hamming.p', file: ripples_HFA_analysis.py, line no: 182\n",
      "No ipsilateral hpc contacts\n",
      "2023-04-21_15-26-30: DF Exception: Sub: R1465D, Sess: 3, FileNotFoundError, [Errno 2] No such file or directory: '/scratch/john/SWR_scratch/ENCODING/SWR_catFR1_R1465D_3_HPC_encoding_soz_in_hamming.p', file: ripples_HFA_analysis.py, line no: 163\n",
      "No hpc ripples\n",
      "No hpc ripples\n",
      "No trials in either hpc or other brain region\n",
      "No hpc ripples\n",
      "No hpc ripples\n",
      "No hpc ripples\n",
      "No ipsilateral hpc contacts\n",
      "No ipsilateral hpc contacts\n",
      "No ipsilateral hpc contacts\n",
      "No trials in either hpc or other brain region\n",
      "No trials in either hpc or other brain region\n",
      "No trials in either hpc or other brain region\n",
      "No trials in either hpc or other brain region\n",
      "No trials in either hpc or other brain region\n",
      "No trials in either hpc or other brain region\n",
      "No trials in either hpc or other brain region\n",
      "No trials in either hpc or other brain region\n",
      "No trials in either hpc or other brain region\n",
      "No ipsilateral hpc contacts\n",
      "No ipsilateral hpc contacts\n",
      "No trials in either hpc or other brain region\n",
      "No trials in either hpc or other brain region\n",
      "No trials in either hpc or other brain region\n",
      "No trials in either hpc or other brain region\n",
      "No trials in either hpc or other brain region\n",
      "2023-04-21_15-26-30: DF Exception: Sub: R1498D, Sess: 1, FileNotFoundError, [Errno 2] No such file or directory: '/scratch/john/SWR_scratch/ENCODING/SWR_catFR1_R1498D_1_AMY_encoding_soz_in_hamming.p', file: ripples_HFA_analysis.py, line no: 182\n",
      "2023-04-21_15-26-30: DF Exception: Sub: R1498D, Sess: 2, FileNotFoundError, [Errno 2] No such file or directory: '/scratch/john/SWR_scratch/ENCODING/SWR_catFR1_R1498D_2_AMY_encoding_soz_in_hamming.p', file: ripples_HFA_analysis.py, line no: 182\n",
      "2023-04-21_15-26-30: DF Exception: Sub: R1498D, Sess: 4, FileNotFoundError, [Errno 2] No such file or directory: '/scratch/john/SWR_scratch/ENCODING/SWR_catFR1_R1498D_4_AMY_encoding_soz_in_hamming.p', file: ripples_HFA_analysis.py, line no: 182\n",
      "2023-04-21_15-26-30: DF Exception: Sub: R1498D, Sess: 5, FileNotFoundError, [Errno 2] No such file or directory: '/scratch/john/SWR_scratch/ENCODING/SWR_catFR1_R1498D_5_AMY_encoding_soz_in_hamming.p', file: ripples_HFA_analysis.py, line no: 182\n",
      "No ipsilateral hpc contacts\n",
      "No ipsilateral hpc contacts\n",
      "**Done reading data**\n",
      "From 5/5 sessions with >0 AMY electrodes\n",
      "Total trials: 2631\n",
      "Unique sessions: 5\n",
      "...from 3 patients\n",
      "Number of electrodes: 8\n",
      "Electrode regions X sessions:\n",
      "3 for left amy\n",
      "7 for right amy\n",
      "Ripple array shape after clean up: (2631, 800)\n"
     ]
    },
    {
     "data": {
      "text/plain": [
       "0.0"
      ]
     },
     "execution_count": 11,
     "metadata": {},
     "output_type": "execute_result"
    }
   ],
   "source": [
    "RS_SME = ripple_HFA_analysis(exp, df, sub_selection, data_folder, regions_selected=regions_selected)\n",
    "RS_SME.remove_subject_sessions()\n",
    "RS_SME.load_data_from_cluster(selected_period='encoding', region_name=region_name)"
   ]
  },
  {
   "cell_type": "code",
   "execution_count": 4,
   "metadata": {},
   "outputs": [
    {
     "ename": "IndexError",
     "evalue": "index 2628 is out of bounds for axis 0 with size 2628",
     "output_type": "error",
     "traceback": [
      "\u001b[0;31m---------------------------------------------------------------------------\u001b[0m",
      "\u001b[0;31mIndexError\u001b[0m                                Traceback (most recent call last)",
      "\u001b[0;32m<ipython-input-4-f99c83876d76>\u001b[0m in \u001b[0;36m<module>\u001b[0;34m\u001b[0m\n\u001b[0;32m----> 1\u001b[0;31m \u001b[0mRS_SME\u001b[0m\u001b[0;34m.\u001b[0m\u001b[0mplot_SME_HFA\u001b[0m\u001b[0;34m(\u001b[0m\u001b[0;36m0\u001b[0m\u001b[0;34m,\u001b[0m \u001b[0;34m''\u001b[0m\u001b[0;34m,\u001b[0m \u001b[0;34m''\u001b[0m\u001b[0;34m)\u001b[0m\u001b[0;34m\u001b[0m\u001b[0;34m\u001b[0m\u001b[0m\n\u001b[0m",
      "\u001b[0;32m~/ripple_memory/ripples_HFA_SME.py\u001b[0m in \u001b[0;36mplot_SME_HFA\u001b[0;34m(self, mode, title_str, savePath)\u001b[0m\n\u001b[1;32m     43\u001b[0m         \u001b[0mpad\u001b[0m \u001b[0;34m=\u001b[0m \u001b[0mint\u001b[0m\u001b[0;34m(\u001b[0m\u001b[0mnp\u001b[0m\u001b[0;34m.\u001b[0m\u001b[0mfloor\u001b[0m\u001b[0;34m(\u001b[0m\u001b[0mself\u001b[0m\u001b[0;34m.\u001b[0m\u001b[0msmoothing_triangle\u001b[0m\u001b[0;34m/\u001b[0m\u001b[0;36m2\u001b[0m\u001b[0;34m)\u001b[0m\u001b[0;34m)\u001b[0m\u001b[0;34m\u001b[0m\u001b[0;34m\u001b[0m\u001b[0m\n\u001b[1;32m     44\u001b[0m \u001b[0;34m\u001b[0m\u001b[0m\n\u001b[0;32m---> 45\u001b[0;31m         \u001b[0mHFA_array\u001b[0m\u001b[0;34m,\u001b[0m \u001b[0mword_correct_array\u001b[0m\u001b[0;34m,\u001b[0m \u001b[0msubject_name_array\u001b[0m\u001b[0;34m,\u001b[0m \u001b[0msession_name_array\u001b[0m \u001b[0;34m=\u001b[0m \u001b[0msuper\u001b[0m\u001b[0;34m(\u001b[0m\u001b[0;34m)\u001b[0m\u001b[0;34m.\u001b[0m\u001b[0mseparate_HFA_by_ripple\u001b[0m\u001b[0;34m(\u001b[0m\u001b[0mmode\u001b[0m\u001b[0;34m)\u001b[0m\u001b[0;34m\u001b[0m\u001b[0;34m\u001b[0m\u001b[0m\n\u001b[0m\u001b[1;32m     46\u001b[0m \u001b[0;34m\u001b[0m\u001b[0m\n\u001b[1;32m     47\u001b[0m         \u001b[0mplot_ME_mean\u001b[0m \u001b[0;34m=\u001b[0m \u001b[0;36m1\u001b[0m \u001b[0;31m# 0 for typical PSTH, 1 for ME mean, 2 for average across sub averages\u001b[0m\u001b[0;34m\u001b[0m\u001b[0;34m\u001b[0m\u001b[0m\n",
      "\u001b[0;32m~/ripple_memory/ripples_HFA_analysis.py\u001b[0m in \u001b[0;36mseparate_HFA_by_ripple\u001b[0;34m(self, mode)\u001b[0m\n\u001b[1;32m    489\u001b[0m             \u001b[0m_\u001b[0m\u001b[0;34m,\u001b[0m \u001b[0mselected_idxs\u001b[0m \u001b[0;34m=\u001b[0m \u001b[0mself\u001b[0m\u001b[0;34m.\u001b[0m\u001b[0mripple_idxs_func\u001b[0m\u001b[0;34m(\u001b[0m\u001b[0;34m)\u001b[0m\u001b[0;34m\u001b[0m\u001b[0;34m\u001b[0m\u001b[0m\n\u001b[1;32m    490\u001b[0m \u001b[0;34m\u001b[0m\u001b[0m\n\u001b[0;32m--> 491\u001b[0;31m         \u001b[0mHFA_array\u001b[0m \u001b[0;34m=\u001b[0m \u001b[0mself\u001b[0m\u001b[0;34m.\u001b[0m\u001b[0mHFA_array_np\u001b[0m\u001b[0;34m[\u001b[0m\u001b[0mselected_idxs\u001b[0m\u001b[0;34m]\u001b[0m\u001b[0;34m\u001b[0m\u001b[0;34m\u001b[0m\u001b[0m\n\u001b[0m\u001b[1;32m    492\u001b[0m         \u001b[0mword_correct_array\u001b[0m \u001b[0;34m=\u001b[0m \u001b[0mself\u001b[0m\u001b[0;34m.\u001b[0m\u001b[0mword_correct_array_np\u001b[0m\u001b[0;34m[\u001b[0m\u001b[0mselected_idxs\u001b[0m\u001b[0;34m]\u001b[0m\u001b[0;34m\u001b[0m\u001b[0;34m\u001b[0m\u001b[0m\n\u001b[1;32m    493\u001b[0m         \u001b[0msubject_name_array\u001b[0m \u001b[0;34m=\u001b[0m \u001b[0mself\u001b[0m\u001b[0;34m.\u001b[0m\u001b[0msubject_name_array_np\u001b[0m\u001b[0;34m[\u001b[0m\u001b[0mselected_idxs\u001b[0m\u001b[0;34m]\u001b[0m\u001b[0;34m\u001b[0m\u001b[0;34m\u001b[0m\u001b[0m\n",
      "\u001b[0;31mIndexError\u001b[0m: index 2628 is out of bounds for axis 0 with size 2628"
     ]
    }
   ],
   "source": [
    "RS_SME.plot_SME_HFA(0, '', '')"
   ]
  },
  {
   "cell_type": "code",
   "execution_count": 5,
   "metadata": {},
   "outputs": [
    {
     "data": {
      "text/plain": [
       "(array([], dtype=int64), array([   0,    1,    2, ..., 2625, 2626, 2627]))"
      ]
     },
     "execution_count": 5,
     "metadata": {},
     "output_type": "execute_result"
    }
   ],
   "source": [
    "RS_SME.ripple_idxs_func()"
   ]
  },
  {
   "cell_type": "code",
   "execution_count": 6,
   "metadata": {},
   "outputs": [
    {
     "data": {
      "text/plain": [
       "{'ripple_timesteps': 2631,\n",
       " 'num_ripples': 0,\n",
       " 'num_trials': 2631,\n",
       " 'num_trials_with_ripple': 0,\n",
       " 'num_trials_without_ripple': 2628}"
      ]
     },
     "execution_count": 6,
     "metadata": {},
     "output_type": "execute_result"
    }
   ],
   "source": [
    "RS_SME.analysis_information"
   ]
  },
  {
   "cell_type": "code",
   "execution_count": 8,
   "metadata": {},
   "outputs": [
    {
     "data": {
      "text/plain": [
       "0.0"
      ]
     },
     "execution_count": 8,
     "metadata": {},
     "output_type": "execute_result"
    }
   ],
   "source": [
    "np.sum(RS_SME.ripple_array)"
   ]
  },
  {
   "cell_type": "code",
   "execution_count": null,
   "metadata": {},
   "outputs": [],
   "source": []
  }
 ],
 "metadata": {
  "kernelspec": {
   "display_name": "env1",
   "language": "python",
   "name": "python3"
  },
  "language_info": {
   "codemirror_mode": {
    "name": "ipython",
    "version": 3
   },
   "file_extension": ".py",
   "mimetype": "text/x-python",
   "name": "python",
   "nbconvert_exporter": "python",
   "pygments_lexer": "ipython3",
   "version": "3.7.5"
  },
  "orig_nbformat": 4
 },
 "nbformat": 4,
 "nbformat_minor": 2
}
